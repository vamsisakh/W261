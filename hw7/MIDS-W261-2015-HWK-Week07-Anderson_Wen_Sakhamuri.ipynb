{
 "cells": [
  {
   "cell_type": "markdown",
   "metadata": {},
   "source": [
    "**Names** Safyre Anderson, Howard Wen , Vamsi Sakhamuri\n",
    "\n",
    "**Emails** safyre@berkeley.edu, howard.wen1@gmail.com, vamsi@ischool.berkeley.edu \n",
    "\n",
    "**Time of Initial Submission:** March 10th, 2016 8am PST\n",
    "\n",
    "**Section** W261-3, Spring 2016  \n",
    "\n",
    "**Week** 7 Homework"
   ]
  },
  {
   "cell_type": "markdown",
   "metadata": {},
   "source": [
    "==========================================================\n",
    "## ===HW 7.0: Shortest path graph distances (toy networks)===\n",
    "\n",
    "In this part of your assignment you will develop the base of your code for the week.\n",
    "\n",
    "Write MRJob classes to find shortest path graph distances, \n",
    "as described in the lectures. In addition to finding the distances, \n",
    "your code should also output a distance-minimizing path between the source and target.\n",
    "Work locally for this part of the assignment, and use \n",
    "both of the undirected and directed toy networks.\n",
    "\n",
    "To proof you code's function, run the following jobs\n",
    "\n",
    "- shortest path in the undirected network from node 1 to node 4\n",
    "Solution: 1,5,4 \n",
    "\n",
    "- shortest path in the directed network from node 1 to node 5\n",
    "Solution: 1,2,4,5\n",
    "\n",
    "and report your output---make sure it is correct!\n",
    "\n",
    "================================="
   ]
  },
  {
   "cell_type": "code",
   "execution_count": 14,
   "metadata": {
    "collapsed": false
   },
   "outputs": [
    {
     "name": "stdout",
     "output_type": "stream",
     "text": [
      "Overwriting shortest_path.py\n"
     ]
    }
   ],
   "source": [
    "%%writefile shortest_path.py\n",
    "from mrjob.job import MRJob\n",
    "import sys\n",
    "import ast\n",
    "\n",
    "# This MrJob computes the shortest paths from a single source\n",
    "#     Mapper: calculate partial gradient for each example  \n",
    "#     \n",
    "class shortest_path(MRJob):\n",
    "    # run before the mapper processes any input. \n",
    "    #Adds state and distance information to all the nodes and creates a new file\n",
    "                \n",
    "    # Calculate partial gradient for each example \n",
    "    def mapper(self, _,line):\n",
    "        neighbors = []\n",
    "        edge_info = []\n",
    "        node = line.split('\\t')\n",
    "        edges = ast.literal_eval(node[1])\n",
    "        if(node[4]=='Q'):   ##This node is in the frontier, will be expanded\n",
    "            edge_info = node[1:-1]\n",
    "            edge_info.append(\"V\")\n",
    "            yield node[0],edge_info\n",
    "            for k in edges.keys():\n",
    "                if(k!='NULL'):\n",
    "                    neighbors.append([k,edges[k]])\n",
    "                \n",
    "            for n in neighbors:\n",
    "                yield n[0],[{'NULL':'NULL'},float(node[2])+1,(node[3]+\",\"+node[0]),'Q']\n",
    "        else:\n",
    "            yield node[0],node[1:]\n",
    "                \n",
    "    def merge(self,n0,n1):\n",
    "        node_0 = n0\n",
    "        node_1 = n1\n",
    "        merged_node = [\"OOPS\"]\n",
    "        if(node_0[3]==\"Q\" and node_1[3]==\"U\"):\n",
    "            merged_node = [node_1[0],str(node_0[1]),node_0[2],node_0[3]]\n",
    "        return merged_node\n",
    "  \n",
    "    def reducer_init(self):\n",
    "        filename = self.options.pathName+\"directed_toy_with_state.txt\"\n",
    "        open(filename,\"w\").close()\n",
    "        filenamed = self.options.pathName+\"debug.txt\"\n",
    "        open(filenamed,\"w\").close()\n",
    "    \n",
    "    def reducer(self,key,line):\n",
    "        filename = self.options.pathName+\"directed_toy_with_state.txt\"\n",
    "        count = 0\n",
    "        for l in line:\n",
    "            if(count==0):  \n",
    "                n0 = l\n",
    "                count = count+1\n",
    "                filenamed = self.options.pathName+\"debug.txt\"\n",
    "                with open(filenamed,'a+') as fd:\n",
    "                    fd.write(str(str(key)+str(n0))+\"\\n\")   \n",
    "            else:\n",
    "                n1 = l\n",
    "                count = count+1\n",
    "                filenamed = self.options.pathName+\"debug.txt\"\n",
    "                with open(filenamed,'a+') as fd:\n",
    "                    fd.write(str(str(key)+str(n1))+\"\\n\")\n",
    "        if(count==2): #Merging Required\n",
    "            new = []\n",
    "            count = 0\n",
    "            if(n0[3]==u'Q' and n1[3]!=u'V'):\n",
    "                merged = self.merge(n0,n1)\n",
    "                with open(filename,'a+') as fw:\n",
    "                    fw.writelines(key + \"\\t\" + \"\\t\".join(merged) + \"\\n\")\n",
    "                yield key,merged\n",
    "            elif(n1[3]==u'Q' and n0[3]!=u'V'):\n",
    "                merged = self.merge(n1,n0)\n",
    "                with open(filename,'a+') as fw:\n",
    "                    fw.writelines(key + \"\\t\" + \"\\t\".join(merged) + \"\\n\")\n",
    "                yield key,merged\n",
    "            elif(n0[3]==u'V'):\n",
    "                new.append(str(key))\n",
    "                for n in n0:\n",
    "                    new.append(str(n))\n",
    "                with open(filename,'a+') as fw:\n",
    "                    fw.writelines(\"\\t\".join(new) + \"\\n\")\n",
    "                yield key,n0\n",
    "            elif(n1[3]==u'V'):\n",
    "                new.append(str(key))\n",
    "                for n in n1:\n",
    "                    new.append(str(n))\n",
    "                with open(filename,'a+') as fw:\n",
    "                    fw.writelines(\"\\t\".join(new) + \"\\n\")\n",
    "                yield key,n1                \n",
    "        else:  #No merging required\n",
    "            count = 0\n",
    "            new = []\n",
    "            new.append(str(key))\n",
    "            for n in n0:\n",
    "                new.append(str(n))\n",
    "            with open(filename,'a+') as fw:\n",
    "                fw.writelines(\"\\t\".join(new)+\"\\n\")\n",
    "            yield key,n0\n",
    " \n",
    "    def configure_options(self):\n",
    "        super(shortest_path, self).configure_options()\n",
    "        self.add_passthrough_option(\n",
    "            '--pathName', dest='pathName', default=\"\", type='str',\n",
    "            help='pathName: pathname where intermedateResults.txt is stored')\n",
    "    \n",
    "    def steps(self):\n",
    "        return [self.mr(mapper=self.mapper,reducer_init=self.reducer_init,reducer=self.reducer)] \n",
    "    \n",
    "if __name__ == '__main__':\n",
    "    shortest_path.run()"
   ]
  },
  {
   "cell_type": "code",
   "execution_count": 31,
   "metadata": {
    "collapsed": false
   },
   "outputs": [
    {
     "name": "stderr",
     "output_type": "stream",
     "text": [
      "WARNING:mrjob.runner:\n",
      "WARNING:mrjob.runner:PLEASE NOTE: Starting in mrjob v0.5.0, protocols will be strict by default. It's recommended you run your job with --strict-protocols or set up mrjob.conf as described at https://pythonhosted.org/mrjob/whats-new.html#ready-for-strict-protocols\n",
      "WARNING:mrjob.runner:\n",
      "WARNING:mrjob.job:mr() is deprecated and will be removed in v0.6.0. Use mrjob.step.MRStep directly instead.\n",
      "WARNING:mrjob.job:mr() is deprecated and will be removed in v0.6.0. Use mrjob.step.MRStep directly instead.\n",
      "WARNING:mrjob.job:mr() is deprecated and will be removed in v0.6.0. Use mrjob.step.MRStep directly instead.\n",
      "WARNING:mrjob.job:mr() is deprecated and will be removed in v0.6.0. Use mrjob.step.MRStep directly instead.\n",
      "WARNING:mrjob.job:mr() is deprecated and will be removed in v0.6.0. Use mrjob.step.MRStep directly instead.\n"
     ]
    },
    {
     "name": "stdout",
     "output_type": "stream",
     "text": [
      "\n",
      "iteration  1 \n",
      "\n",
      "1"
     ]
    },
    {
     "name": "stderr",
     "output_type": "stream",
     "text": [
      "WARNING:mrjob.runner:\n",
      "WARNING:mrjob.runner:PLEASE NOTE: Starting in mrjob v0.5.0, protocols will be strict by default. It's recommended you run your job with --strict-protocols or set up mrjob.conf as described at https://pythonhosted.org/mrjob/whats-new.html#ready-for-strict-protocols\n",
      "WARNING:mrjob.runner:\n",
      "WARNING:mrjob.job:mr() is deprecated and will be removed in v0.6.0. Use mrjob.step.MRStep directly instead.\n",
      "WARNING:mrjob.job:mr() is deprecated and will be removed in v0.6.0. Use mrjob.step.MRStep directly instead.\n",
      "WARNING:mrjob.job:mr() is deprecated and will be removed in v0.6.0. Use mrjob.step.MRStep directly instead.\n",
      "WARNING:mrjob.job:mr() is deprecated and will be removed in v0.6.0. Use mrjob.step.MRStep directly instead.\n",
      "WARNING:mrjob.job:mr() is deprecated and will be removed in v0.6.0. Use mrjob.step.MRStep directly instead.\n"
     ]
    },
    {
     "name": "stdout",
     "output_type": "stream",
     "text": [
      " [u\"{'2': 1, '6': 1}\", u'0', u'', u'V']\n",
      "2 [u\"{'1': 1, '3': 1, '4': 1}\", u'1.0', u',1', u'Q']\n",
      "3 [u\"{'2': 1, '4': 1}\", u'9223372036854775807', u'', u'U']\n",
      "4 [u\"{'2': 1, '5': 1}\", u'9223372036854775807', u'', u'U']\n",
      "5 [u\"{'1': 1, '2': 1, '4': 1}\", u'9223372036854775807', u'', u'U']\n",
      "6 [{u'NULL': u'NULL'}, 1.0, u',1', u'Q']\n",
      "\n",
      "iteration  2 \n",
      "\n",
      "1"
     ]
    },
    {
     "name": "stderr",
     "output_type": "stream",
     "text": [
      "WARNING:mrjob.runner:\n",
      "WARNING:mrjob.runner:PLEASE NOTE: Starting in mrjob v0.5.0, protocols will be strict by default. It's recommended you run your job with --strict-protocols or set up mrjob.conf as described at https://pythonhosted.org/mrjob/whats-new.html#ready-for-strict-protocols\n",
      "WARNING:mrjob.runner:\n",
      "WARNING:mrjob.job:mr() is deprecated and will be removed in v0.6.0. Use mrjob.step.MRStep directly instead.\n",
      "WARNING:mrjob.job:mr() is deprecated and will be removed in v0.6.0. Use mrjob.step.MRStep directly instead.\n",
      "WARNING:mrjob.job:mr() is deprecated and will be removed in v0.6.0. Use mrjob.step.MRStep directly instead.\n",
      "WARNING:mrjob.job:mr() is deprecated and will be removed in v0.6.0. Use mrjob.step.MRStep directly instead.\n",
      "WARNING:mrjob.job:mr() is deprecated and will be removed in v0.6.0. Use mrjob.step.MRStep directly instead.\n"
     ]
    },
    {
     "name": "stdout",
     "output_type": "stream",
     "text": [
      " [u\"{'2': 1, '6': 1}\", u'0', u'', u'V']\n",
      "2 [u\"{'1': 1, '3': 1, '4': 1}\", u'1.0', u',1', u'V']\n",
      "3 [u\"{'2': 1, '4': 1}\", u'2.0', u',1,2', u'Q']\n",
      "4 [u\"{'2': 1, '5': 1}\", u'2.0', u',1,2', u'Q']\n",
      "5 [u\"{'1': 1, '2': 1, '4': 1}\", u'9223372036854775807', u'', u'U']\n",
      "6 [u\"{u'NULL': u'NULL'}\", u'1.0', u',1', u'V']\n",
      "\n",
      "iteration  3 \n",
      "\n",
      "1"
     ]
    },
    {
     "name": "stderr",
     "output_type": "stream",
     "text": [
      "WARNING:mrjob.runner:\n",
      "WARNING:mrjob.runner:PLEASE NOTE: Starting in mrjob v0.5.0, protocols will be strict by default. It's recommended you run your job with --strict-protocols or set up mrjob.conf as described at https://pythonhosted.org/mrjob/whats-new.html#ready-for-strict-protocols\n",
      "WARNING:mrjob.runner:\n",
      "WARNING:mrjob.job:mr() is deprecated and will be removed in v0.6.0. Use mrjob.step.MRStep directly instead.\n",
      "WARNING:mrjob.job:mr() is deprecated and will be removed in v0.6.0. Use mrjob.step.MRStep directly instead.\n",
      "WARNING:mrjob.job:mr() is deprecated and will be removed in v0.6.0. Use mrjob.step.MRStep directly instead.\n",
      "WARNING:mrjob.job:mr() is deprecated and will be removed in v0.6.0. Use mrjob.step.MRStep directly instead.\n",
      "WARNING:mrjob.job:mr() is deprecated and will be removed in v0.6.0. Use mrjob.step.MRStep directly instead.\n"
     ]
    },
    {
     "name": "stdout",
     "output_type": "stream",
     "text": [
      " [u\"{'2': 1, '6': 1}\", u'0', u'', u'V']\n",
      "2 [u\"{'1': 1, '3': 1, '4': 1}\", u'1.0', u',1', u'V']\n",
      "3 [u\"{'2': 1, '4': 1}\", u'2.0', u',1,2', u'V']\n",
      "4 [u\"{'2': 1, '5': 1}\", u'2.0', u',1,2', u'V']\n",
      "5 [u\"{'1': 1, '2': 1, '4': 1}\", u'3.0', u',1,2,4', u'Q']\n",
      "6 [u\"{u'NULL': u'NULL'}\", u'1.0', u',1', u'V']\n",
      "\n",
      "iteration  4 \n",
      "\n",
      "1 [u\"{'2': 1, '6': 1}\", u'0', u'', u'V']\n",
      "2 [u\"{'1': 1, '3': 1, '4': 1}\", u'1.0', u',1', u'V']\n",
      "3 [u\"{'2': 1, '4': 1}\", u'2.0', u',1,2', u'V']\n",
      "4 [u\"{'2': 1, '5': 1}\", u'2.0', u',1,2', u'V']\n",
      "5 [u\"{'1': 1, '2': 1, '4': 1}\", u'3.0', u',1,2,4', u'V']\n",
      "6 [u\"{u'NULL': u'NULL'}\", u'1.0', u',1', u'V']\n",
      "Done- All nodes have been visited\n"
     ]
    }
   ],
   "source": [
    "%reload_ext autoreload\n",
    "%autoreload 2\n",
    "\n",
    "from numpy import random,array\n",
    "from shortest_path import shortest_path\n",
    "import sys\n",
    "\n",
    "first = True\n",
    "\n",
    "#Transforming the directed_toy.txt to included state,distance,path information\n",
    "with open('directed_toy.txt', 'r') as fr:\n",
    "    for f in fr:\n",
    "        adj_list = []\n",
    "        adjl = f.strip().split('\\t')\n",
    "        if(first==True):\n",
    "            adj_list.append(adjl[0]) #Node\n",
    "            adj_list.append(adjl[1]) #Edges and Weights\n",
    "            adj_list.append(str(0))  #Shortest Distance\n",
    "            adj_list.append('')    #Shortest Path          \n",
    "            adj_list.append('Q')     #state\n",
    "            first=False\n",
    "        else:\n",
    "            adj_list.append(adjl[0])         #Node\n",
    "            adj_list.append(adjl[1])         #Edges and Weights\n",
    "            adj_list.append(str(sys.maxint)) #Shortest Distance\n",
    "            adj_list.append('')            #Shortest Path\n",
    "            adj_list.append('U')             #state\n",
    "        \n",
    "        with open('directed_toy_with_state.txt','a+') as fw:\n",
    "            fw.writelines('\\t'.join(adj_list)+'\\n')\n",
    "\n",
    "mr_job = shortest_path(args=['directed_toy_with_state.txt','--pathName','/Users/Vamsi/Documents/W261/hw7/']) \n",
    "\n",
    "i = 1\n",
    "while(1):\n",
    "    print \"\\n\",\"iteration \",i,\"\\n\"\n",
    "    unvisited_nodes = 0\n",
    "    with mr_job.make_runner() as runner: \n",
    "        runner.run()\n",
    "        # stream_output: get access of the output \n",
    "        for line in runner.stream_output():\n",
    "            key,value =  mr_job.parse_output_line(line)\n",
    "            print key,value\n",
    "            if(value[3]!=u'V'):\n",
    "                unvisited_nodes = unvisited_nodes + 1\n",
    "            \n",
    "    if(unvisited_nodes==0):\n",
    "        break\n",
    "    i +=1\n",
    "\n",
    "print \"Done- All nodes have been visited\"\n",
    "            "
   ]
  },
  {
   "cell_type": "code",
   "execution_count": 38,
   "metadata": {
    "collapsed": false
   },
   "outputs": [
    {
     "name": "stdout",
     "output_type": "stream",
     "text": [
      "Overwriting shortest_path_undir.py\n"
     ]
    }
   ],
   "source": [
    "%%writefile shortest_path_undir.py\n",
    "from mrjob.job import MRJob\n",
    "import sys\n",
    "import ast\n",
    "\n",
    "# This MrJob computes the shortest paths from a single source\n",
    "#     Mapper: calculate partial gradient for each example  \n",
    "#     \n",
    "class shortest_path_undir(MRJob):\n",
    "    # run before the mapper processes any input. \n",
    "    #Adds state and distance information to all the nodes and creates a new file\n",
    "                \n",
    "    # Calculate partial gradient for each example \n",
    "    def mapper(self, _,line):\n",
    "        neighbors = []\n",
    "        edge_info = []\n",
    "        node = line.split('\\t')\n",
    "        edges = ast.literal_eval(node[1])\n",
    "        if(node[4]=='Q'):   ##This node is in the frontier, will be expanded\n",
    "            edge_info = node[1:-1]\n",
    "            edge_info.append(\"V\")\n",
    "            yield node[0],edge_info\n",
    "            for k in edges.keys():\n",
    "                if(k!='NULL'):\n",
    "                    neighbors.append([k,edges[k]])\n",
    "                \n",
    "            for n in neighbors:\n",
    "                yield n[0],[{'NULL':'NULL'},float(node[2])+1,(node[3]+\",\"+node[0]),'Q']\n",
    "        else:\n",
    "            yield node[0],node[1:]\n",
    "                \n",
    "    def merge(self,n0,n1):\n",
    "        node_0 = n0\n",
    "        node_1 = n1\n",
    "        merged_node = [\"OOPS\"]\n",
    "        if(node_0[3]==\"Q\" and node_1[3]==\"U\"):\n",
    "            merged_node = [node_1[0],str(node_0[1]),node_0[2],node_0[3]]\n",
    "        return merged_node\n",
    "  \n",
    "    def reducer_init(self):\n",
    "        filename = self.options.pathName+\"undirected_toy_with_state.txt\"\n",
    "        open(filename,\"w\").close()\n",
    "        filenamed = self.options.pathName+\"debug.txt\"\n",
    "        open(filenamed,\"a+\").close()\n",
    "    \n",
    "    def reducer(self,key,line):\n",
    "        filename = self.options.pathName+\"undirected_toy_with_state.txt\"\n",
    "        count = 0\n",
    "        for l in line:\n",
    "            if(count==0):  \n",
    "                n0 = l\n",
    "                count = count+1\n",
    "                filenamed = self.options.pathName+\"debug.txt\"\n",
    "                with open(filenamed,'a+') as fd:\n",
    "                    fd.write(str(str(key)+str(n0))+\"\\n\")   \n",
    "            else:\n",
    "                n1 = l\n",
    "                count = count+1\n",
    "                filenamed = self.options.pathName+\"debug.txt\"\n",
    "                with open(filenamed,'a+') as fd:\n",
    "                    fd.write(str(str(key)+str(n1))+\"\\n\")\n",
    "        if(count>1): #Merging Required\n",
    "            new = []\n",
    "            count = 0\n",
    "            if(n0[3]==u'Q' and n1[3]!=u'V'):\n",
    "                merged = self.merge(n0,n1)\n",
    "                with open(filename,'a+') as fw:\n",
    "                    fw.writelines(key + \"\\t\" + \"\\t\".join(merged) + \"\\n\")\n",
    "                yield key,merged\n",
    "            elif(n1[3]==u'Q' and n0[3]!=u'V'):\n",
    "                merged = self.merge(n1,n0)\n",
    "                with open(filename,'a+') as fw:\n",
    "                    fw.writelines(key + \"\\t\" + \"\\t\".join(merged) + \"\\n\")\n",
    "                yield key,merged\n",
    "            elif(n0[3]==u'V'):\n",
    "                new.append(str(key))\n",
    "                for n in n0:\n",
    "                    new.append(str(n))\n",
    "                if(float(n0[1])>float(n1[1])):\n",
    "                    new_dist = n1[1]\n",
    "                    new_path = n1[2]\n",
    "                else:\n",
    "                    new_dist = n0[1]\n",
    "                    new_path = n0[2]\n",
    "                new[2] = new_dist\n",
    "                new[3] = new_path\n",
    "                with open(filename,'a+') as fw:\n",
    "                    fw.writelines(\"\\t\".join(new) + \"\\n\")\n",
    "                #yield key,n0\n",
    "                yield new[0],new[1:]\n",
    "            elif(n1[3]==u'V'):\n",
    "                new.append(str(key))\n",
    "                for n in n1:\n",
    "                    new.append(str(n))    \n",
    "                if(float(n1[1])>float(n0[1])):\n",
    "                    new_dist = n0[1]\n",
    "                    new_path = n0[2]\n",
    "                else:\n",
    "                    new_dist = n1[1]\n",
    "                    new_path = n1[2]\n",
    "                new[2] = new_dist\n",
    "                with open(filename,'a+') as fw:\n",
    "                    fw.writelines(\"\\t\".join(new) + \"\\n\")\n",
    "                #yield key,n1 \n",
    "                yield new[0],new[1:]\n",
    "        else:  #No merging required\n",
    "            count = 0\n",
    "            new = []\n",
    "            new.append(str(key))\n",
    "            for n in n0:\n",
    "                new.append(str(n))\n",
    "            with open(filename,'a+') as fw:\n",
    "                fw.writelines(\"\\t\".join(new)+\"\\n\")\n",
    "            yield key,n0\n",
    " \n",
    "    def reducer_final(self):\n",
    "        filenamed = self.options.pathName+\"debug.txt\"\n",
    "        with open(filenamed,\"a+\") as fd:\n",
    "            fd.write(\"Done with an iteration \\n\")\n",
    "        \n",
    "    def configure_options(self):\n",
    "        super(shortest_path_undir, self).configure_options()\n",
    "        self.add_passthrough_option(\n",
    "            '--pathName', dest='pathName', default=\"\", type='str',\n",
    "            help='pathName: pathname where intermedateResults.txt is stored')\n",
    "    \n",
    "    def steps(self):\n",
    "        return [self.mr(mapper=self.mapper,reducer_init=self.reducer_init,reducer=self.reducer,\n",
    "                        reducer_final=self.reducer_final)] \n",
    "    \n",
    "if __name__ == '__main__':\n",
    "    shortest_path_undir.run()"
   ]
  },
  {
   "cell_type": "code",
   "execution_count": 39,
   "metadata": {
    "collapsed": false
   },
   "outputs": [
    {
     "name": "stderr",
     "output_type": "stream",
     "text": [
      "WARNING:mrjob.runner:\n",
      "WARNING:mrjob.runner:PLEASE NOTE: Starting in mrjob v0.5.0, protocols will be strict by default. It's recommended you run your job with --strict-protocols or set up mrjob.conf as described at https://pythonhosted.org/mrjob/whats-new.html#ready-for-strict-protocols\n",
      "WARNING:mrjob.runner:\n",
      "WARNING:mrjob.job:mr() is deprecated and will be removed in v0.6.0. Use mrjob.step.MRStep directly instead.\n",
      "WARNING:mrjob.job:mr() is deprecated and will be removed in v0.6.0. Use mrjob.step.MRStep directly instead.\n",
      "WARNING:mrjob.job:mr() is deprecated and will be removed in v0.6.0. Use mrjob.step.MRStep directly instead.\n",
      "WARNING:mrjob.job:mr() is deprecated and will be removed in v0.6.0. Use mrjob.step.MRStep directly instead.\n",
      "WARNING:mrjob.job:mr() is deprecated and will be removed in v0.6.0. Use mrjob.step.MRStep directly instead.\n"
     ]
    },
    {
     "name": "stdout",
     "output_type": "stream",
     "text": [
      "\n",
      "iteration  1 \n",
      "\n",
      "1"
     ]
    },
    {
     "name": "stderr",
     "output_type": "stream",
     "text": [
      "WARNING:mrjob.runner:\n",
      "WARNING:mrjob.runner:PLEASE NOTE: Starting in mrjob v0.5.0, protocols will be strict by default. It's recommended you run your job with --strict-protocols or set up mrjob.conf as described at https://pythonhosted.org/mrjob/whats-new.html#ready-for-strict-protocols\n",
      "WARNING:mrjob.runner:\n",
      "WARNING:mrjob.job:mr() is deprecated and will be removed in v0.6.0. Use mrjob.step.MRStep directly instead.\n",
      "WARNING:mrjob.job:mr() is deprecated and will be removed in v0.6.0. Use mrjob.step.MRStep directly instead.\n",
      "WARNING:mrjob.job:mr() is deprecated and will be removed in v0.6.0. Use mrjob.step.MRStep directly instead.\n",
      "WARNING:mrjob.job:mr() is deprecated and will be removed in v0.6.0. Use mrjob.step.MRStep directly instead.\n",
      "WARNING:mrjob.job:mr() is deprecated and will be removed in v0.6.0. Use mrjob.step.MRStep directly instead.\n"
     ]
    },
    {
     "name": "stdout",
     "output_type": "stream",
     "text": [
      " [u\"{'2': 1,'5': 1}\", u'0', u'', u'V']\n",
      "2 [u\"{'1': 1,'3': 1,'4': 1,'5': 1}\", u'1.0', u',1', u'Q']\n",
      "3 [u\"{'2': 1, '4': 1}\", u'9223372036854775807', u'', u'U']\n",
      "4 [u\"{'2': 1,'3': 1,'5': 1}\", u'9223372036854775807', u'', u'U']\n",
      "5 [u\"{'1': 1, '2': 1, '4': 1}\", u'1.0', u',1', u'Q']\n",
      "\n",
      "iteration  2 \n",
      "\n",
      "1"
     ]
    },
    {
     "name": "stderr",
     "output_type": "stream",
     "text": [
      "WARNING:mrjob.runner:\n",
      "WARNING:mrjob.runner:PLEASE NOTE: Starting in mrjob v0.5.0, protocols will be strict by default. It's recommended you run your job with --strict-protocols or set up mrjob.conf as described at https://pythonhosted.org/mrjob/whats-new.html#ready-for-strict-protocols\n",
      "WARNING:mrjob.runner:\n",
      "WARNING:mrjob.job:mr() is deprecated and will be removed in v0.6.0. Use mrjob.step.MRStep directly instead.\n",
      "WARNING:mrjob.job:mr() is deprecated and will be removed in v0.6.0. Use mrjob.step.MRStep directly instead.\n",
      "WARNING:mrjob.job:mr() is deprecated and will be removed in v0.6.0. Use mrjob.step.MRStep directly instead.\n",
      "WARNING:mrjob.job:mr() is deprecated and will be removed in v0.6.0. Use mrjob.step.MRStep directly instead.\n",
      "WARNING:mrjob.job:mr() is deprecated and will be removed in v0.6.0. Use mrjob.step.MRStep directly instead.\n"
     ]
    },
    {
     "name": "stdout",
     "output_type": "stream",
     "text": [
      " [u\"{'2': 1,'5': 1}\", u'0', u'', u'V']\n",
      "2 [u\"{'1': 1,'3': 1,'4': 1,'5': 1}\", u'1.0', u',1', u'V']\n",
      "3 [u\"{'2': 1, '4': 1}\", u'2.0', u',1,2', u'Q']\n",
      "4 [u\"{'2': 1,'3': 1,'5': 1}\", u'2.0', u',1,5', u'Q']\n",
      "5 [u\"{'1': 1, '2': 1, '4': 1}\", u'1.0', u',1', u'V']\n",
      "\n",
      "iteration  3 \n",
      "\n",
      "1 [u\"{'2': 1,'5': 1}\", u'0', u'', u'V']\n",
      "2 [u\"{'1': 1,'3': 1,'4': 1,'5': 1}\", u'1.0', u',1', u'V']\n",
      "3 [u\"{'2': 1, '4': 1}\", u'2.0', u',1,2', u'V']\n",
      "4 [u\"{'2': 1,'3': 1,'5': 1}\", u'2.0', u',1,5', u'V']\n",
      "5 [u\"{'1': 1, '2': 1, '4': 1}\", u'1.0', u',1', u'V']\n",
      "Done- All nodes have been visited\n"
     ]
    }
   ],
   "source": [
    "%reload_ext autoreload\n",
    "%autoreload 2\n",
    "\n",
    "from numpy import random,array\n",
    "from shortest_path_undir import shortest_path_undir\n",
    "import sys\n",
    "\n",
    "first = True\n",
    "\n",
    "#Transforming the directed_toy.txt to included state,distance,path information\n",
    "with open('undirected_toy.txt', 'r') as fr:\n",
    "    for f in fr:\n",
    "        adj_list = []\n",
    "        adjl = f.strip().split('\\t')\n",
    "        if(first==True):\n",
    "            adj_list.append(adjl[0]) #Node\n",
    "            adj_list.append(adjl[1]) #Edges and Weights\n",
    "            adj_list.append(str(0))  #Shortest Distance\n",
    "            adj_list.append('')    #Shortest Path          \n",
    "            adj_list.append('Q')     #state\n",
    "            first=False\n",
    "        else:\n",
    "            adj_list.append(adjl[0])         #Node\n",
    "            adj_list.append(adjl[1])         #Edges and Weights\n",
    "            adj_list.append(str(sys.maxint)) #Shortest Distance\n",
    "            adj_list.append('')            #Shortest Path\n",
    "            adj_list.append('U')             #state\n",
    "        \n",
    "        with open('undirected_toy_with_state.txt','a+') as fw:\n",
    "            fw.writelines('\\t'.join(adj_list)+'\\n')\n",
    "\n",
    "mr_job = shortest_path_undir(args=['undirected_toy_with_state.txt','--pathName','/Users/Vamsi/Documents/W261/hw7/']) \n",
    "\n",
    "i = 1\n",
    "while(1):\n",
    "    print \"\\n\",\"iteration \",i,\"\\n\"\n",
    "    unvisited_nodes = 0\n",
    "    with mr_job.make_runner() as runner: \n",
    "        runner.run()\n",
    "        # stream_output: get access of the output \n",
    "        for line in runner.stream_output():\n",
    "            key,value =  mr_job.parse_output_line(line)\n",
    "            print key,value\n",
    "            if(value[3]!=u'V'):\n",
    "                unvisited_nodes = unvisited_nodes + 1\n",
    "            \n",
    "    if(unvisited_nodes==0):\n",
    "        break\n",
    "    i +=1\n",
    "\n",
    "print \"Done- All nodes have been visited\"\n",
    "            "
   ]
  },
  {
   "cell_type": "code",
   "execution_count": 1,
   "metadata": {
    "collapsed": false
   },
   "outputs": [
    {
     "name": "stdout",
     "output_type": "stream",
     "text": [
      "2016-02-19 05:11:54 aws-logs-692737309588-us-west-2\r\n",
      "2015-12-04 08:04:40 elasticbeanstalk-us-east-1-692737309588\r\n",
      "2016-02-19 20:50:31 mrjob-96686d663e1e0826\r\n",
      "2016-02-19 20:48:09 test_bbucket\r\n"
     ]
    }
   ],
   "source": [
    "!aws s3 ls"
   ]
  },
  {
   "cell_type": "code",
   "execution_count": 12,
   "metadata": {
    "collapsed": false
   },
   "outputs": [
    {
     "name": "stdout",
     "output_type": "stream",
     "text": [
      "2015-10-21 13:42:54     705298 synNet.txt\r\n"
     ]
    }
   ],
   "source": [
    "!aws s3 ls s3://ucb-mids-mls-networks/synNet/synNet.txt"
   ]
  },
  {
   "cell_type": "code",
   "execution_count": 13,
   "metadata": {
    "collapsed": false
   },
   "outputs": [
    {
     "name": "stdout",
     "output_type": "stream",
     "text": [
      "A client error (403) occurred when calling the HeadObject operation: Forbidden\r\n",
      "Completed 1 part(s) with ... file(s) remaining\r",
      "\r\n"
     ]
    }
   ],
   "source": [
    "!aws s3 cp s3://ucb-mids-mls-networks/synNet/synNet.txt /Users/Vamsi"
   ]
  },
  {
   "cell_type": "markdown",
   "metadata": {},
   "source": [
    "## =================================\n",
    "## ==Main dataset 1: NLTK synonyms==\n",
    "\n",
    "In the next part of this assignment you will explore a network derived from\n",
    "the NLTK synonym database used for evaluation in HW 5. At a high level, this\n",
    "network is undirected, defined so that there exists link between two nodes/words \n",
    "if the pair or words are a synonym. These data may be found at the location:\n",
    "\n",
    "s3://ucb-mids-mls-networks/synNet/synNet.txt  \n",
    "s3://ucb-mids-mls-networks/synNet/indices.txt\n",
    "On under the Data Subfolder for HW7 on Dropbox with the same file names\n",
    "\n",
    "where synNet.txt contains a sparse representation of the network:\n",
    "\n",
    "(index) \\t (dictionary of links)\n",
    "\n",
    "in indexed form, and indices.txt contains a lookup list\n",
    "\n",
    "(word) \\t (index)\n",
    "\n",
    "of indices and words. This network is small enough for you to explore and run\n",
    "scripts locally, but will also be good for a systems test (for later) on AWS.\n",
    "\n",
    "In the dictionary, target nodes are keys, link weights are values \n",
    "(here, all weights are 1, i.e., the network is unweighted).\n"
   ]
  },
  {
   "cell_type": "markdown",
   "metadata": {},
   "source": [
    "## =======================================================\n",
    "## ===HW 7.1: Exploratory data analysis (NLTK synonyms)===\n",
    "\n",
    "Using MRJob, explore the synonyms network data.\n",
    "Consider plotting the degree distribution (does it follow a power law?),\n",
    "and determine some of the key features, like:\n",
    "\n",
    "number of nodes,  \n",
    "number links,  \n",
    "or the average degree (i.e., the average number of links per node),  \n",
    "etc...  \n",
    "\n",
    "As you develop your code, please be sure to run it locally first (though on the whole dataset). \n",
    "Once you have gotten you code to run locally, deploy it on AWS as a systems test\n",
    "in preparation for our next dataset (which will require AWS)."
   ]
  },
  {
   "cell_type": "code",
   "execution_count": 43,
   "metadata": {
    "collapsed": false
   },
   "outputs": [
    {
     "name": "stdout",
     "output_type": "stream",
     "text": [
      "Overwriting nltk_stats.py\n"
     ]
    }
   ],
   "source": [
    "%%writefile nltk_stats.py\n",
    "from mrjob.job import MRJob\n",
    "import sys\n",
    "import ast\n",
    "\n",
    "# This MrJob computes the shortest paths from a single source\n",
    "#     Mapper: calculate partial gradient for each example  \n",
    "#     \n",
    "class nltk_stats(MRJob):\n",
    "    # run before the mapper processes any input. \n",
    "    #Adds state and distance information to all the nodes and creates a new file\n",
    "                \n",
    "    # Calculate partial gradient for each example \n",
    "    def mapper(self, _,line):\n",
    "        total = line.split('\\t')\n",
    "        node = total[0]\n",
    "        edge = total[1]\n",
    "        edges = ast.literal_eval(edge)       \n",
    "        yield node,len(edges)\n",
    "    \n",
    "    def reducer(self,key,value):\n",
    "        for v in value:\n",
    "            yield key,v\n",
    "        \n",
    "         \n",
    "    def configure_options(self):\n",
    "        super(nltk_stats, self).configure_options()\n",
    "        self.add_passthrough_option(\n",
    "            '--pathName', dest='pathName', default=\"\", type='str',\n",
    "            help='pathName: pathname where intermedateResults.txt is stored')\n",
    "    \n",
    "    def steps(self):\n",
    "        return [self.mr(mapper=self.mapper,reducer=self.reducer)] \n",
    "    \n",
    "if __name__ == '__main__':\n",
    "    nltk_stats.run()"
   ]
  },
  {
   "cell_type": "code",
   "execution_count": null,
   "metadata": {
    "collapsed": true
   },
   "outputs": [],
   "source": []
  },
  {
   "cell_type": "code",
   "execution_count": null,
   "metadata": {
    "collapsed": false
   },
   "outputs": [
    {
     "name": "stderr",
     "output_type": "stream",
     "text": [
      "WARNING:mrjob.runner:\n",
      "WARNING:mrjob.runner:PLEASE NOTE: Starting in mrjob v0.5.0, protocols will be strict by default. It's recommended you run your job with --strict-protocols or set up mrjob.conf as described at https://pythonhosted.org/mrjob/whats-new.html#ready-for-strict-protocols\n",
      "WARNING:mrjob.runner:\n",
      "WARNING:mrjob.job:mr() is deprecated and will be removed in v0.6.0. Use mrjob.step.MRStep directly instead.\n",
      "WARNING:mrjob.job:mr() is deprecated and will be removed in v0.6.0. Use mrjob.step.MRStep directly instead.\n",
      "WARNING:mrjob.job:mr() is deprecated and will be removed in v0.6.0. Use mrjob.step.MRStep directly instead.\n"
     ]
    }
   ],
   "source": [
    "%reload_ext autoreload\n",
    "%autoreload 2\n",
    "\n",
    "from numpy import random,array\n",
    "from nltk_stats import nltk_stats\n",
    "import sys\n",
    "\n",
    "mr_job = nltk_stats(args=['synNet.txt','--pathName','/Users/Vamsi/Documents/W261/hw7/']) \n",
    "#mr_job = nltk_stats(args=['s3://ucb-mids-mls-networks/synNet/synNet.txt','-r','emr'])\n",
    "\n",
    "total_nodes = 0\n",
    "total_links = 0\n",
    "num_links_acc = []\n",
    "with mr_job.make_runner() as runner: \n",
    "    runner.run()\n",
    "    # stream_output: get access of the output \n",
    "    for line in runner.stream_output():\n",
    "        node,num_links =  mr_job.parse_output_line(line)\n",
    "        total_nodes = total_nodes+1\n",
    "        total_links = total_links+int(num_links)\n",
    "        num_links_acc.append([float(node),num_links])\n",
    "\n",
    "avg_degree = total_links/float(total_nodes)\n",
    "\n",
    "print \"Total number of nodes in the graph is : \",total_nodes\n",
    "print \"Average degree (total_links/total_nodes) of the graph is : \",avg_degree\n",
    "print \"Total number of links/edges in the graph are : \",total_links/2"
   ]
  },
  {
   "cell_type": "code",
   "execution_count": 1,
   "metadata": {
    "collapsed": false
   },
   "outputs": [],
   "source": [
    "%matplotlib inline"
   ]
  },
  {
   "cell_type": "code",
   "execution_count": 43,
   "metadata": {
    "collapsed": false
   },
   "outputs": [
    {
     "data": {
      "image/png": "[encoded data removed]",
      "text/plain": [
       "<matplotlib.figure.Figure at 0x109bc9750>"
      ]
     },
     "metadata": {},
     "output_type": "display_data"
    }
   ],
   "source": [
    "#Plot\n",
    "import numpy as np\n",
    "import matplotlib.pyplot as plt\n",
    "\n",
    "num_links_acc = np.array(num_links_acc)\n",
    "sorted_link_count = np.sort(num_links_acc[:,1])\n",
    "plt.plot(sorted_link_count)\n",
    "plt.ylabel(\"Number of edges\")\n",
    "plt.xlabel(\"Any given node\")\n",
    "plt.show()"
   ]
  },
  {
   "cell_type": "markdown",
   "metadata": {},
   "source": [
    "Yes, the degree distribution (number of edges) follows a square law."
   ]
  }
 ],
 "metadata": {
  "kernelspec": {
   "display_name": "Python 2",
   "language": "python",
   "name": "python2"
  },
  "language_info": {
   "codemirror_mode": {
    "name": "ipython",
    "version": 2
   },
   "file_extension": ".py",
   "mimetype": "text/x-python",
   "name": "python",
   "nbconvert_exporter": "python",
   "pygments_lexer": "ipython2",
   "version": "2.7.10"
  }
 },
 "nbformat": 4,
 "nbformat_minor": 0
}
