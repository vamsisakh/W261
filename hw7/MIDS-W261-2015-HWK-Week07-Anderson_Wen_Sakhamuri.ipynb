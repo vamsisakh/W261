{
 "cells": [
  {
   "cell_type": "markdown",
   "metadata": {},
   "source": [
    "**Names** Safyre Anderson, Howard Wen , Vamsi Sakhamuri\n",
    "\n",
    "**Emails** safyre@berkeley.edu, howard.wen1@gmail.com, vamsi@ischool.berkeley.edu \n",
    "\n",
    "**Time of Initial Submission:** March 10th, 2016 8am PST\n",
    "\n",
    "**Section** W261-3, Spring 2016  \n",
    "\n",
    "**Week** 7 Homework"
   ]
  },
  {
   "cell_type": "markdown",
   "metadata": {},
   "source": [
    "==========================================================\n",
    "## ===HW 7.0: Shortest path graph distances (toy networks)===\n",
    "\n",
    "In this part of your assignment you will develop the base of your code for the week.\n",
    "\n",
    "Write MRJob classes to find shortest path graph distances, \n",
    "as described in the lectures. In addition to finding the distances, \n",
    "your code should also output a distance-minimizing path between the source and target.\n",
    "Work locally for this part of the assignment, and use \n",
    "both of the undirected and directed toy networks.\n",
    "\n",
    "To proof you code's function, run the following jobs\n",
    "\n",
    "- shortest path in the undirected network from node 1 to node 4\n",
    "Solution: 1,5,4 \n",
    "\n",
    "- shortest path in the directed network from node 1 to node 5\n",
    "Solution: 1,2,4,5\n",
    "\n",
    "and report your output---make sure it is correct!\n",
    "\n",
    "================================="
   ]
  },
  {
   "cell_type": "markdown",
   "metadata": {},
   "source": [
    "### Answer:\n",
    "To begin solving SSSP problems, we need to create some base code for a graph traversal in a distributed environment. Here we test on unweighted undirected and directed graphs. Our MRjob is based off of Dijkstra's Breadth First Search algorithm which--though accurate--is normally run locally and not a good solution for big data. In general, Dijkstra's algorithm for SSSP assigns states to vertices in order to keep track of which vertices have been visited or not. There are 3 states defined: Frontier vertices ('Q') which are on the current level of the traveral, Visited ('V') which have already been traversed and given a shortest path, and Unvisited ('U') which have not yet been traversed. Using these states and knowing the distances or \"weights\" of the edges, we can accumulate paths and their lengths as we traverse from the source node to all the other nodes in the graph.\n",
    "\n",
    "Before the first mapper, the nodes are assigned an initial state: The root or \"source\" node is put on the frontier, and the others are labeled unvisited. These initial states are written to a file graph_with_state.txt which is then streamed to the MRjob Next the mapper will set the the source node to visited and emit it's neighbors after setting them to the frontier state. The rest of the nodes are passed straight through with unvisited status. The frontier node and it's expanded nodes are stored in an intermediate file, 'graph_with_states.txt'. All the nodes are emitted from the mapper to the reducer where most of the SSSP calculation is carried out.  \n",
    "\n",
    "In the reducer we set a number of flags to perform different functions for the various cases the algorithm will encounter: the first frontier node with it's expanded neighbors, a frontier node with unvisited neighbors, a frontier node with visited neighbors, and of course unvisited nodes (which just get passed through with unvisited state).  In the first case, the first frontier node has already been set to visited by the mapper and the reducer recieves it's expanded neighbors. The reducer then appends the shortest path of the previous node (which is just the source node) to the destination nodes (the neighbors) and sets these new nodes to the frontier. This approach is almost exactly the same for a new frontier node with unvisited neighbors.  In the third case, if a neighbor of a frontier node has been visited, the reducer looks at it's original shortest path, appends the previous node's shortest path to the new node, and compares the lengths of both paths. Whichever path is shorter is kept as the current shortest path to that destination node. Finaly, visited nodes that are not expanded are passed through as is with unvisited status.\n",
    "\n",
    "These steps are repeated until there are no more nodes on the frontier--all nodes are in the visited state."
   ]
  },
  {
   "cell_type": "code",
   "execution_count": 23,
   "metadata": {
    "collapsed": false
   },
   "outputs": [
    {
     "name": "stdout",
     "output_type": "stream",
     "text": [
      "Overwriting shortest_path.py\n"
     ]
    }
   ],
   "source": [
    "%%writefile shortest_path.py\n",
    "from mrjob.job import MRJob\n",
    "from mrjob.step import MRJobStep\n",
    "import sys\n",
    "import ast\n",
    "\n",
    "# This MrJob computes the shortest paths from a single source\n",
    "#     \n",
    "class shortest_path(MRJob):\n",
    "    #Adds state and distance information to all the nodes and creates a new file\n",
    "    def mapper(self, _,line):\n",
    "        neighbors = []\n",
    "        edge_info = []\n",
    "        node = line.split('\\t')\n",
    "        edges = ast.literal_eval(node[1])\n",
    "        if(node[4]=='Q'):   ##This node is in the frontier, will be expanded\n",
    "            edge_info = node[1:-1]\n",
    "            edge_info.append(\"V\")\n",
    "            yield node[0],edge_info\n",
    "            for k in edges.keys():\n",
    "                if(k!='NULL'):\n",
    "                    neighbors.append([k,edges[k]])\n",
    "                \n",
    "            for n in neighbors:\n",
    "                if(node[3]==' '):\n",
    "                    path = node[0]\n",
    "                else:\n",
    "                    path = node[3]+\",\"+node[0]\n",
    "                    \n",
    "                yield n[0],[{'NULL':'NULL'},float(node[2])+1,path,'Q']\n",
    "        else:\n",
    "            yield node[0],node[1:]\n",
    "                  \n",
    "    def reducer_init(self):\n",
    "        filename = self.options.pathName+\"graph_with_state.txt\"\n",
    "        open(filename,\"w\").close()\n",
    "        filenamed = self.options.pathName+\"debug.txt\"\n",
    "        open(filenamed,\"a+\").close()\n",
    "   \n",
    "    def reducer(self,key,line):\n",
    "        filenamed = self.options.pathName+\"debug.txt\"\n",
    "        filename = self.options.pathName+\"graph_with_state.txt\"\n",
    "        first = True\n",
    "        visited = False\n",
    "        queued = False\n",
    "        unvisited = False\n",
    "\n",
    "        for l in line:\n",
    "            debug = []\n",
    "            for i in l:\n",
    "                debug.append(str(i))\n",
    "            with open(filenamed,'a+') as fd:\n",
    "                fd.writelines(key + \"\\t\" + \"\\t\".join(debug) + \"\\n\")\n",
    "                    \n",
    "            if(l[3]==u'Q'):\n",
    "                if(first==True):\n",
    "                    shortest_dist = (l[1])\n",
    "                    first = False\n",
    "                    shortest_path = l[2]\n",
    "                else:\n",
    "                    if(float(shortest_dist)>=float(l[1])):\n",
    "                        shortest_dist = (l[1])\n",
    "                        shortest_path = l[2]\n",
    "                queued = True\n",
    "            if(l[3]==u'U'):\n",
    "                edges = str(l[0])\n",
    "                unvisited = True\n",
    "                \n",
    "            if(l[3]==u'V'):\n",
    "                shortest_dist_V = (l[1])\n",
    "                shortest_path_V = l[2]\n",
    "                edges = str(l[0])\n",
    "                visited = True\n",
    "            \n",
    "        if(visited==True):\n",
    "            if(queued==True):\n",
    "                if(float(shortest_dist_V) >= float(shortest_dist)):\n",
    "                    shortest_dist_m = shortest_dist\n",
    "                    shortest_path_m = shortest_path\n",
    "                else:\n",
    "                    shortest_dist_m = shortest_dist_V\n",
    "                    shortest_path_m = shortest_path_V\n",
    "            else:\n",
    "                shortest_dist_m = shortest_dist_V\n",
    "                shortest_path_m = shortest_path_V\n",
    "            new_node_info = [edges,str(shortest_dist_m),str(shortest_path_m),'V']\n",
    "        \n",
    "        elif(unvisited==True):\n",
    "            if(queued==True):\n",
    "                shortest_dist_m = shortest_dist\n",
    "                shortest_path_m = shortest_path\n",
    "                new_node_info = [edges,str(shortest_dist_m),str(shortest_path_m),'Q']\n",
    "            else:\n",
    "                new_node_info = [str(l[0]),str(l[1]),str(l[2]),'U']               \n",
    "        \n",
    "        else:\n",
    "            new_node_info = [str(l[0]),str(l[1]),str(l[2]),l[3]]\n",
    "\n",
    "        with open(filename,'a+') as fw:\n",
    "            fw.writelines(key + \"\\t\" + \"\\t\".join(new_node_info) + \"\\n\")\n",
    "        yield key,new_node_info\n",
    " \n",
    "    def reducer_final(self):\n",
    "        filenamed = self.options.pathName+\"debug.txt\"\n",
    "        with open(filenamed,\"a+\") as fd:\n",
    "            fd.write(\"Done with an iteration \\n\")\n",
    "        \n",
    "    def configure_options(self):\n",
    "        super(shortest_path, self).configure_options()\n",
    "        self.add_passthrough_option(\n",
    "            '--pathName', dest='pathName', default=\"\", type='str',\n",
    "            help='pathName: pathname where intermedateResults.txt is stored')\n",
    "    \n",
    "    def steps(self):\n",
    "        return [MRJobStep(mapper=self.mapper,reducer_init=self.reducer_init,reducer=self.reducer,\n",
    "                        reducer_final=self.reducer_final)] \n",
    "    \n",
    "if __name__ == '__main__':\n",
    "    shortest_path.run()"
   ]
  },
  {
   "cell_type": "code",
   "execution_count": 24,
   "metadata": {
    "collapsed": false
   },
   "outputs": [],
   "source": [
    "!rm graph_with_state.txt"
   ]
  },
  {
   "cell_type": "code",
   "execution_count": 25,
   "metadata": {
    "collapsed": false
   },
   "outputs": [
    {
     "name": "stderr",
     "output_type": "stream",
     "text": [
      "WARNING:mrjob.runner:\n",
      "WARNING:mrjob.runner:PLEASE NOTE: Starting in mrjob v0.5.0, protocols will be strict by default. It's recommended you run your job with --strict-protocols or set up mrjob.conf as described at https://pythonhosted.org/mrjob/whats-new.html#ready-for-strict-protocols\n",
      "WARNING:mrjob.runner:\n",
      "WARNING:mrjob.step:MRJobStep has been renamed to MRStep. The old name will be removed in v0.5.0.\n",
      "WARNING:mrjob.step:MRJobStep has been renamed to MRStep. The old name will be removed in v0.5.0.\n",
      "WARNING:mrjob.step:MRJobStep has been renamed to MRStep. The old name will be removed in v0.5.0.\n",
      "WARNING:mrjob.step:MRJobStep has been renamed to MRStep. The old name will be removed in v0.5.0.\n",
      "WARNING:mrjob.step:MRJobStep has been renamed to MRStep. The old name will be removed in v0.5.0.\n"
     ]
    },
    {
     "name": "stdout",
     "output_type": "stream",
     "text": [
      "\n",
      "iteration  1 \n",
      "\n",
      "1"
     ]
    },
    {
     "name": "stderr",
     "output_type": "stream",
     "text": [
      "WARNING:mrjob.runner:\n",
      "WARNING:mrjob.runner:PLEASE NOTE: Starting in mrjob v0.5.0, protocols will be strict by default. It's recommended you run your job with --strict-protocols or set up mrjob.conf as described at https://pythonhosted.org/mrjob/whats-new.html#ready-for-strict-protocols\n",
      "WARNING:mrjob.runner:\n",
      "WARNING:mrjob.step:MRJobStep has been renamed to MRStep. The old name will be removed in v0.5.0.\n",
      "WARNING:mrjob.step:MRJobStep has been renamed to MRStep. The old name will be removed in v0.5.0.\n",
      "WARNING:mrjob.step:MRJobStep has been renamed to MRStep. The old name will be removed in v0.5.0.\n",
      "WARNING:mrjob.step:MRJobStep has been renamed to MRStep. The old name will be removed in v0.5.0.\n",
      "WARNING:mrjob.step:MRJobStep has been renamed to MRStep. The old name will be removed in v0.5.0.\n"
     ]
    },
    {
     "name": "stdout",
     "output_type": "stream",
     "text": [
      " [u\"{'2': 1, '6': 1}\", u'0', u' ', u'V']\n",
      "2 [u\"{'1': 1, '3': 1, '4': 1}\", u'1.0', u'1', u'Q']\n",
      "3 [u\"{'2': 1, '4': 1}\", u'9223372036854775807', u' ', u'U']\n",
      "4 [u\"{'2': 1, '5': 1}\", u'9223372036854775807', u' ', u'U']\n",
      "5 [u\"{'1': 1, '2': 1, '4': 1}\", u'9223372036854775807', u' ', u'U']\n",
      "6 [u\"{u'NULL': u'NULL'}\", u'1.0', u'1', u'Q']\n",
      "\n",
      "iteration  2 \n",
      "\n",
      "1"
     ]
    },
    {
     "name": "stderr",
     "output_type": "stream",
     "text": [
      "WARNING:mrjob.runner:\n",
      "WARNING:mrjob.runner:PLEASE NOTE: Starting in mrjob v0.5.0, protocols will be strict by default. It's recommended you run your job with --strict-protocols or set up mrjob.conf as described at https://pythonhosted.org/mrjob/whats-new.html#ready-for-strict-protocols\n",
      "WARNING:mrjob.runner:\n",
      "WARNING:mrjob.step:MRJobStep has been renamed to MRStep. The old name will be removed in v0.5.0.\n",
      "WARNING:mrjob.step:MRJobStep has been renamed to MRStep. The old name will be removed in v0.5.0.\n",
      "WARNING:mrjob.step:MRJobStep has been renamed to MRStep. The old name will be removed in v0.5.0.\n",
      "WARNING:mrjob.step:MRJobStep has been renamed to MRStep. The old name will be removed in v0.5.0.\n",
      "WARNING:mrjob.step:MRJobStep has been renamed to MRStep. The old name will be removed in v0.5.0.\n"
     ]
    },
    {
     "name": "stdout",
     "output_type": "stream",
     "text": [
      " [u\"{'2': 1, '6': 1}\", u'0', u' ', u'V']\n",
      "2 [u\"{'1': 1, '3': 1, '4': 1}\", u'1.0', u'1', u'V']\n",
      "3 [u\"{'2': 1, '4': 1}\", u'2.0', u'1,2', u'Q']\n",
      "4 [u\"{'2': 1, '5': 1}\", u'2.0', u'1,2', u'Q']\n",
      "5 [u\"{'1': 1, '2': 1, '4': 1}\", u'9223372036854775807', u' ', u'U']\n",
      "6 [u\"{u'NULL': u'NULL'}\", u'1.0', u'1', u'V']\n",
      "\n",
      "iteration  3 \n",
      "\n",
      "1"
     ]
    },
    {
     "name": "stderr",
     "output_type": "stream",
     "text": [
      "WARNING:mrjob.runner:\n",
      "WARNING:mrjob.runner:PLEASE NOTE: Starting in mrjob v0.5.0, protocols will be strict by default. It's recommended you run your job with --strict-protocols or set up mrjob.conf as described at https://pythonhosted.org/mrjob/whats-new.html#ready-for-strict-protocols\n",
      "WARNING:mrjob.runner:\n",
      "WARNING:mrjob.step:MRJobStep has been renamed to MRStep. The old name will be removed in v0.5.0.\n",
      "WARNING:mrjob.step:MRJobStep has been renamed to MRStep. The old name will be removed in v0.5.0.\n",
      "WARNING:mrjob.step:MRJobStep has been renamed to MRStep. The old name will be removed in v0.5.0.\n",
      "WARNING:mrjob.step:MRJobStep has been renamed to MRStep. The old name will be removed in v0.5.0.\n",
      "WARNING:mrjob.step:MRJobStep has been renamed to MRStep. The old name will be removed in v0.5.0.\n"
     ]
    },
    {
     "name": "stdout",
     "output_type": "stream",
     "text": [
      " [u\"{'2': 1, '6': 1}\", u'0', u' ', u'V']\n",
      "2 [u\"{'1': 1, '3': 1, '4': 1}\", u'1.0', u'1', u'V']\n",
      "3 [u\"{'2': 1, '4': 1}\", u'2.0', u'1,2', u'V']\n",
      "4 [u\"{'2': 1, '5': 1}\", u'2.0', u'1,2', u'V']\n",
      "5 [u\"{'1': 1, '2': 1, '4': 1}\", u'3.0', u'1,2,4', u'Q']\n",
      "6 [u\"{u'NULL': u'NULL'}\", u'1.0', u'1', u'V']\n",
      "\n",
      "iteration  4 \n",
      "\n",
      "1 [u\"{'2': 1, '6': 1}\", u'0', u' ', u'V']\n",
      "2 [u\"{'1': 1, '3': 1, '4': 1}\", u'1.0', u'1', u'V']\n",
      "3 [u\"{'2': 1, '4': 1}\", u'2.0', u'1,2', u'V']\n",
      "4 [u\"{'2': 1, '5': 1}\", u'2.0', u'1,2', u'V']\n",
      "5 [u\"{'1': 1, '2': 1, '4': 1}\", u'3.0', u'1,2,4', u'V']\n",
      "6 [u\"{u'NULL': u'NULL'}\", u'1.0', u'1', u'V']\n",
      "Done- All nodes have been visited\n"
     ]
    }
   ],
   "source": [
    "%reload_ext autoreload\n",
    "%autoreload 2\n",
    "\n",
    "from numpy import random,array\n",
    "from shortest_path import shortest_path\n",
    "import sys\n",
    "\n",
    "first = True\n",
    "\n",
    "fa = 'directed_toy.txt'\n",
    "fb = 'graph_with_state.txt'\n",
    "\n",
    "#Transforming the directed_toy.txt to included state,distance,path information\n",
    "with open(fa, 'r') as fr:\n",
    "    for f in fr:\n",
    "        adj_list = []\n",
    "        adjl = f.strip().split('\\t')\n",
    "        if(first==True):\n",
    "            adj_list.append(adjl[0]) #Node\n",
    "            adj_list.append(adjl[1]) #Edges and Weights\n",
    "            adj_list.append(str(0))  #Shortest Distance\n",
    "            adj_list.append(' ')    #Shortest Path          \n",
    "            adj_list.append('Q')     #state\n",
    "            first=False\n",
    "        else:\n",
    "            adj_list.append(adjl[0])         #Node\n",
    "            adj_list.append(adjl[1])         #Edges and Weights\n",
    "            adj_list.append(str(sys.maxint)) #Shortest Distance\n",
    "            adj_list.append(' ')            #Shortest Path\n",
    "            adj_list.append('U')             #state\n",
    "        \n",
    "        with open(fb,'a+') as fw:\n",
    "            fw.writelines('\\t'.join(adj_list)+'\\n')\n",
    "\n",
    "mr_job = shortest_path(args=[fb,'--pathName','/Users/Vamsi/Documents/W261/hw7/']) \n",
    "\n",
    "i = 1\n",
    "while(1):\n",
    "    print \"\\n\",\"iteration \",i,\"\\n\"\n",
    "    unvisited_nodes = 0\n",
    "    with mr_job.make_runner() as runner: \n",
    "        runner.run()\n",
    "        # stream_output: get access of the output \n",
    "        for line in runner.stream_output():\n",
    "            key,value =  mr_job.parse_output_line(line)\n",
    "            print key,value\n",
    "            if(value[3]!=u'V'):\n",
    "                unvisited_nodes = unvisited_nodes + 1\n",
    "            \n",
    "    if(unvisited_nodes==0):\n",
    "        break\n",
    "    i +=1\n",
    "\n",
    "print \"Done- All nodes have been visited\"\n",
    "            "
   ]
  },
  {
   "cell_type": "markdown",
   "metadata": {},
   "source": [
    "**Attention: The output above is in the following format:**\n",
    "\n",
    "`Node [Edges,Shortest Distance,Shortest Path,State]`\n"
   ]
  },
  {
   "cell_type": "code",
   "execution_count": 26,
   "metadata": {
    "collapsed": true
   },
   "outputs": [],
   "source": [
    "!rm graph_with_state.txt"
   ]
  },
  {
   "cell_type": "code",
   "execution_count": 27,
   "metadata": {
    "collapsed": false
   },
   "outputs": [
    {
     "name": "stderr",
     "output_type": "stream",
     "text": [
      "WARNING:mrjob.runner:\n",
      "WARNING:mrjob.runner:PLEASE NOTE: Starting in mrjob v0.5.0, protocols will be strict by default. It's recommended you run your job with --strict-protocols or set up mrjob.conf as described at https://pythonhosted.org/mrjob/whats-new.html#ready-for-strict-protocols\n",
      "WARNING:mrjob.runner:\n",
      "WARNING:mrjob.step:MRJobStep has been renamed to MRStep. The old name will be removed in v0.5.0.\n",
      "WARNING:mrjob.step:MRJobStep has been renamed to MRStep. The old name will be removed in v0.5.0.\n",
      "WARNING:mrjob.step:MRJobStep has been renamed to MRStep. The old name will be removed in v0.5.0.\n",
      "WARNING:mrjob.step:MRJobStep has been renamed to MRStep. The old name will be removed in v0.5.0.\n",
      "WARNING:mrjob.step:MRJobStep has been renamed to MRStep. The old name will be removed in v0.5.0.\n"
     ]
    },
    {
     "name": "stdout",
     "output_type": "stream",
     "text": [
      "\n",
      "iteration  1 \n",
      "\n",
      "1"
     ]
    },
    {
     "name": "stderr",
     "output_type": "stream",
     "text": [
      "WARNING:mrjob.runner:\n",
      "WARNING:mrjob.runner:PLEASE NOTE: Starting in mrjob v0.5.0, protocols will be strict by default. It's recommended you run your job with --strict-protocols or set up mrjob.conf as described at https://pythonhosted.org/mrjob/whats-new.html#ready-for-strict-protocols\n",
      "WARNING:mrjob.runner:\n",
      "WARNING:mrjob.step:MRJobStep has been renamed to MRStep. The old name will be removed in v0.5.0.\n",
      "WARNING:mrjob.step:MRJobStep has been renamed to MRStep. The old name will be removed in v0.5.0.\n",
      "WARNING:mrjob.step:MRJobStep has been renamed to MRStep. The old name will be removed in v0.5.0.\n",
      "WARNING:mrjob.step:MRJobStep has been renamed to MRStep. The old name will be removed in v0.5.0.\n",
      "WARNING:mrjob.step:MRJobStep has been renamed to MRStep. The old name will be removed in v0.5.0.\n"
     ]
    },
    {
     "name": "stdout",
     "output_type": "stream",
     "text": [
      " [u\"{'2': 1,'5': 1}\", u'0', u' ', u'V']\n",
      "2 [u\"{'1': 1,'3': 1,'4': 1,'5': 1}\", u'1.0', u'1', u'Q']\n",
      "3 [u\"{'2': 1, '4': 1}\", u'9223372036854775807', u' ', u'U']\n",
      "4 [u\"{'2': 1,'3': 1,'5': 1}\", u'9223372036854775807', u' ', u'U']\n",
      "5 [u\"{'1': 1, '2': 1, '4': 1}\", u'1.0', u'1', u'Q']\n",
      "\n",
      "iteration  2 \n",
      "\n",
      "1"
     ]
    },
    {
     "name": "stderr",
     "output_type": "stream",
     "text": [
      "WARNING:mrjob.runner:\n",
      "WARNING:mrjob.runner:PLEASE NOTE: Starting in mrjob v0.5.0, protocols will be strict by default. It's recommended you run your job with --strict-protocols or set up mrjob.conf as described at https://pythonhosted.org/mrjob/whats-new.html#ready-for-strict-protocols\n",
      "WARNING:mrjob.runner:\n",
      "WARNING:mrjob.step:MRJobStep has been renamed to MRStep. The old name will be removed in v0.5.0.\n",
      "WARNING:mrjob.step:MRJobStep has been renamed to MRStep. The old name will be removed in v0.5.0.\n",
      "WARNING:mrjob.step:MRJobStep has been renamed to MRStep. The old name will be removed in v0.5.0.\n",
      "WARNING:mrjob.step:MRJobStep has been renamed to MRStep. The old name will be removed in v0.5.0.\n",
      "WARNING:mrjob.step:MRJobStep has been renamed to MRStep. The old name will be removed in v0.5.0.\n"
     ]
    },
    {
     "name": "stdout",
     "output_type": "stream",
     "text": [
      " [u\"{'2': 1,'5': 1}\", u'0', u' ', u'V']\n",
      "2 [u\"{'1': 1,'3': 1,'4': 1,'5': 1}\", u'1.0', u'1', u'V']\n",
      "3 [u\"{'2': 1, '4': 1}\", u'2.0', u'1,2', u'Q']\n",
      "4 [u\"{'2': 1,'3': 1,'5': 1}\", u'2.0', u'1,5', u'Q']\n",
      "5 [u\"{'1': 1, '2': 1, '4': 1}\", u'1.0', u'1', u'V']\n",
      "\n",
      "iteration  3 \n",
      "\n",
      "1 [u\"{'2': 1,'5': 1}\", u'0', u' ', u'V']\n",
      "2 [u\"{'1': 1,'3': 1,'4': 1,'5': 1}\", u'1.0', u'1', u'V']\n",
      "3 [u\"{'2': 1, '4': 1}\", u'2.0', u'1,2', u'V']\n",
      "4 [u\"{'2': 1,'3': 1,'5': 1}\", u'2.0', u'1,5', u'V']\n",
      "5 [u\"{'1': 1, '2': 1, '4': 1}\", u'1.0', u'1', u'V']\n",
      "Done- All nodes have been visited\n"
     ]
    }
   ],
   "source": [
    "%reload_ext autoreload\n",
    "%autoreload 2\n",
    "\n",
    "from numpy import random,array\n",
    "from shortest_path import shortest_path\n",
    "import sys\n",
    "\n",
    "first = True\n",
    "\n",
    "fa = 'undirected_toy.txt'\n",
    "fb = 'graph_with_state.txt'\n",
    "\n",
    "#Transforming the directed_toy.txt to included state,distance,path information\n",
    "with open(fa, 'r') as fr:\n",
    "    for f in fr:\n",
    "        adj_list = []\n",
    "        adjl = f.strip().split('\\t')\n",
    "        if(first==True):\n",
    "            adj_list.append(adjl[0]) #Node\n",
    "            adj_list.append(adjl[1]) #Edges and Weights\n",
    "            adj_list.append(str(0))  #Shortest Distance\n",
    "            adj_list.append(' ')    #Shortest Path          \n",
    "            adj_list.append('Q')     #state\n",
    "            first=False\n",
    "        else:\n",
    "            adj_list.append(adjl[0])         #Node\n",
    "            adj_list.append(adjl[1])         #Edges and Weights\n",
    "            adj_list.append(str(sys.maxint)) #Shortest Distance\n",
    "            adj_list.append(' ')            #Shortest Path\n",
    "            adj_list.append('U')             #state\n",
    "        \n",
    "        with open(fb,'a+') as fw:\n",
    "            fw.writelines('\\t'.join(adj_list)+'\\n')\n",
    "\n",
    "mr_job = shortest_path(args=[fb,'--pathName','/Users/Vamsi/Documents/W261/hw7/']) \n",
    "\n",
    "i = 1\n",
    "while(1):\n",
    "    print \"\\n\",\"iteration \",i,\"\\n\"\n",
    "    unvisited_nodes = 0\n",
    "    with mr_job.make_runner() as runner: \n",
    "        runner.run()\n",
    "        # stream_output: get access of the output \n",
    "        for line in runner.stream_output():\n",
    "            key,value =  mr_job.parse_output_line(line)\n",
    "            print key,value\n",
    "            if(value[3]!=u'V'):\n",
    "                unvisited_nodes = unvisited_nodes + 1\n",
    "            \n",
    "    if(unvisited_nodes==0):\n",
    "        break\n",
    "    i +=1\n",
    "\n",
    "print \"Done- All nodes have been visited\""
   ]
  },
  {
   "cell_type": "markdown",
   "metadata": {},
   "source": [
    "**Attention: The output above is in the following format:**\n",
    "\n",
    "`Node [Edges,Shortest Distance,Shortest Path,State]`\n"
   ]
  },
  {
   "cell_type": "markdown",
   "metadata": {},
   "source": [
    "## =================================\n",
    "## ==Main dataset 1: NLTK synonyms==\n",
    "\n",
    "In the next part of this assignment you will explore a network derived from\n",
    "the NLTK synonym database used for evaluation in HW 5. At a high level, this\n",
    "network is undirected, defined so that there exists link between two nodes/words \n",
    "if the pair or words are a synonym. These data may be found at the location:\n",
    "\n",
    "s3://ucb-mids-mls-networks/synNet/synNet.txt  \n",
    "s3://ucb-mids-mls-networks/synNet/indices.txt\n",
    "On under the Data Subfolder for HW7 on Dropbox with the same file names\n",
    "\n",
    "where synNet.txt contains a sparse representation of the network:\n",
    "\n",
    "(index) \\t (dictionary of links)\n",
    "\n",
    "in indexed form, and indices.txt contains a lookup list\n",
    "\n",
    "(word) \\t (index)\n",
    "\n",
    "of indices and words. This network is small enough for you to explore and run\n",
    "scripts locally, but will also be good for a systems test (for later) on AWS.\n",
    "\n",
    "In the dictionary, target nodes are keys, link weights are values \n",
    "(here, all weights are 1, i.e., the network is unweighted).\n"
   ]
  },
  {
   "cell_type": "markdown",
   "metadata": {},
   "source": [
    "## =======================================================\n",
    "## ===HW 7.1: Exploratory data analysis (NLTK synonyms)===\n",
    "\n",
    "Using MRJob, explore the synonyms network data.\n",
    "Consider plotting the degree distribution (does it follow a power law?),\n",
    "and determine some of the key features, like:\n",
    "\n",
    "number of nodes,  \n",
    "number links,  \n",
    "or the average degree (i.e., the average number of links per node),  \n",
    "etc...  \n",
    "\n",
    "As you develop your code, please be sure to run it locally first (though on the whole dataset). \n",
    "Once you have gotten you code to run locally, deploy it on AWS as a systems test\n",
    "in preparation for our next dataset (which will require AWS)."
   ]
  },
  {
   "cell_type": "code",
   "execution_count": 28,
   "metadata": {
    "collapsed": false
   },
   "outputs": [
    {
     "name": "stdout",
     "output_type": "stream",
     "text": [
      "Overwriting nltk_stats.py\n"
     ]
    }
   ],
   "source": [
    "%%writefile nltk_stats.py\n",
    "from mrjob.job import MRJob\n",
    "from mrjob.step import MRJobStep\n",
    "import sys\n",
    "import ast\n",
    "\n",
    "# This MrJob computes the shortest paths from a single source\n",
    "#     Mapper: calculate partial gradient for each example  \n",
    "#     \n",
    "class nltk_stats(MRJob):\n",
    "    # run before the mapper processes any input. \n",
    "    #Adds state and distance information to all the nodes and creates a new file\n",
    "                \n",
    "    # Calculate partial gradient for each example \n",
    "    def mapper(self, _,line):\n",
    "        total = line.split('\\t')\n",
    "        node = total[0]\n",
    "        edge = total[1]\n",
    "        edges = ast.literal_eval(edge)       \n",
    "        yield node,len(edges)\n",
    "    \n",
    "    def reducer(self,key,value):\n",
    "        for v in value:\n",
    "            yield key,v\n",
    "        \n",
    "    def steps(self):\n",
    "        return [MRJobStep(mapper=self.mapper,reducer=self.reducer)] \n",
    "    \n",
    "if __name__ == '__main__':\n",
    "    nltk_stats.run()"
   ]
  },
  {
   "cell_type": "code",
   "execution_count": 29,
   "metadata": {
    "collapsed": false
   },
   "outputs": [
    {
     "name": "stderr",
     "output_type": "stream",
     "text": [
      "WARNING:mrjob.runner:\n",
      "WARNING:mrjob.runner:PLEASE NOTE: Starting in mrjob v0.5.0, protocols will be strict by default. It's recommended you run your job with --strict-protocols or set up mrjob.conf as described at https://pythonhosted.org/mrjob/whats-new.html#ready-for-strict-protocols\n",
      "WARNING:mrjob.runner:\n",
      "WARNING:mrjob.step:MRJobStep has been renamed to MRStep. The old name will be removed in v0.5.0.\n",
      "WARNING:mrjob.step:MRJobStep has been renamed to MRStep. The old name will be removed in v0.5.0.\n",
      "WARNING:mrjob.step:MRJobStep has been renamed to MRStep. The old name will be removed in v0.5.0.\n",
      "WARNING:mrjob.step:MRJobStep has been renamed to MRStep. The old name will be removed in v0.5.0.\n",
      "WARNING:mrjob.step:MRJobStep has been renamed to MRStep. The old name will be removed in v0.5.0.\n"
     ]
    },
    {
     "name": "stdout",
     "output_type": "stream",
     "text": [
      "Total number of nodes in the graph is :  8271\n",
      "Average degree (total_links/total_nodes) of the graph is :  7.39136742836\n",
      "Total number of links/edges in the graph are :  30567\n"
     ]
    }
   ],
   "source": [
    "%reload_ext autoreload\n",
    "%autoreload 2\n",
    "\n",
    "from numpy import random,array\n",
    "from nltk_stats import nltk_stats\n",
    "import sys\n",
    "\n",
    "mr_job = nltk_stats(args=['synNet.txt']) \n",
    "#mr_job = nltk_stats(args=['s3://hw7-ml261/synNet.txt','-r','emr'])\n",
    "\n",
    "total_nodes = 0\n",
    "total_links = 0\n",
    "num_links_acc = []\n",
    "with mr_job.make_runner() as runner: \n",
    "    runner.run()\n",
    "    # stream_output: get access of the output \n",
    "    for line in runner.stream_output():\n",
    "        node,num_links =  mr_job.parse_output_line(line)\n",
    "        total_nodes = total_nodes+1\n",
    "        total_links = total_links+int(num_links)\n",
    "        num_links_acc.append([float(node),num_links])\n",
    "\n",
    "avg_degree = total_links/float(total_nodes)\n",
    "\n",
    "print \"Total number of nodes in the graph is : \",total_nodes\n",
    "print \"Average degree (total_links/total_nodes) of the graph is : \",avg_degree\n",
    "print \"Total number of links/edges in the graph are : \",total_links/2"
   ]
  },
  {
   "cell_type": "code",
   "execution_count": 30,
   "metadata": {
    "collapsed": false
   },
   "outputs": [],
   "source": [
    "%matplotlib inline"
   ]
  },
  {
   "cell_type": "code",
   "execution_count": 31,
   "metadata": {
    "collapsed": false
   },
   "outputs": [
    {
     "data": {
      "image/png": "[encoded data removed]",
      "text/plain": [
       "<matplotlib.figure.Figure at 0x107131350>"
      ]
     },
     "metadata": {},
     "output_type": "display_data"
    }
   ],
   "source": [
    "#Plot\n",
    "import numpy as np\n",
    "import matplotlib.pyplot as plt\n",
    "\n",
    "num_links_acc = np.array(num_links_acc)\n",
    "sorted_link_count = np.sort(num_links_acc[:,1])\n",
    "plt.plot(sorted_link_count)\n",
    "plt.ylabel(\"Number of edges\")\n",
    "plt.xlabel(\"Any given node\")\n",
    "plt.show()"
   ]
  },
  {
   "cell_type": "markdown",
   "metadata": {},
   "source": [
    "Yes, the degree distribution (number of edges) follows a square law."
   ]
  },
  {
   "cell_type": "markdown",
   "metadata": {},
   "source": [
    "### ===========================================================\n",
    "### ===HW 7.2: Shortest path graph distances (NLTK synonyms)===\n",
    "\n",
    "Write (reuse your code from 7.0) an MRJob class to find shortest path graph distances, \n",
    "and apply it to the NLTK synonyms network dataset. \n",
    "\n",
    "Proof your code's function by running the job:\n",
    "\n",
    "- shortest path starting at \"walk\" (index=7827) and ending at \"make\" (index=536),\n",
    "\n",
    "and showing you code's output. Once again, your output should include the path and the distance.\n",
    "\n",
    "As you develop your code, please be sure to run it locally first (though on the whole dataset). \n",
    "Once you have gotten you code to run locally, deploy it on AWS as a systems test\n",
    "in preparation for our next dataset (which will require AWS)."
   ]
  },
  {
   "cell_type": "code",
   "execution_count": 32,
   "metadata": {
    "collapsed": false
   },
   "outputs": [
    {
     "name": "stdout",
     "output_type": "stream",
     "text": [
      "Overwriting shortest_path_nltk.py\n"
     ]
    }
   ],
   "source": [
    "%%writefile shortest_path_nltk.py\n",
    "from mrjob.job import MRJob\n",
    "from mrjob.step import MRJobStep\n",
    "import sys\n",
    "import ast\n",
    "\n",
    "# This MrJob computes the shortest paths from a single source\n",
    "#     Mapper: calculate partial gradient for each example  \n",
    "#     \n",
    "class shortest_path_nltk(MRJob):\n",
    "    # run before the mapper processes any input. \n",
    "    #Adds state and distance information to all the nodes and creates a new file\n",
    "                \n",
    "    # Calculate partial gradient for each example \n",
    "    def mapper(self, _,line):\n",
    "        neighbors = []\n",
    "        edge_info = []\n",
    "        node = line.split('\\t')\n",
    "        edges = ast.literal_eval(node[1])\n",
    "        if(node[4]=='Q'):   ##This node is in the frontier, will be expanded\n",
    "            edge_info = node[1:-1]\n",
    "            edge_info.append(\"V\")\n",
    "            yield node[0],edge_info\n",
    "            for k in edges.keys():\n",
    "                if(k!='NULL'):\n",
    "                    neighbors.append([k,edges[k]])\n",
    "                \n",
    "            for n in neighbors:\n",
    "                if(node[3]==' '):\n",
    "                    path = node[0]\n",
    "                else:\n",
    "                    path = node[3]+\",\"+node[0]\n",
    "                    \n",
    "                yield n[0],[{'NULL':'NULL'},float(node[2])+1,path,'Q']\n",
    "        else:\n",
    "            yield node[0],node[1:]\n",
    "                  \n",
    "    def reducer_init(self):\n",
    "        filename = self.options.pathName+\"graph_with_state.txt\"\n",
    "        open(filename,\"w\").close()\n",
    "        filenamed = self.options.pathName+\"debug.txt\"\n",
    "        open(filenamed,\"w\").close()\n",
    "   \n",
    "    def reducer(self,key,line):\n",
    "        filenamed = self.options.pathName+\"debug.txt\"\n",
    "        filename = self.options.pathName+\"graph_with_state.txt\"\n",
    "        first = True\n",
    "        visited = False\n",
    "        queued = False\n",
    "        unvisited = False\n",
    "\n",
    "        for l in line:\n",
    "            debug = []\n",
    "            for i in l:\n",
    "                debug.append(str(i))\n",
    "            with open(filenamed,'a+') as fd:\n",
    "                fd.writelines(key + \"\\t\" + \"\\t\".join(debug) + \"\\n\")\n",
    "                    \n",
    "            if(l[3]==u'Q'):\n",
    "                if(first==True):\n",
    "                    shortest_dist = (l[1])\n",
    "                    first = False\n",
    "                    shortest_path = l[2]\n",
    "                else:\n",
    "                    if(float(shortest_dist)>=float(l[1])):\n",
    "                        shortest_dist = (l[1])\n",
    "                        shortest_path = l[2]\n",
    "                queued = True\n",
    "            if(l[3]==u'U'):\n",
    "                edges = str(l[0])\n",
    "                unvisited = True\n",
    "                \n",
    "            if(l[3]==u'V'):\n",
    "                shortest_dist_V = (l[1])\n",
    "                shortest_path_V = l[2]\n",
    "                edges = str(l[0])\n",
    "                visited = True\n",
    "            \n",
    "        if(visited==True):\n",
    "            if(queued==True):\n",
    "                if(float(shortest_dist_V) >= float(shortest_dist)):\n",
    "                    shortest_dist_m = shortest_dist\n",
    "                    shortest_path_m = shortest_path\n",
    "                else:\n",
    "                    shortest_dist_m = shortest_dist_V\n",
    "                    shortest_path_m = shortest_path_V\n",
    "            else:\n",
    "                shortest_dist_m = shortest_dist_V\n",
    "                shortest_path_m = shortest_path_V\n",
    "            new_node_info = [edges,str(shortest_dist_m),str(shortest_path_m),'V']\n",
    "        \n",
    "        elif(unvisited==True):\n",
    "            if(queued==True):\n",
    "                shortest_dist_m = shortest_dist\n",
    "                shortest_path_m = shortest_path\n",
    "                new_node_info = [edges,str(shortest_dist_m),str(shortest_path_m),'Q']\n",
    "            else:\n",
    "                new_node_info = [str(l[0]),str(l[1]),str(l[2]),'U']               \n",
    "        \n",
    "        else:\n",
    "            new_node_info = [str(l[0]),str(l[1]),str(l[2]),l[3]]\n",
    "\n",
    "        with open(filename,'a+') as fw:\n",
    "            fw.writelines(key + \"\\t\" + \"\\t\".join(new_node_info) + \"\\n\")\n",
    "        yield key,new_node_info\n",
    " \n",
    "    def reducer_final(self):\n",
    "        filenamed = self.options.pathName+\"debug.txt\"\n",
    "        with open(filenamed,\"a+\") as fd:\n",
    "            fd.write(\"Done with an iteration \\n\")\n",
    "        \n",
    "    def configure_options(self):\n",
    "        super(shortest_path_nltk, self).configure_options()\n",
    "        self.add_passthrough_option(\n",
    "            '--pathName', dest='pathName', default=\"\", type='str',\n",
    "            help='pathName: pathname where intermedateResults.txt is stored')\n",
    "    \n",
    "    def steps(self):\n",
    "        return [MRJobStep(mapper=self.mapper,reducer_init=self.reducer_init,reducer=self.reducer,\n",
    "                        reducer_final=self.reducer_final)] \n",
    "    \n",
    "if __name__ == '__main__':\n",
    "    shortest_path_nltk.run()"
   ]
  },
  {
   "cell_type": "code",
   "execution_count": 33,
   "metadata": {
    "collapsed": false
   },
   "outputs": [],
   "source": [
    "!rm graph_with_state.txt"
   ]
  },
  {
   "cell_type": "code",
   "execution_count": 34,
   "metadata": {
    "collapsed": false
   },
   "outputs": [
    {
     "name": "stderr",
     "output_type": "stream",
     "text": [
      "WARNING:mrjob.runner:\n",
      "WARNING:mrjob.runner:PLEASE NOTE: Starting in mrjob v0.5.0, protocols will be strict by default. It's recommended you run your job with --strict-protocols or set up mrjob.conf as described at https://pythonhosted.org/mrjob/whats-new.html#ready-for-strict-protocols\n",
      "WARNING:mrjob.runner:\n",
      "WARNING:mrjob.step:MRJobStep has been renamed to MRStep. The old name will be removed in v0.5.0.\n",
      "WARNING:mrjob.step:MRJobStep has been renamed to MRStep. The old name will be removed in v0.5.0.\n",
      "WARNING:mrjob.step:MRJobStep has been renamed to MRStep. The old name will be removed in v0.5.0.\n",
      "WARNING:mrjob.step:MRJobStep has been renamed to MRStep. The old name will be removed in v0.5.0.\n",
      "WARNING:mrjob.step:MRJobStep has been renamed to MRStep. The old name will be removed in v0.5.0.\n"
     ]
    },
    {
     "name": "stdout",
     "output_type": "stream",
     "text": [
      "\n",
      "iteration  1 \n",
      "\n",
      "536 [u\"{'531': 1, '653': 1, '1162': 1, '1195': 1, '1209': 1, '1554': 1, '1647': 1, '1668': 1, '1685': 1, '1801': 1, '1810': 1, '1811': 1, '2246': 1, '2256': 1, '2439': 1, '3241': 1, '3471': 1, '3478': 1, '3483': 1, '2247': 1, '3647': 1, '3648': 1, '532': 1, '533': 1, '5208': 1, '5209': 1, '616': 1, '5364': 1, '5281': 1, '5365': 1, '2160': 1, '4651': 1, '4652': 1, '215': 1, '4316': 1, '4317': 1, '534': 1, '5210': 1, '5211': 1, '2248': 1, '6000': 1, '2249': 1, '6056': 1, '6057': 1, '6058': 1, '3760': 1, '64': 1, '1313': 1, '3761': 1, '3310': 1, '631': 1, '3551': 1, '3552': 1, '3553': 1, '3554': 1, '3555': 1, '2250': 1, '5592': 1, '5593': 1, '5594': 1, '404': 1, '3656': 1, '4791': 1, '1199': 1, '6001': 1, '6002': 1, '770': 1, '5911': 1, '5912': 1, '4180': 1, '121': 1, '3737': 1, '3738': 1, '3739': 1, '3992': 1, '657': 1, '3740': 1, '3741': 1, '264': 1, '1688': 1, '3993': 1, '448': 1, '3742': 1, '3743': 1, '3593': 1, '3594': 1, '474': 1, '3595': 1, '3621': 1, '2251': 1, '265': 1, '2794': 1, '3622': 1, '659': 1, '5366': 1, '4608': 1, '4609': 1, '2257': 1, '1477': 1, '4318': 1, '4319': 1, '4320': 1, '2252': 1, '6003': 1, '6004': 1, '69': 1, '3769': 1, '1661': 1, '3749': 1, '3750': 1, '3751': 1, '1681': 1, '3651': 1, '3652': 1, '3653': 1, '2253': 1, '2254': 1, '3657': 1, '2255': 1, '3658': 1, '5596': 1, '57': 1, '3688': 1, '662': 1, '4420': 1, '4421': 1, '585': 1, '722': 1, '3598': 1, '3599': 1, '3600': 1, '5351': 1, '641': 1, '5352': 1, '5353': 1, '5354': 1, '3601': 1, '73': 1, '3774': 1, '3481': 1, '3482': 1, '3485': 1, '3775': 1}\", u'9223372036854775807', u' ', u'U']\n",
      "\n"
     ]
    },
    {
     "name": "stderr",
     "output_type": "stream",
     "text": [
      "WARNING:mrjob.runner:\n",
      "WARNING:mrjob.runner:PLEASE NOTE: Starting in mrjob v0.5.0, protocols will be strict by default. It's recommended you run your job with --strict-protocols or set up mrjob.conf as described at https://pythonhosted.org/mrjob/whats-new.html#ready-for-strict-protocols\n",
      "WARNING:mrjob.runner:\n",
      "WARNING:mrjob.step:MRJobStep has been renamed to MRStep. The old name will be removed in v0.5.0.\n",
      "WARNING:mrjob.step:MRJobStep has been renamed to MRStep. The old name will be removed in v0.5.0.\n",
      "WARNING:mrjob.step:MRJobStep has been renamed to MRStep. The old name will be removed in v0.5.0.\n",
      "WARNING:mrjob.step:MRJobStep has been renamed to MRStep. The old name will be removed in v0.5.0.\n",
      "WARNING:mrjob.step:MRJobStep has been renamed to MRStep. The old name will be removed in v0.5.0.\n"
     ]
    },
    {
     "name": "stdout",
     "output_type": "stream",
     "text": [
      "iteration  2 \n",
      "\n",
      "536 [u\"{'531': 1, '653': 1, '1162': 1, '1195': 1, '1209': 1, '1554': 1, '1647': 1, '1668': 1, '1685': 1, '1801': 1, '1810': 1, '1811': 1, '2246': 1, '2256': 1, '2439': 1, '3241': 1, '3471': 1, '3478': 1, '3483': 1, '2247': 1, '3647': 1, '3648': 1, '532': 1, '533': 1, '5208': 1, '5209': 1, '616': 1, '5364': 1, '5281': 1, '5365': 1, '2160': 1, '4651': 1, '4652': 1, '215': 1, '4316': 1, '4317': 1, '534': 1, '5210': 1, '5211': 1, '2248': 1, '6000': 1, '2249': 1, '6056': 1, '6057': 1, '6058': 1, '3760': 1, '64': 1, '1313': 1, '3761': 1, '3310': 1, '631': 1, '3551': 1, '3552': 1, '3553': 1, '3554': 1, '3555': 1, '2250': 1, '5592': 1, '5593': 1, '5594': 1, '404': 1, '3656': 1, '4791': 1, '1199': 1, '6001': 1, '6002': 1, '770': 1, '5911': 1, '5912': 1, '4180': 1, '121': 1, '3737': 1, '3738': 1, '3739': 1, '3992': 1, '657': 1, '3740': 1, '3741': 1, '264': 1, '1688': 1, '3993': 1, '448': 1, '3742': 1, '3743': 1, '3593': 1, '3594': 1, '474': 1, '3595': 1, '3621': 1, '2251': 1, '265': 1, '2794': 1, '3622': 1, '659': 1, '5366': 1, '4608': 1, '4609': 1, '2257': 1, '1477': 1, '4318': 1, '4319': 1, '4320': 1, '2252': 1, '6003': 1, '6004': 1, '69': 1, '3769': 1, '1661': 1, '3749': 1, '3750': 1, '3751': 1, '1681': 1, '3651': 1, '3652': 1, '3653': 1, '2253': 1, '2254': 1, '3657': 1, '2255': 1, '3658': 1, '5596': 1, '57': 1, '3688': 1, '662': 1, '4420': 1, '4421': 1, '585': 1, '722': 1, '3598': 1, '3599': 1, '3600': 1, '5351': 1, '641': 1, '5352': 1, '5353': 1, '5354': 1, '3601': 1, '73': 1, '3774': 1, '3481': 1, '3482': 1, '3485': 1, '3775': 1}\", u'9223372036854775807', u' ', u'U']\n",
      "\n"
     ]
    },
    {
     "name": "stderr",
     "output_type": "stream",
     "text": [
      "WARNING:mrjob.runner:\n",
      "WARNING:mrjob.runner:PLEASE NOTE: Starting in mrjob v0.5.0, protocols will be strict by default. It's recommended you run your job with --strict-protocols or set up mrjob.conf as described at https://pythonhosted.org/mrjob/whats-new.html#ready-for-strict-protocols\n",
      "WARNING:mrjob.runner:\n",
      "WARNING:mrjob.step:MRJobStep has been renamed to MRStep. The old name will be removed in v0.5.0.\n",
      "WARNING:mrjob.step:MRJobStep has been renamed to MRStep. The old name will be removed in v0.5.0.\n",
      "WARNING:mrjob.step:MRJobStep has been renamed to MRStep. The old name will be removed in v0.5.0.\n",
      "WARNING:mrjob.step:MRJobStep has been renamed to MRStep. The old name will be removed in v0.5.0.\n",
      "WARNING:mrjob.step:MRJobStep has been renamed to MRStep. The old name will be removed in v0.5.0.\n"
     ]
    },
    {
     "name": "stdout",
     "output_type": "stream",
     "text": [
      "iteration  3 \n",
      "\n",
      "536 [u\"{'531': 1, '653': 1, '1162': 1, '1195': 1, '1209': 1, '1554': 1, '1647': 1, '1668': 1, '1685': 1, '1801': 1, '1810': 1, '1811': 1, '2246': 1, '2256': 1, '2439': 1, '3241': 1, '3471': 1, '3478': 1, '3483': 1, '2247': 1, '3647': 1, '3648': 1, '532': 1, '533': 1, '5208': 1, '5209': 1, '616': 1, '5364': 1, '5281': 1, '5365': 1, '2160': 1, '4651': 1, '4652': 1, '215': 1, '4316': 1, '4317': 1, '534': 1, '5210': 1, '5211': 1, '2248': 1, '6000': 1, '2249': 1, '6056': 1, '6057': 1, '6058': 1, '3760': 1, '64': 1, '1313': 1, '3761': 1, '3310': 1, '631': 1, '3551': 1, '3552': 1, '3553': 1, '3554': 1, '3555': 1, '2250': 1, '5592': 1, '5593': 1, '5594': 1, '404': 1, '3656': 1, '4791': 1, '1199': 1, '6001': 1, '6002': 1, '770': 1, '5911': 1, '5912': 1, '4180': 1, '121': 1, '3737': 1, '3738': 1, '3739': 1, '3992': 1, '657': 1, '3740': 1, '3741': 1, '264': 1, '1688': 1, '3993': 1, '448': 1, '3742': 1, '3743': 1, '3593': 1, '3594': 1, '474': 1, '3595': 1, '3621': 1, '2251': 1, '265': 1, '2794': 1, '3622': 1, '659': 1, '5366': 1, '4608': 1, '4609': 1, '2257': 1, '1477': 1, '4318': 1, '4319': 1, '4320': 1, '2252': 1, '6003': 1, '6004': 1, '69': 1, '3769': 1, '1661': 1, '3749': 1, '3750': 1, '3751': 1, '1681': 1, '3651': 1, '3652': 1, '3653': 1, '2253': 1, '2254': 1, '3657': 1, '2255': 1, '3658': 1, '5596': 1, '57': 1, '3688': 1, '662': 1, '4420': 1, '4421': 1, '585': 1, '722': 1, '3598': 1, '3599': 1, '3600': 1, '5351': 1, '641': 1, '5352': 1, '5353': 1, '5354': 1, '3601': 1, '73': 1, '3774': 1, '3481': 1, '3482': 1, '3485': 1, '3775': 1}\", u'3.0', u'7827,4655,631', u'Q']\n",
      "\n"
     ]
    },
    {
     "name": "stderr",
     "output_type": "stream",
     "text": [
      "WARNING:mrjob.runner:\n",
      "WARNING:mrjob.runner:PLEASE NOTE: Starting in mrjob v0.5.0, protocols will be strict by default. It's recommended you run your job with --strict-protocols or set up mrjob.conf as described at https://pythonhosted.org/mrjob/whats-new.html#ready-for-strict-protocols\n",
      "WARNING:mrjob.runner:\n",
      "WARNING:mrjob.step:MRJobStep has been renamed to MRStep. The old name will be removed in v0.5.0.\n",
      "WARNING:mrjob.step:MRJobStep has been renamed to MRStep. The old name will be removed in v0.5.0.\n",
      "WARNING:mrjob.step:MRJobStep has been renamed to MRStep. The old name will be removed in v0.5.0.\n",
      "WARNING:mrjob.step:MRJobStep has been renamed to MRStep. The old name will be removed in v0.5.0.\n",
      "WARNING:mrjob.step:MRJobStep has been renamed to MRStep. The old name will be removed in v0.5.0.\n"
     ]
    },
    {
     "name": "stdout",
     "output_type": "stream",
     "text": [
      "iteration  4 \n",
      "\n",
      "536 [u\"{'531': 1, '653': 1, '1162': 1, '1195': 1, '1209': 1, '1554': 1, '1647': 1, '1668': 1, '1685': 1, '1801': 1, '1810': 1, '1811': 1, '2246': 1, '2256': 1, '2439': 1, '3241': 1, '3471': 1, '3478': 1, '3483': 1, '2247': 1, '3647': 1, '3648': 1, '532': 1, '533': 1, '5208': 1, '5209': 1, '616': 1, '5364': 1, '5281': 1, '5365': 1, '2160': 1, '4651': 1, '4652': 1, '215': 1, '4316': 1, '4317': 1, '534': 1, '5210': 1, '5211': 1, '2248': 1, '6000': 1, '2249': 1, '6056': 1, '6057': 1, '6058': 1, '3760': 1, '64': 1, '1313': 1, '3761': 1, '3310': 1, '631': 1, '3551': 1, '3552': 1, '3553': 1, '3554': 1, '3555': 1, '2250': 1, '5592': 1, '5593': 1, '5594': 1, '404': 1, '3656': 1, '4791': 1, '1199': 1, '6001': 1, '6002': 1, '770': 1, '5911': 1, '5912': 1, '4180': 1, '121': 1, '3737': 1, '3738': 1, '3739': 1, '3992': 1, '657': 1, '3740': 1, '3741': 1, '264': 1, '1688': 1, '3993': 1, '448': 1, '3742': 1, '3743': 1, '3593': 1, '3594': 1, '474': 1, '3595': 1, '3621': 1, '2251': 1, '265': 1, '2794': 1, '3622': 1, '659': 1, '5366': 1, '4608': 1, '4609': 1, '2257': 1, '1477': 1, '4318': 1, '4319': 1, '4320': 1, '2252': 1, '6003': 1, '6004': 1, '69': 1, '3769': 1, '1661': 1, '3749': 1, '3750': 1, '3751': 1, '1681': 1, '3651': 1, '3652': 1, '3653': 1, '2253': 1, '2254': 1, '3657': 1, '2255': 1, '3658': 1, '5596': 1, '57': 1, '3688': 1, '662': 1, '4420': 1, '4421': 1, '585': 1, '722': 1, '3598': 1, '3599': 1, '3600': 1, '5351': 1, '641': 1, '5352': 1, '5353': 1, '5354': 1, '3601': 1, '73': 1, '3774': 1, '3481': 1, '3482': 1, '3485': 1, '3775': 1}\", u'3.0', u'7827,4655,631', u'V']\n",
      "\n"
     ]
    },
    {
     "name": "stderr",
     "output_type": "stream",
     "text": [
      "WARNING:mrjob.runner:\n",
      "WARNING:mrjob.runner:PLEASE NOTE: Starting in mrjob v0.5.0, protocols will be strict by default. It's recommended you run your job with --strict-protocols or set up mrjob.conf as described at https://pythonhosted.org/mrjob/whats-new.html#ready-for-strict-protocols\n",
      "WARNING:mrjob.runner:\n",
      "WARNING:mrjob.step:MRJobStep has been renamed to MRStep. The old name will be removed in v0.5.0.\n",
      "WARNING:mrjob.step:MRJobStep has been renamed to MRStep. The old name will be removed in v0.5.0.\n",
      "WARNING:mrjob.step:MRJobStep has been renamed to MRStep. The old name will be removed in v0.5.0.\n",
      "WARNING:mrjob.step:MRJobStep has been renamed to MRStep. The old name will be removed in v0.5.0.\n",
      "WARNING:mrjob.step:MRJobStep has been renamed to MRStep. The old name will be removed in v0.5.0.\n"
     ]
    },
    {
     "name": "stdout",
     "output_type": "stream",
     "text": [
      "iteration  5 \n",
      "\n",
      "536 [u\"{'531': 1, '653': 1, '1162': 1, '1195': 1, '1209': 1, '1554': 1, '1647': 1, '1668': 1, '1685': 1, '1801': 1, '1810': 1, '1811': 1, '2246': 1, '2256': 1, '2439': 1, '3241': 1, '3471': 1, '3478': 1, '3483': 1, '2247': 1, '3647': 1, '3648': 1, '532': 1, '533': 1, '5208': 1, '5209': 1, '616': 1, '5364': 1, '5281': 1, '5365': 1, '2160': 1, '4651': 1, '4652': 1, '215': 1, '4316': 1, '4317': 1, '534': 1, '5210': 1, '5211': 1, '2248': 1, '6000': 1, '2249': 1, '6056': 1, '6057': 1, '6058': 1, '3760': 1, '64': 1, '1313': 1, '3761': 1, '3310': 1, '631': 1, '3551': 1, '3552': 1, '3553': 1, '3554': 1, '3555': 1, '2250': 1, '5592': 1, '5593': 1, '5594': 1, '404': 1, '3656': 1, '4791': 1, '1199': 1, '6001': 1, '6002': 1, '770': 1, '5911': 1, '5912': 1, '4180': 1, '121': 1, '3737': 1, '3738': 1, '3739': 1, '3992': 1, '657': 1, '3740': 1, '3741': 1, '264': 1, '1688': 1, '3993': 1, '448': 1, '3742': 1, '3743': 1, '3593': 1, '3594': 1, '474': 1, '3595': 1, '3621': 1, '2251': 1, '265': 1, '2794': 1, '3622': 1, '659': 1, '5366': 1, '4608': 1, '4609': 1, '2257': 1, '1477': 1, '4318': 1, '4319': 1, '4320': 1, '2252': 1, '6003': 1, '6004': 1, '69': 1, '3769': 1, '1661': 1, '3749': 1, '3750': 1, '3751': 1, '1681': 1, '3651': 1, '3652': 1, '3653': 1, '2253': 1, '2254': 1, '3657': 1, '2255': 1, '3658': 1, '5596': 1, '57': 1, '3688': 1, '662': 1, '4420': 1, '4421': 1, '585': 1, '722': 1, '3598': 1, '3599': 1, '3600': 1, '5351': 1, '641': 1, '5352': 1, '5353': 1, '5354': 1, '3601': 1, '73': 1, '3774': 1, '3481': 1, '3482': 1, '3485': 1, '3775': 1}\", u'3.0', u'7827,4655,631', u'V']\n",
      "\n"
     ]
    },
    {
     "name": "stderr",
     "output_type": "stream",
     "text": [
      "WARNING:mrjob.runner:\n",
      "WARNING:mrjob.runner:PLEASE NOTE: Starting in mrjob v0.5.0, protocols will be strict by default. It's recommended you run your job with --strict-protocols or set up mrjob.conf as described at https://pythonhosted.org/mrjob/whats-new.html#ready-for-strict-protocols\n",
      "WARNING:mrjob.runner:\n",
      "WARNING:mrjob.step:MRJobStep has been renamed to MRStep. The old name will be removed in v0.5.0.\n",
      "WARNING:mrjob.step:MRJobStep has been renamed to MRStep. The old name will be removed in v0.5.0.\n",
      "WARNING:mrjob.step:MRJobStep has been renamed to MRStep. The old name will be removed in v0.5.0.\n",
      "WARNING:mrjob.step:MRJobStep has been renamed to MRStep. The old name will be removed in v0.5.0.\n",
      "WARNING:mrjob.step:MRJobStep has been renamed to MRStep. The old name will be removed in v0.5.0.\n"
     ]
    },
    {
     "name": "stdout",
     "output_type": "stream",
     "text": [
      "iteration  6 \n",
      "\n",
      "536 [u\"{'531': 1, '653': 1, '1162': 1, '1195': 1, '1209': 1, '1554': 1, '1647': 1, '1668': 1, '1685': 1, '1801': 1, '1810': 1, '1811': 1, '2246': 1, '2256': 1, '2439': 1, '3241': 1, '3471': 1, '3478': 1, '3483': 1, '2247': 1, '3647': 1, '3648': 1, '532': 1, '533': 1, '5208': 1, '5209': 1, '616': 1, '5364': 1, '5281': 1, '5365': 1, '2160': 1, '4651': 1, '4652': 1, '215': 1, '4316': 1, '4317': 1, '534': 1, '5210': 1, '5211': 1, '2248': 1, '6000': 1, '2249': 1, '6056': 1, '6057': 1, '6058': 1, '3760': 1, '64': 1, '1313': 1, '3761': 1, '3310': 1, '631': 1, '3551': 1, '3552': 1, '3553': 1, '3554': 1, '3555': 1, '2250': 1, '5592': 1, '5593': 1, '5594': 1, '404': 1, '3656': 1, '4791': 1, '1199': 1, '6001': 1, '6002': 1, '770': 1, '5911': 1, '5912': 1, '4180': 1, '121': 1, '3737': 1, '3738': 1, '3739': 1, '3992': 1, '657': 1, '3740': 1, '3741': 1, '264': 1, '1688': 1, '3993': 1, '448': 1, '3742': 1, '3743': 1, '3593': 1, '3594': 1, '474': 1, '3595': 1, '3621': 1, '2251': 1, '265': 1, '2794': 1, '3622': 1, '659': 1, '5366': 1, '4608': 1, '4609': 1, '2257': 1, '1477': 1, '4318': 1, '4319': 1, '4320': 1, '2252': 1, '6003': 1, '6004': 1, '69': 1, '3769': 1, '1661': 1, '3749': 1, '3750': 1, '3751': 1, '1681': 1, '3651': 1, '3652': 1, '3653': 1, '2253': 1, '2254': 1, '3657': 1, '2255': 1, '3658': 1, '5596': 1, '57': 1, '3688': 1, '662': 1, '4420': 1, '4421': 1, '585': 1, '722': 1, '3598': 1, '3599': 1, '3600': 1, '5351': 1, '641': 1, '5352': 1, '5353': 1, '5354': 1, '3601': 1, '73': 1, '3774': 1, '3481': 1, '3482': 1, '3485': 1, '3775': 1}\", u'3.0', u'7827,4655,631', u'V']\n",
      "\n"
     ]
    },
    {
     "name": "stderr",
     "output_type": "stream",
     "text": [
      "WARNING:mrjob.runner:\n",
      "WARNING:mrjob.runner:PLEASE NOTE: Starting in mrjob v0.5.0, protocols will be strict by default. It's recommended you run your job with --strict-protocols or set up mrjob.conf as described at https://pythonhosted.org/mrjob/whats-new.html#ready-for-strict-protocols\n",
      "WARNING:mrjob.runner:\n",
      "WARNING:mrjob.step:MRJobStep has been renamed to MRStep. The old name will be removed in v0.5.0.\n",
      "WARNING:mrjob.step:MRJobStep has been renamed to MRStep. The old name will be removed in v0.5.0.\n",
      "WARNING:mrjob.step:MRJobStep has been renamed to MRStep. The old name will be removed in v0.5.0.\n",
      "WARNING:mrjob.step:MRJobStep has been renamed to MRStep. The old name will be removed in v0.5.0.\n",
      "WARNING:mrjob.step:MRJobStep has been renamed to MRStep. The old name will be removed in v0.5.0.\n"
     ]
    },
    {
     "name": "stdout",
     "output_type": "stream",
     "text": [
      "iteration  7 \n",
      "\n",
      "536 [u\"{'531': 1, '653': 1, '1162': 1, '1195': 1, '1209': 1, '1554': 1, '1647': 1, '1668': 1, '1685': 1, '1801': 1, '1810': 1, '1811': 1, '2246': 1, '2256': 1, '2439': 1, '3241': 1, '3471': 1, '3478': 1, '3483': 1, '2247': 1, '3647': 1, '3648': 1, '532': 1, '533': 1, '5208': 1, '5209': 1, '616': 1, '5364': 1, '5281': 1, '5365': 1, '2160': 1, '4651': 1, '4652': 1, '215': 1, '4316': 1, '4317': 1, '534': 1, '5210': 1, '5211': 1, '2248': 1, '6000': 1, '2249': 1, '6056': 1, '6057': 1, '6058': 1, '3760': 1, '64': 1, '1313': 1, '3761': 1, '3310': 1, '631': 1, '3551': 1, '3552': 1, '3553': 1, '3554': 1, '3555': 1, '2250': 1, '5592': 1, '5593': 1, '5594': 1, '404': 1, '3656': 1, '4791': 1, '1199': 1, '6001': 1, '6002': 1, '770': 1, '5911': 1, '5912': 1, '4180': 1, '121': 1, '3737': 1, '3738': 1, '3739': 1, '3992': 1, '657': 1, '3740': 1, '3741': 1, '264': 1, '1688': 1, '3993': 1, '448': 1, '3742': 1, '3743': 1, '3593': 1, '3594': 1, '474': 1, '3595': 1, '3621': 1, '2251': 1, '265': 1, '2794': 1, '3622': 1, '659': 1, '5366': 1, '4608': 1, '4609': 1, '2257': 1, '1477': 1, '4318': 1, '4319': 1, '4320': 1, '2252': 1, '6003': 1, '6004': 1, '69': 1, '3769': 1, '1661': 1, '3749': 1, '3750': 1, '3751': 1, '1681': 1, '3651': 1, '3652': 1, '3653': 1, '2253': 1, '2254': 1, '3657': 1, '2255': 1, '3658': 1, '5596': 1, '57': 1, '3688': 1, '662': 1, '4420': 1, '4421': 1, '585': 1, '722': 1, '3598': 1, '3599': 1, '3600': 1, '5351': 1, '641': 1, '5352': 1, '5353': 1, '5354': 1, '3601': 1, '73': 1, '3774': 1, '3481': 1, '3482': 1, '3485': 1, '3775': 1}\", u'3.0', u'7827,4655,631', u'V']\n",
      "\n"
     ]
    },
    {
     "name": "stderr",
     "output_type": "stream",
     "text": [
      "WARNING:mrjob.runner:\n",
      "WARNING:mrjob.runner:PLEASE NOTE: Starting in mrjob v0.5.0, protocols will be strict by default. It's recommended you run your job with --strict-protocols or set up mrjob.conf as described at https://pythonhosted.org/mrjob/whats-new.html#ready-for-strict-protocols\n",
      "WARNING:mrjob.runner:\n",
      "WARNING:mrjob.step:MRJobStep has been renamed to MRStep. The old name will be removed in v0.5.0.\n",
      "WARNING:mrjob.step:MRJobStep has been renamed to MRStep. The old name will be removed in v0.5.0.\n",
      "WARNING:mrjob.step:MRJobStep has been renamed to MRStep. The old name will be removed in v0.5.0.\n",
      "WARNING:mrjob.step:MRJobStep has been renamed to MRStep. The old name will be removed in v0.5.0.\n",
      "WARNING:mrjob.step:MRJobStep has been renamed to MRStep. The old name will be removed in v0.5.0.\n"
     ]
    },
    {
     "name": "stdout",
     "output_type": "stream",
     "text": [
      "iteration  8 \n",
      "\n",
      "536 [u\"{'531': 1, '653': 1, '1162': 1, '1195': 1, '1209': 1, '1554': 1, '1647': 1, '1668': 1, '1685': 1, '1801': 1, '1810': 1, '1811': 1, '2246': 1, '2256': 1, '2439': 1, '3241': 1, '3471': 1, '3478': 1, '3483': 1, '2247': 1, '3647': 1, '3648': 1, '532': 1, '533': 1, '5208': 1, '5209': 1, '616': 1, '5364': 1, '5281': 1, '5365': 1, '2160': 1, '4651': 1, '4652': 1, '215': 1, '4316': 1, '4317': 1, '534': 1, '5210': 1, '5211': 1, '2248': 1, '6000': 1, '2249': 1, '6056': 1, '6057': 1, '6058': 1, '3760': 1, '64': 1, '1313': 1, '3761': 1, '3310': 1, '631': 1, '3551': 1, '3552': 1, '3553': 1, '3554': 1, '3555': 1, '2250': 1, '5592': 1, '5593': 1, '5594': 1, '404': 1, '3656': 1, '4791': 1, '1199': 1, '6001': 1, '6002': 1, '770': 1, '5911': 1, '5912': 1, '4180': 1, '121': 1, '3737': 1, '3738': 1, '3739': 1, '3992': 1, '657': 1, '3740': 1, '3741': 1, '264': 1, '1688': 1, '3993': 1, '448': 1, '3742': 1, '3743': 1, '3593': 1, '3594': 1, '474': 1, '3595': 1, '3621': 1, '2251': 1, '265': 1, '2794': 1, '3622': 1, '659': 1, '5366': 1, '4608': 1, '4609': 1, '2257': 1, '1477': 1, '4318': 1, '4319': 1, '4320': 1, '2252': 1, '6003': 1, '6004': 1, '69': 1, '3769': 1, '1661': 1, '3749': 1, '3750': 1, '3751': 1, '1681': 1, '3651': 1, '3652': 1, '3653': 1, '2253': 1, '2254': 1, '3657': 1, '2255': 1, '3658': 1, '5596': 1, '57': 1, '3688': 1, '662': 1, '4420': 1, '4421': 1, '585': 1, '722': 1, '3598': 1, '3599': 1, '3600': 1, '5351': 1, '641': 1, '5352': 1, '5353': 1, '5354': 1, '3601': 1, '73': 1, '3774': 1, '3481': 1, '3482': 1, '3485': 1, '3775': 1}\", u'3.0', u'7827,4655,631', u'V']\n",
      "\n"
     ]
    },
    {
     "name": "stderr",
     "output_type": "stream",
     "text": [
      "WARNING:mrjob.runner:\n",
      "WARNING:mrjob.runner:PLEASE NOTE: Starting in mrjob v0.5.0, protocols will be strict by default. It's recommended you run your job with --strict-protocols or set up mrjob.conf as described at https://pythonhosted.org/mrjob/whats-new.html#ready-for-strict-protocols\n",
      "WARNING:mrjob.runner:\n",
      "WARNING:mrjob.step:MRJobStep has been renamed to MRStep. The old name will be removed in v0.5.0.\n",
      "WARNING:mrjob.step:MRJobStep has been renamed to MRStep. The old name will be removed in v0.5.0.\n",
      "WARNING:mrjob.step:MRJobStep has been renamed to MRStep. The old name will be removed in v0.5.0.\n",
      "WARNING:mrjob.step:MRJobStep has been renamed to MRStep. The old name will be removed in v0.5.0.\n",
      "WARNING:mrjob.step:MRJobStep has been renamed to MRStep. The old name will be removed in v0.5.0.\n"
     ]
    },
    {
     "name": "stdout",
     "output_type": "stream",
     "text": [
      "iteration  9 \n",
      "\n",
      "536 [u\"{'531': 1, '653': 1, '1162': 1, '1195': 1, '1209': 1, '1554': 1, '1647': 1, '1668': 1, '1685': 1, '1801': 1, '1810': 1, '1811': 1, '2246': 1, '2256': 1, '2439': 1, '3241': 1, '3471': 1, '3478': 1, '3483': 1, '2247': 1, '3647': 1, '3648': 1, '532': 1, '533': 1, '5208': 1, '5209': 1, '616': 1, '5364': 1, '5281': 1, '5365': 1, '2160': 1, '4651': 1, '4652': 1, '215': 1, '4316': 1, '4317': 1, '534': 1, '5210': 1, '5211': 1, '2248': 1, '6000': 1, '2249': 1, '6056': 1, '6057': 1, '6058': 1, '3760': 1, '64': 1, '1313': 1, '3761': 1, '3310': 1, '631': 1, '3551': 1, '3552': 1, '3553': 1, '3554': 1, '3555': 1, '2250': 1, '5592': 1, '5593': 1, '5594': 1, '404': 1, '3656': 1, '4791': 1, '1199': 1, '6001': 1, '6002': 1, '770': 1, '5911': 1, '5912': 1, '4180': 1, '121': 1, '3737': 1, '3738': 1, '3739': 1, '3992': 1, '657': 1, '3740': 1, '3741': 1, '264': 1, '1688': 1, '3993': 1, '448': 1, '3742': 1, '3743': 1, '3593': 1, '3594': 1, '474': 1, '3595': 1, '3621': 1, '2251': 1, '265': 1, '2794': 1, '3622': 1, '659': 1, '5366': 1, '4608': 1, '4609': 1, '2257': 1, '1477': 1, '4318': 1, '4319': 1, '4320': 1, '2252': 1, '6003': 1, '6004': 1, '69': 1, '3769': 1, '1661': 1, '3749': 1, '3750': 1, '3751': 1, '1681': 1, '3651': 1, '3652': 1, '3653': 1, '2253': 1, '2254': 1, '3657': 1, '2255': 1, '3658': 1, '5596': 1, '57': 1, '3688': 1, '662': 1, '4420': 1, '4421': 1, '585': 1, '722': 1, '3598': 1, '3599': 1, '3600': 1, '5351': 1, '641': 1, '5352': 1, '5353': 1, '5354': 1, '3601': 1, '73': 1, '3774': 1, '3481': 1, '3482': 1, '3485': 1, '3775': 1}\", u'3.0', u'7827,4655,631', u'V']\n",
      "\n"
     ]
    },
    {
     "name": "stderr",
     "output_type": "stream",
     "text": [
      "WARNING:mrjob.runner:\n",
      "WARNING:mrjob.runner:PLEASE NOTE: Starting in mrjob v0.5.0, protocols will be strict by default. It's recommended you run your job with --strict-protocols or set up mrjob.conf as described at https://pythonhosted.org/mrjob/whats-new.html#ready-for-strict-protocols\n",
      "WARNING:mrjob.runner:\n",
      "WARNING:mrjob.step:MRJobStep has been renamed to MRStep. The old name will be removed in v0.5.0.\n",
      "WARNING:mrjob.step:MRJobStep has been renamed to MRStep. The old name will be removed in v0.5.0.\n",
      "WARNING:mrjob.step:MRJobStep has been renamed to MRStep. The old name will be removed in v0.5.0.\n",
      "WARNING:mrjob.step:MRJobStep has been renamed to MRStep. The old name will be removed in v0.5.0.\n",
      "WARNING:mrjob.step:MRJobStep has been renamed to MRStep. The old name will be removed in v0.5.0.\n"
     ]
    },
    {
     "name": "stdout",
     "output_type": "stream",
     "text": [
      "iteration  10 \n",
      "\n",
      "536 [u\"{'531': 1, '653': 1, '1162': 1, '1195': 1, '1209': 1, '1554': 1, '1647': 1, '1668': 1, '1685': 1, '1801': 1, '1810': 1, '1811': 1, '2246': 1, '2256': 1, '2439': 1, '3241': 1, '3471': 1, '3478': 1, '3483': 1, '2247': 1, '3647': 1, '3648': 1, '532': 1, '533': 1, '5208': 1, '5209': 1, '616': 1, '5364': 1, '5281': 1, '5365': 1, '2160': 1, '4651': 1, '4652': 1, '215': 1, '4316': 1, '4317': 1, '534': 1, '5210': 1, '5211': 1, '2248': 1, '6000': 1, '2249': 1, '6056': 1, '6057': 1, '6058': 1, '3760': 1, '64': 1, '1313': 1, '3761': 1, '3310': 1, '631': 1, '3551': 1, '3552': 1, '3553': 1, '3554': 1, '3555': 1, '2250': 1, '5592': 1, '5593': 1, '5594': 1, '404': 1, '3656': 1, '4791': 1, '1199': 1, '6001': 1, '6002': 1, '770': 1, '5911': 1, '5912': 1, '4180': 1, '121': 1, '3737': 1, '3738': 1, '3739': 1, '3992': 1, '657': 1, '3740': 1, '3741': 1, '264': 1, '1688': 1, '3993': 1, '448': 1, '3742': 1, '3743': 1, '3593': 1, '3594': 1, '474': 1, '3595': 1, '3621': 1, '2251': 1, '265': 1, '2794': 1, '3622': 1, '659': 1, '5366': 1, '4608': 1, '4609': 1, '2257': 1, '1477': 1, '4318': 1, '4319': 1, '4320': 1, '2252': 1, '6003': 1, '6004': 1, '69': 1, '3769': 1, '1661': 1, '3749': 1, '3750': 1, '3751': 1, '1681': 1, '3651': 1, '3652': 1, '3653': 1, '2253': 1, '2254': 1, '3657': 1, '2255': 1, '3658': 1, '5596': 1, '57': 1, '3688': 1, '662': 1, '4420': 1, '4421': 1, '585': 1, '722': 1, '3598': 1, '3599': 1, '3600': 1, '5351': 1, '641': 1, '5352': 1, '5353': 1, '5354': 1, '3601': 1, '73': 1, '3774': 1, '3481': 1, '3482': 1, '3485': 1, '3775': 1}\", u'3.0', u'7827,4655,631', u'V']\n",
      "\n"
     ]
    },
    {
     "name": "stderr",
     "output_type": "stream",
     "text": [
      "WARNING:mrjob.runner:\n",
      "WARNING:mrjob.runner:PLEASE NOTE: Starting in mrjob v0.5.0, protocols will be strict by default. It's recommended you run your job with --strict-protocols or set up mrjob.conf as described at https://pythonhosted.org/mrjob/whats-new.html#ready-for-strict-protocols\n",
      "WARNING:mrjob.runner:\n",
      "WARNING:mrjob.step:MRJobStep has been renamed to MRStep. The old name will be removed in v0.5.0.\n",
      "WARNING:mrjob.step:MRJobStep has been renamed to MRStep. The old name will be removed in v0.5.0.\n",
      "WARNING:mrjob.step:MRJobStep has been renamed to MRStep. The old name will be removed in v0.5.0.\n",
      "WARNING:mrjob.step:MRJobStep has been renamed to MRStep. The old name will be removed in v0.5.0.\n",
      "WARNING:mrjob.step:MRJobStep has been renamed to MRStep. The old name will be removed in v0.5.0.\n"
     ]
    },
    {
     "name": "stdout",
     "output_type": "stream",
     "text": [
      "iteration  11 \n",
      "\n",
      "536 [u\"{'531': 1, '653': 1, '1162': 1, '1195': 1, '1209': 1, '1554': 1, '1647': 1, '1668': 1, '1685': 1, '1801': 1, '1810': 1, '1811': 1, '2246': 1, '2256': 1, '2439': 1, '3241': 1, '3471': 1, '3478': 1, '3483': 1, '2247': 1, '3647': 1, '3648': 1, '532': 1, '533': 1, '5208': 1, '5209': 1, '616': 1, '5364': 1, '5281': 1, '5365': 1, '2160': 1, '4651': 1, '4652': 1, '215': 1, '4316': 1, '4317': 1, '534': 1, '5210': 1, '5211': 1, '2248': 1, '6000': 1, '2249': 1, '6056': 1, '6057': 1, '6058': 1, '3760': 1, '64': 1, '1313': 1, '3761': 1, '3310': 1, '631': 1, '3551': 1, '3552': 1, '3553': 1, '3554': 1, '3555': 1, '2250': 1, '5592': 1, '5593': 1, '5594': 1, '404': 1, '3656': 1, '4791': 1, '1199': 1, '6001': 1, '6002': 1, '770': 1, '5911': 1, '5912': 1, '4180': 1, '121': 1, '3737': 1, '3738': 1, '3739': 1, '3992': 1, '657': 1, '3740': 1, '3741': 1, '264': 1, '1688': 1, '3993': 1, '448': 1, '3742': 1, '3743': 1, '3593': 1, '3594': 1, '474': 1, '3595': 1, '3621': 1, '2251': 1, '265': 1, '2794': 1, '3622': 1, '659': 1, '5366': 1, '4608': 1, '4609': 1, '2257': 1, '1477': 1, '4318': 1, '4319': 1, '4320': 1, '2252': 1, '6003': 1, '6004': 1, '69': 1, '3769': 1, '1661': 1, '3749': 1, '3750': 1, '3751': 1, '1681': 1, '3651': 1, '3652': 1, '3653': 1, '2253': 1, '2254': 1, '3657': 1, '2255': 1, '3658': 1, '5596': 1, '57': 1, '3688': 1, '662': 1, '4420': 1, '4421': 1, '585': 1, '722': 1, '3598': 1, '3599': 1, '3600': 1, '5351': 1, '641': 1, '5352': 1, '5353': 1, '5354': 1, '3601': 1, '73': 1, '3774': 1, '3481': 1, '3482': 1, '3485': 1, '3775': 1}\", u'3.0', u'7827,4655,631', u'V']\n",
      "Done- All nodes have been visited\n"
     ]
    }
   ],
   "source": [
    "%reload_ext autoreload\n",
    "%autoreload 2\n",
    "\n",
    "from numpy import random,array\n",
    "from shortest_path_nltk import shortest_path_nltk\n",
    "import sys\n",
    "\n",
    "fa = 'synNet.txt'\n",
    "fb = 'graph_with_state.txt'\n",
    "\n",
    "#Transforming the directed_toy.txt to included state,distance,path information\n",
    "with open(fa, 'r') as fr:\n",
    "    for f in fr:\n",
    "        adj_list = []\n",
    "        adjl = f.strip().split('\\t')\n",
    "        if(adjl[0]==u'7827'):\n",
    "            adj_list.append(adjl[0]) #Node\n",
    "            adj_list.append(adjl[1]) #Edges and Weights\n",
    "            adj_list.append(str(0))  #Shortest Distance\n",
    "            adj_list.append(' ')    #Shortest Path          \n",
    "            adj_list.append('Q')     #state\n",
    "            first=False\n",
    "        else:\n",
    "            adj_list.append(adjl[0])         #Node\n",
    "            adj_list.append(adjl[1])         #Edges and Weights\n",
    "            adj_list.append(str(sys.maxint)) #Shortest Distance\n",
    "            adj_list.append(' ')            #Shortest Path\n",
    "            adj_list.append('U')             #state\n",
    "        \n",
    "        with open(fb,'a+') as fw:\n",
    "            fw.writelines('\\t'.join(adj_list)+'\\n')\n",
    "\n",
    "mr_job = shortest_path_nltk(args=[fb,'--pathName','/Users/Vamsi/Documents/W261/hw7/']) \n",
    "\n",
    "i = 1\n",
    "while(1):\n",
    "    print \"\\n\",\"iteration \",i,\"\\n\"\n",
    "    unvisited_nodes = 0\n",
    "    queued_nodes = 0\n",
    "    with mr_job.make_runner() as runner: \n",
    "        runner.run()\n",
    "        # stream_output: get access of the output \n",
    "        for line in runner.stream_output():\n",
    "            key,value =  mr_job.parse_output_line(line)\n",
    "            #Only print the ending node of interest 536\n",
    "            if(key==u'536'):\n",
    "                print key,value\n",
    "            if(value[3]!=u'V'):\n",
    "                unvisited_nodes = unvisited_nodes + 1\n",
    "            if(value[3]==u'Q'):\n",
    "                queued_nodes = queued_nodes + 1\n",
    "                \n",
    "#Break if no nodes to visit or if there are no queued nodes (which indicates unreachable nodes from starting node)                                                                                    \n",
    "    if(unvisited_nodes==0 or (unvisited_nodes!=0 and queued_nodes==0)):   \n",
    "        break\n",
    "    i +=1\n",
    "\n",
    "print \"Done- All nodes have been visited\""
   ]
  },
  {
   "cell_type": "markdown",
   "metadata": {},
   "source": [
    "**Attention: The output above is in the following format:**\n",
    "\n",
    "`Node [Edges,Shortest Distance,Shortest Path,State]`\n"
   ]
  },
  {
   "cell_type": "markdown",
   "metadata": {},
   "source": [
    "### =====================================\n",
    "### ==Main dataset 2: English Wikipedia==\n",
    "\n",
    "For the remainder of this assignment you will explore the English Wikipedia hyperlink network.\n",
    "The dataset is built from the Sept. 2015 XML snapshot of English Wikipedia.\n",
    "For this directed network, a link between articles: \n",
    "\n",
    "A -> B\n",
    "\n",
    "is defined by the existence of a hyperlink in A pointing to B.\n",
    "This network also exists in the indexed format:\n",
    "\n",
    "Data: s3://ucb-mids-mls-networks/wikipedia/all-pages-indexed-out.txt  \n",
    "Data: s3://ucb-mids-mls-networks/wikipedia/all-pages-indexed-in.txt  \n",
    "Data: s3://ucb-mids-mls-networks/wikipedia/indices.txt  \n",
    "\n",
    "On under the Data Subfolder for HW7 on Dropbox with the same file names\n",
    "\n",
    "but has an index with more detailed data:\n",
    "\n",
    "(article name) \\t (index) \\t (in degree) \\t (out degree)\n",
    "\n",
    "In the dictionary, target nodes are keys, link weights are values .\n",
    "Here, a weight indicates the number of time a page links to another.\n",
    "However, for the sake of this assignment, treat this an unweighted network,\n",
    "and set all weights to 1 upon data input.\n"
   ]
  },
  {
   "cell_type": "markdown",
   "metadata": {},
   "source": [
    "### ===================================================\n",
    "### ===HW 7.3: Exploratory data analysis (Wikipedia)===\n",
    "\n",
    "Using MRJob, explore the Wikipedia network data on the AWS cloud. Reuse your code from HW 7.1---does is scale well? \n",
    "Be cautioned that Wikipedia is a directed network, where links are not symmetric. \n",
    "So, even though a node may be linked to, it will not appear as a primary record itself if it has no out-links. \n",
    "This means that you may have to ADJUST your code (depending on its design). \n",
    "To be sure of your code's functionality in this context, run a systems test on the directed_toy.txt network.\n"
   ]
  },
  {
   "cell_type": "code",
   "execution_count": 35,
   "metadata": {
    "collapsed": false
   },
   "outputs": [
    {
     "name": "stdout",
     "output_type": "stream",
     "text": [
      "Overwriting wiki_stats.py\n"
     ]
    }
   ],
   "source": [
    "%%writefile wiki_stats.py\n",
    "from mrjob.job import MRJob\n",
    "from mrjob.step import MRJobStep\n",
    "import sys\n",
    "import ast\n",
    "\n",
    "# This MrJob computes the shortest paths from a single source\n",
    "#     Mapper: calculate partial gradient for each example  \n",
    "#     \n",
    "class wiki_stats(MRJob):\n",
    "    # run before the mapper processes any input. \n",
    "    #Adds state and distance information to all the nodes and creates a new file\n",
    "                \n",
    "    # Calculate partial gradient for each example \n",
    "    def mapper(self, _,line):\n",
    "        total = line.split('\\t')\n",
    "        node = total[0]\n",
    "        edge = total[1]\n",
    "        edges = ast.literal_eval(edge)       \n",
    "        yield node,len(edges)\n",
    "    \n",
    "    def reducer(self,key,value):\n",
    "        for v in value:\n",
    "            yield key,v\n",
    "        \n",
    "    def steps(self):\n",
    "        return [MRJobStep(mapper=self.mapper,reducer=self.reducer)] \n",
    "    \n",
    "if __name__ == '__main__':\n",
    "    wiki_stats.run()"
   ]
  },
  {
   "cell_type": "code",
   "execution_count": 36,
   "metadata": {
    "collapsed": false
   },
   "outputs": [
    {
     "name": "stdout",
     "output_type": "stream",
     "text": [
      "using configs in /Users/Vamsi/.mrjob.conf\n",
      "creating tmp directory /var/folders/83/pm9jkj6j6x701q8n5q42drjr0000gn/T/wiki_stats.Vamsi.20160313.012718.471138\n",
      "\n",
      "PLEASE NOTE: Starting in mrjob v0.5.0, protocols will be strict by default. It's recommended you run your job with --strict-protocols or set up mrjob.conf as described at https://pythonhosted.org/mrjob/whats-new.html#ready-for-strict-protocols\n",
      "\n",
      "MRJobStep has been renamed to MRStep. The old name will be removed in v0.5.0.\n",
      "writing to /var/folders/83/pm9jkj6j6x701q8n5q42drjr0000gn/T/wiki_stats.Vamsi.20160313.012718.471138/step-0-mapper_part-00000\n",
      "MRJobStep has been renamed to MRStep. The old name will be removed in v0.5.0.\n",
      "MRJobStep has been renamed to MRStep. The old name will be removed in v0.5.0.\n",
      "Counters from step 1:\n",
      "  (no counters found)\n",
      "writing to /var/folders/83/pm9jkj6j6x701q8n5q42drjr0000gn/T/wiki_stats.Vamsi.20160313.012718.471138/step-0-mapper-sorted\n",
      "> sort /var/folders/83/pm9jkj6j6x701q8n5q42drjr0000gn/T/wiki_stats.Vamsi.20160313.012718.471138/step-0-mapper_part-00000\n",
      "writing to /var/folders/83/pm9jkj6j6x701q8n5q42drjr0000gn/T/wiki_stats.Vamsi.20160313.012718.471138/step-0-reducer_part-00000\n",
      "MRJobStep has been renamed to MRStep. The old name will be removed in v0.5.0.\n",
      "MRJobStep has been renamed to MRStep. The old name will be removed in v0.5.0.\n",
      "Counters from step 1:\n",
      "  (no counters found)\n",
      "Moving /var/folders/83/pm9jkj6j6x701q8n5q42drjr0000gn/T/wiki_stats.Vamsi.20160313.012718.471138/step-0-reducer_part-00000 -> /var/folders/83/pm9jkj6j6x701q8n5q42drjr0000gn/T/wiki_stats.Vamsi.20160313.012718.471138/output/part-00000\n",
      "Streaming final output from /var/folders/83/pm9jkj6j6x701q8n5q42drjr0000gn/T/wiki_stats.Vamsi.20160313.012718.471138/output\n",
      "\"1\"\t2\n",
      "\"2\"\t3\n",
      "\"3\"\t2\n",
      "\"4\"\t2\n",
      "\"5\"\t3\n",
      "removing tmp directory /var/folders/83/pm9jkj6j6x701q8n5q42drjr0000gn/T/wiki_stats.Vamsi.20160313.012718.471138\n"
     ]
    }
   ],
   "source": [
    "!python wiki_stats.py directed_toy.txt"
   ]
  },
  {
   "cell_type": "code",
   "execution_count": 10,
   "metadata": {
    "collapsed": false
   },
   "outputs": [
    {
     "name": "stderr",
     "output_type": "stream",
     "text": [
      "WARNING:mrjob.conf:Got unexpected keyword arguments: ssh_tunnel\n",
      "ERROR:mrjob.emr:Unable to load progress from job tracker\n",
      "WARNING:mrjob.emr:Oops, ssh subprocess exited with return code 255, restarting...\n",
      "ERROR:mrjob.emr:Unable to load progress from job tracker\n",
      "WARNING:mrjob.emr:Oops, ssh subprocess exited with return code 255, restarting...\n",
      "ERROR:mrjob.emr:Unable to load progress from job tracker\n"
     ]
    },
    {
     "name": "stdout",
     "output_type": "stream",
     "text": [
      "Total number of nodes in the graph is :  5781290\n",
      "Average degree (total_links/total_nodes) of the graph is :  24.5817208616\n",
      "Total number of links/edges in the graph are :  142114057\n"
     ]
    }
   ],
   "source": [
    "%reload_ext autoreload\n",
    "%autoreload 2\n",
    "\n",
    "from numpy import random,array\n",
    "from wiki_stats import wiki_stats\n",
    "import sys\n",
    "\n",
    "mr_job = wiki_stats(args=['s3://ucb-mids-mls-networks/wikipedia/all-pages-indexed-out.txt','-r','emr'])\n",
    "\n",
    "total_nodes = 0\n",
    "total_links = 0\n",
    "with mr_job.make_runner() as runner: \n",
    "    runner.run()\n",
    "    # stream_output: get access of the output \n",
    "    for line in runner.stream_output():\n",
    "        node,num_links =  mr_job.parse_output_line(line)\n",
    "        total_nodes = total_nodes+1\n",
    "        total_links = total_links+int(num_links)\n",
    "\n",
    "avg_degree = total_links/float(total_nodes)\n",
    "\n",
    "print \"Total number of nodes in the graph is : \",total_nodes\n",
    "print \"Average out-degree (total_links/total_nodes) of the graph is : \",avg_degree\n",
    "print \"Total number of links/edges in the graph are : \",total_links"
   ]
  },
  {
   "cell_type": "code",
   "execution_count": 11,
   "metadata": {
    "collapsed": false
   },
   "outputs": [
    {
     "name": "stderr",
     "output_type": "stream",
     "text": [
      "WARNING:mrjob.conf:Got unexpected keyword arguments: ssh_tunnel\n",
      "ERROR:mrjob.emr:Unable to load progress from job tracker\n",
      "WARNING:mrjob.emr:Oops, ssh subprocess exited with return code 255, restarting...\n",
      "ERROR:mrjob.emr:Unable to load progress from job tracker\n",
      "WARNING:mrjob.emr:Oops, ssh subprocess exited with return code 255, restarting...\n",
      "ERROR:mrjob.emr:Unable to load progress from job tracker\n",
      "WARNING:mrjob.emr:Oops, ssh subprocess exited with return code 255, restarting...\n"
     ]
    },
    {
     "name": "stdout",
     "output_type": "stream",
     "text": [
      "Total number of nodes in the graph is :  14216021\n",
      "Average in-degree (total_links/total_nodes) of the graph is :  9.99675345162\n",
      "Total number of links/edges in the graph are :  142114057\n"
     ]
    }
   ],
   "source": [
    "%reload_ext autoreload\n",
    "%autoreload 2\n",
    "\n",
    "from numpy import random,array\n",
    "from wiki_stats import wiki_stats\n",
    "import sys\n",
    "\n",
    "mr_job = wiki_stats(args=['s3://ucb-mids-mls-networks/wikipedia/all-pages-indexed-in.txt','-r','emr'])\n",
    "\n",
    "total_nodes = 0\n",
    "total_links = 0\n",
    "with mr_job.make_runner() as runner: \n",
    "    runner.run()\n",
    "    # stream_output: get access of the output \n",
    "    for line in runner.stream_output():\n",
    "        node,num_links =  mr_job.parse_output_line(line)\n",
    "        total_nodes = total_nodes+1\n",
    "        total_links = total_links+int(num_links)\n",
    "\n",
    "avg_degree = total_links/float(total_nodes)\n",
    "\n",
    "print \"Total number of nodes in the graph is : \",total_nodes\n",
    "print \"Average in-degree (total_links/total_nodes) of the graph is : \",avg_degree\n",
    "print \"Total number of links/edges in the graph are : \",total_links"
   ]
  },
  {
   "cell_type": "markdown",
   "metadata": {},
   "source": [
    "### =======================================================\n",
    "### ===HW 7.4: Shortest path graph distances (Wikipedia)===\n",
    "\n",
    "Using MRJob, find shortest path graph distances in the Wikipedia network on the AWS cloud.\n",
    "Reuse your code from 7.2, but once again be warned of Wikipedia being a directed network.\n",
    "To be sure of your code's functionality in this context, run a systems test on the directed_toy.txt network.\n",
    "\n",
    "When running your code on the Wikipedia network, proof its function by running the job:\n",
    "\n",
    "- shortest path from \"Ireland\" (index=6176135) to \"University of California, Berkeley\" (index=13466359),\n",
    "\n",
    "and show your code's output.\n",
    "\n",
    "Once your code is running, find some other shortest paths and report your results."
   ]
  },
  {
   "cell_type": "code",
   "execution_count": 37,
   "metadata": {
    "collapsed": false
   },
   "outputs": [
    {
     "name": "stdout",
     "output_type": "stream",
     "text": [
      "Writing shortest_path_wiki.py\n"
     ]
    }
   ],
   "source": [
    "%%writefile shortest_path_wiki.py\n",
    "from mrjob.job import MRJob\n",
    "from mrjob.step import MRJobStep\n",
    "import sys\n",
    "import ast\n",
    "\n",
    "# This MrJob computes the shortest paths from a single source\n",
    "#     Mapper: calculate partial gradient for each example  \n",
    "#     \n",
    "class shortest_path_wiki(MRJob):\n",
    "    # run before the mapper processes any input. \n",
    "    #Adds state and distance information to all the nodes and creates a new file\n",
    "                \n",
    "    # Calculate partial gradient for each example \n",
    "    def mapper(self, _,line):\n",
    "        neighbors = []\n",
    "        edge_info = []\n",
    "        node = line.split('\\t')\n",
    "        edges = ast.literal_eval(node[1])\n",
    "        if(node[4]=='Q'):   ##This node is in the frontier, will be expanded\n",
    "            edge_info = node[1:-1]\n",
    "            edge_info.append(\"V\")\n",
    "            yield node[0],edge_info\n",
    "            for k in edges.keys():\n",
    "                if(k!='NULL'):\n",
    "                    neighbors.append([k,edges[k]])\n",
    "                \n",
    "            for n in neighbors:\n",
    "                if(node[3]==' '):\n",
    "                    path = node[0]\n",
    "                else:\n",
    "                    path = node[3]+\",\"+node[0]\n",
    "                    \n",
    "                yield n[0],[{'NULL':'NULL'},float(node[2])+1,path,'Q']\n",
    "        else:\n",
    "            yield node[0],node[1:]\n",
    "                  \n",
    "    def reducer_init(self):\n",
    "        filename = self.options.pathName+\"graph_with_state.txt\"\n",
    "        open(filename,\"w\").close()\n",
    "        filenamed = self.options.pathName+\"debug.txt\"\n",
    "        open(filenamed,\"w\").close()\n",
    "   \n",
    "    def reducer(self,key,line):\n",
    "        filenamed = self.options.pathName+\"debug.txt\"\n",
    "        filename = self.options.pathName+\"graph_with_state.txt\"\n",
    "        first = True\n",
    "        visited = False\n",
    "        queued = False\n",
    "        unvisited = False\n",
    "\n",
    "        for l in line:\n",
    "            debug = []\n",
    "            for i in l:\n",
    "                debug.append(str(i))\n",
    "            with open(filenamed,'a+') as fd:\n",
    "                fd.writelines(key + \"\\t\" + \"\\t\".join(debug) + \"\\n\")\n",
    "                    \n",
    "            if(l[3]==u'Q'):\n",
    "                if(first==True):\n",
    "                    shortest_dist = (l[1])\n",
    "                    first = False\n",
    "                    shortest_path = l[2]\n",
    "                else:\n",
    "                    if(float(shortest_dist)>=float(l[1])):\n",
    "                        shortest_dist = (l[1])\n",
    "                        shortest_path = l[2]\n",
    "                queued = True\n",
    "            if(l[3]==u'U'):\n",
    "                edges = str(l[0])\n",
    "                unvisited = True\n",
    "                \n",
    "            if(l[3]==u'V'):\n",
    "                shortest_dist_V = (l[1])\n",
    "                shortest_path_V = l[2]\n",
    "                edges = str(l[0])\n",
    "                visited = True\n",
    "            \n",
    "        if(visited==True):\n",
    "            if(queued==True):\n",
    "                if(float(shortest_dist_V) >= float(shortest_dist)):\n",
    "                    shortest_dist_m = shortest_dist\n",
    "                    shortest_path_m = shortest_path\n",
    "                else:\n",
    "                    shortest_dist_m = shortest_dist_V\n",
    "                    shortest_path_m = shortest_path_V\n",
    "            else:\n",
    "                shortest_dist_m = shortest_dist_V\n",
    "                shortest_path_m = shortest_path_V\n",
    "            new_node_info = [edges,str(shortest_dist_m),str(shortest_path_m),'V']\n",
    "        \n",
    "        elif(unvisited==True):\n",
    "            if(queued==True):\n",
    "                shortest_dist_m = shortest_dist\n",
    "                shortest_path_m = shortest_path\n",
    "                new_node_info = [edges,str(shortest_dist_m),str(shortest_path_m),'Q']\n",
    "            else:\n",
    "                new_node_info = [str(l[0]),str(l[1]),str(l[2]),'U']               \n",
    "        \n",
    "        else:\n",
    "            new_node_info = [str(l[0]),str(l[1]),str(l[2]),l[3]]\n",
    "\n",
    "        with open(filename,'a+') as fw:\n",
    "            fw.writelines(key + \"\\t\" + \"\\t\".join(new_node_info) + \"\\n\")\n",
    "        yield key,new_node_info\n",
    " \n",
    "    def reducer_final(self):\n",
    "        filenamed = self.options.pathName+\"debug.txt\"\n",
    "        with open(filenamed,\"a+\") as fd:\n",
    "            fd.write(\"Done with an iteration \\n\")\n",
    "        \n",
    "    def configure_options(self):\n",
    "        super(shortest_path_wiki, self).configure_options()\n",
    "        self.add_passthrough_option(\n",
    "            '--pathName', dest='pathName', default=\"\", type='str',\n",
    "            help='pathName: pathname where intermedateResults.txt is stored')\n",
    "    \n",
    "    def steps(self):\n",
    "        return [MRJobStep(mapper=self.mapper,reducer_init=self.reducer_init,reducer=self.reducer,\n",
    "                        reducer_final=self.reducer_final)] \n",
    "    \n",
    "if __name__ == '__main__':\n",
    "    shortest_path_wiki.run()"
   ]
  },
  {
   "cell_type": "code",
   "execution_count": null,
   "metadata": {
    "collapsed": true
   },
   "outputs": [],
   "source": [
    "%reload_ext autoreload\n",
    "%autoreload 2\n",
    "\n",
    "from numpy import random,array\n",
    "from shortest_path_wiki import shortest_path_wiki\n",
    "import sys\n",
    "\n",
    "fb = 's3://ucb-mids-mls-networks/wikipedia/all-pages-indexed-out.txt'\n",
    "\n",
    "mr_job = shortest_path_nltk(args=['s3://hw7-ml261-test/output/part-00000','--pathName',\n",
    "                                  's3://hw7-ml261-test/output/part-00000','-r','emr',\n",
    "                                  '--emr-job-flow-id','j-3K9IEHLMWH49K'])\n",
    "i = 1\n",
    "while(1):\n",
    "    print \"\\n\",\"iteration \",i,\"\\n\"\n",
    "    unvisited_nodes = 0\n",
    "    queued_nodes = 0\n",
    "    with mr_job.make_runner() as runner: \n",
    "        runner.run()\n",
    "        # stream_output: get access of the output \n",
    "        for line in runner.stream_output():\n",
    "            key,value =  mr_job.parse_output_line(line)\n",
    "            #Only print the ending node of interest 536\n",
    "            if(key==u'536'):\n",
    "                print key,value\n",
    "            if(value[3]!=u'V'):\n",
    "                unvisited_nodes = unvisited_nodes + 1\n",
    "            if(value[3]==u'Q'):\n",
    "                queued_nodes = queued_nodes + 1\n",
    "                \n",
    "#Break if no nodes to visit or if there are no queued nodes (which indicates unreachable nodes from starting node)                                                                                    \n",
    "    if(unvisited_nodes==0 or (unvisited_nodes!=0 and queued_nodes==0)):   \n",
    "        break\n",
    "    i +=1\n",
    "\n",
    "print \"Done- All nodes have been visited\""
   ]
  },
  {
   "cell_type": "markdown",
   "metadata": {},
   "source": [
    "Our code works on the unit-test performed on the directed_toy.txt dataset, which acts as proof that our code is functional. However, due to problems with iterating our Map-Reduce job on AWS, we were unable to run the code on Wiki dataset."
   ]
  },
  {
   "cell_type": "markdown",
   "metadata": {},
   "source": [
    "### ==========================================================================\n",
    "### ===HW 7.5: Conceptual exercise: Largest single-source network distances===\n",
    "\n",
    "Suppose you wanted to find the largest network distance from a single source,\n",
    "i.e., a node that is the furthest (but still reachable) from a single source.\n",
    "\n",
    "How would you implement this task? \n",
    "How is this different from finding the shortest path graph distances?\n",
    "\n",
    "Is this task more difficult to implement than the shortest path distance?\n",
    "\n",
    "As you respond, please comment on program structure, runtimes, iterations, general system requirements, etc..."
   ]
  },
  {
   "cell_type": "markdown",
   "metadata": {
    "collapsed": true
   },
   "source": [
    "### Answer:\n",
    "\n",
    "The parallelized Dijkstra's algorithm has a feature that is a double-edged sword: It traverses all nodes that are in contact with each other. On one hand, this breadth-first traversal can be computationally expensive because it needs to calculate all possible paths from the source to the end node.  On the other hand, because it traverses all possible paths, we can get the shortest and the longest paths simultaneously. Therefore in our implementation, we wouldn't have to make many changes--just one. In our reducer's update step where compare a previously stored path and a new path, we would need to store the path with the greater distance instead of the smaller. The rest of the program could remain the same.\n",
    "\n",
    "Because the stop condition is the same for both versions of the algorithm, we wouldn't expect a change in the number of iterations, the runtime, or the general system requirements. The number of iterations would still be a function of the number of links between the source and the last node it is indirectly connected to, the system requirements would still need to include a storage volume sufficient to hold the original data (Amazon S3 in most cases), and a cluster that can produce enough reducers to match the number of nodes in the graph."
   ]
  },
  {
   "cell_type": "markdown",
   "metadata": {},
   "source": [
    "### ========================================================================================\n",
    "OPTIONAL\n",
    "### ===HW 7.6: Computational exercise: Largest single-source network distances (optional)===\n",
    "\n",
    "Using MRJob, write a code to find the largest graph distance and distance-maximizing nodes from a single-source.\n",
    "Test your code first on the toy networks and synonyms network to proof its function.\n"
   ]
  }
 ],
 "metadata": {
  "kernelspec": {
   "display_name": "Python 2",
   "language": "python",
   "name": "python2"
  },
  "language_info": {
   "codemirror_mode": {
    "name": "ipython",
    "version": 2
   },
   "file_extension": ".py",
   "mimetype": "text/x-python",
   "name": "python",
   "nbconvert_exporter": "python",
   "pygments_lexer": "ipython2",
   "version": "2.7.10"
  }
 },
 "nbformat": 4,
 "nbformat_minor": 0
}
