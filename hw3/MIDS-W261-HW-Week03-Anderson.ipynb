{
 "cells": [
  {
   "cell_type": "code",
   "execution_count": 19,
   "metadata": {
    "collapsed": true
   },
   "outputs": [],
   "source": [
    "## HW3 DATSCI W261 "
   ]
  },
  {
   "cell_type": "markdown",
   "metadata": {},
   "source": [
    "**Names** Safyre Anderson, Howard Wen , Vamsi Sakhamuri\n",
    "\n",
    "**Emails** safyre@berkelye.edu, howard.wen1@gmail.com, vamsi@ischool.berkeley.edu \n",
    "\n",
    "**Time of Initial Submission:** February 4nd, 2016 8am PST\n",
    "\n",
    "**Section** W261-3, Spring 2016  \n",
    "\n",
    "**Week** 3 Homework"
   ]
  },
  {
   "cell_type": "markdown",
   "metadata": {},
   "source": [
    "### HW 3.0.\n",
    "*What is a merge sort? Where is it used in Hadoop?*\n",
    "\n",
    "*How is  a combiner function in the context of Hadoop?* \n",
    "\n",
    "*Give an example where it can be used and justify why it should be used in the context of this problem.*\n",
    "\n",
    "*What is the Hadoop shuffle?*\n",
    "\n"
   ]
  },
  {
   "cell_type": "markdown",
   "metadata": {},
   "source": [
    "### HW3.1 Use Counters to do EDA (exploratory data analysis and to monitor progress)\n",
    "*Counters are lightweight objects in Hadoop that allow you to keep track of system progress in both the map and reduce stages of processing. By default, Hadoop defines a number of standard counters in \"groups\"; these show up in the jobtracker webapp, giving you information such as \"Map input records\", \"Map output records\", etc. \n",
    "While processing information/data using MapReduce job, it is a challenge to monitor the progress of parallel threads running across nodes of distributed clusters. Moreover, it is also complicated to distinguish between the data that has been processed and the data which is yet to be processed. The MapReduce Framework offers a provision of user-defined Counters, which can be effectively utilized to monitor the progress of data across nodes of distributed clusters.\n",
    "Use the Consumer Complaints  Dataset provide here to complete this question:*\n",
    "    \n",
    "\n",
    "     https://www.dropbox.com/s/vbalm3yva2rr86m/Consumer_Complaints.csv?dl=0\n",
    "\n",
    "*The consumer complaints dataset consists of diverse consumer complaints, \n",
    "which have been reported across the United States regarding various types of loans. \n",
    "The dataset consists of records of the form:*\n",
    "\n",
    "Complaint ID,Product,Sub-product,Issue,Sub-issue,State,ZIP code,Submitted via,Date received,Date sent to company,Company,Company response,Timely response?,Consumer disputed?\n",
    "\n",
    "*Here’s is the first few lines of the  of the Consumer Complaints  Dataset:*\n",
    "\n",
    "`Complaint ID,Product,Sub-product,Issue,Sub-issue,State,ZIP code,Submitted via,Date received,Date sent to company,Company,Company response,Timely response?,Consumer disputed?\n",
    "1114245,Debt collection,Medical,Disclosure verification of debt,Not given enough info to verify debt,FL,32219,Web,11/13/2014,11/13/2014,\"Choice Recovery, Inc.\",Closed with explanation,Yes,\n",
    "1114488,Debt collection,Medical,Disclosure verification of debt,Right to dispute notice not received,TX,75006,Web,11/13/2014,11/13/2014,\"Expert Global Solutions, Inc.\",In progress,Yes,\n",
    "1114255,Bank account or service,Checking account,Deposits and withdrawals,,NY,11102,Web,11/13/2014,11/13/2014,\"FNIS (Fidelity National Information Services, Inc.)\",In progress,Yes,\n",
    "1115106,Debt collection,\"Other (phone, health club, etc.)\",Communication tactics,Frequent or repeated calls,GA,31721,Web,11/13/2014,11/13/2014,\"Expert Global Solutions, Inc.\",In progress,Yes,`\n",
    "\n",
    "\n",
    "\n"
   ]
  },
  {
   "cell_type": "code",
   "execution_count": 14,
   "metadata": {
    "collapsed": false
   },
   "outputs": [
    {
     "name": "stdout",
     "output_type": "stream",
     "text": [
      "starting yarn daemons\n",
      "starting resourcemanager, logging to /usr/local/hadoop-2.7.1/logs/yarn-Safyre-resourcemanager-Safyres-MacBook-Pro.local.out\n",
      "localhost: starting nodemanager, logging to /usr/local/hadoop-2.7.1/logs/yarn-Safyre-nodemanager-Safyres-MacBook-Pro.local.out\n"
     ]
    }
   ],
   "source": [
    "## First prepare local hadoop cluster in pseudo-distributed mode\n",
    "#!source ~/.bash_profile\n",
    "#!cd $HADOOP_HOME\n",
    "#!$HADOOP_HOME/sbin/start-dfs.sh\n",
    "\n",
    "#!$HADOOP_HOME/bin/hadoop namenode -format\n",
    "!$HADOOP_HOME/sbin/start-yarn.sh\n",
    "#!$HADOOP_HOME/sbin/stop-dfs.sh\n",
    "#!$HADOOP_HOME/sbin/stop-yarn.sh\n"
   ]
  },
  {
   "cell_type": "code",
   "execution_count": 15,
   "metadata": {
    "collapsed": false
   },
   "outputs": [
    {
     "name": "stdout",
     "output_type": "stream",
     "text": [
      "3520 SecondaryNameNode\r\n",
      "3314 NameNode\r\n",
      "3779 NodeManager\r\n",
      "3685 ResourceManager\r\n",
      "3404 DataNode\r\n",
      "3820 Jps\r\n"
     ]
    }
   ],
   "source": [
    "# Check PIDS\n",
    "!jps"
   ]
  },
  {
   "cell_type": "code",
   "execution_count": 13,
   "metadata": {
    "collapsed": false
   },
   "outputs": [
    {
     "name": "stdout",
     "output_type": "stream",
     "text": [
      "16/01/30 14:38:43 WARN util.NativeCodeLoader: Unable to load native-hadoop library for your platform... using builtin-java classes where applicable\n",
      "Found 3 items\n",
      "drwx------   - Safyre supergroup          0 2016-01-30 00:13 /tmp\n",
      "drwxr-xr-x   - Safyre supergroup          0 2016-01-30 00:41 /user\n",
      "drwxr-xr-x   - Safyre supergroup          0 2016-01-30 00:36 /usr\n",
      "16/01/30 14:38:44 WARN util.NativeCodeLoader: Unable to load native-hadoop library for your platform... using builtin-java classes where applicable\n",
      "Found 2 items\n",
      "drwxr-xr-x   - Safyre supergroup          0 2016-01-30 14:38 /user/safyre/input\n",
      "drwxr-xr-x   - Safyre supergroup          0 2016-01-30 00:11 /user/safyre/output\n"
     ]
    }
   ],
   "source": [
    "# check dfs\n",
    "!hdfs dfs -ls /\n",
    "!hdfs dfs -ls /user/safyre"
   ]
  },
  {
   "cell_type": "code",
   "execution_count": 16,
   "metadata": {
    "collapsed": false
   },
   "outputs": [
    {
     "name": "stdout",
     "output_type": "stream",
     "text": [
      "--2016-01-30 14:41:04--  https://www.dropbox.com/s/vbalm3yva2rr86m/Consumer_Complaints.csv?dl=0\n",
      "Resolving www.dropbox.com... 108.160.172.206, 108.160.172.238\n",
      "Connecting to www.dropbox.com|108.160.172.206|:443... connected.\n",
      "HTTP request sent, awaiting response... 302 FOUND\n",
      "Location: https://dl.dropboxusercontent.com/content_link/yhmyJdTC9ibqDpuGPBMZV3j9mceF8Dn95CjcDFb4Y141LlH45d1jeU5EoH8kmq31/file [following]\n",
      "--2016-01-30 14:41:05--  https://dl.dropboxusercontent.com/content_link/yhmyJdTC9ibqDpuGPBMZV3j9mceF8Dn95CjcDFb4Y141LlH45d1jeU5EoH8kmq31/file\n",
      "Resolving dl.dropboxusercontent.com... 199.47.217.69\n",
      "Connecting to dl.dropboxusercontent.com|199.47.217.69|:443... connected.\n",
      "HTTP request sent, awaiting response... 200 OK\n",
      "Length: 50906486 (49M) [text/csv]\n",
      "Saving to: '/usr/local/hadoop-2.7.1/input/Consumer_Complaints.csv'\n",
      "\n",
      "/usr/local/hadoop-2 100%[=====================>]  48.55M  3.09MB/s   in 15s    \n",
      "\n",
      "2016-01-30 14:41:23 (3.15 MB/s) - '/usr/local/hadoop-2.7.1/input/Consumer_Complaints.csv' saved [50906486/50906486]\n",
      "\n",
      "16/01/30 14:41:24 WARN util.NativeCodeLoader: Unable to load native-hadoop library for your platform... using builtin-java classes where applicable\n"
     ]
    }
   ],
   "source": [
    "# Download assignment data and the \"put\" into hdfs input folder\n",
    "!wget -O $HADOOP_HOME/input/Consumer_Complaints.csv https://www.dropbox.com/s/vbalm3yva2rr86m/Consumer_Complaints.csv?dl=0\n",
    "!hdfs dfs -put $HADOOP_HOME/input/Consumer_Complaints.csv /user/safyre/input"
   ]
  },
  {
   "cell_type": "markdown",
   "metadata": {},
   "source": [
    "### HW 3.1.1  **User-defined Counters**\n",
    "\n",
    "*Now, let’s use Hadoop Counters to identify the number of complaints pertaining to **debt collection, mortgage, and other categories** (all other categories get lumped into this one) in the consumer complaints dataset. Basically produce the distribution of the Product column in this dataset using counters (limited to 3 counters here).*\n",
    "\n",
    "*Hadoop offers Job Tracker, an UI tool to determine the status and statistics of all jobs. Using the job tracker UI, developers can view the Counters that have been created. Screenshot your  job tracker UI as your job completes and include it here. Make sure that your user defined counters are visible.*"
   ]
  },
  {
   "cell_type": "code",
   "execution_count": null,
   "metadata": {
    "collapsed": true
   },
   "outputs": [],
   "source": [
    "## reiterate what could be in the data\n",
    "'''Complaint ID,Product,Sub-product,Issue,Sub-issue,State,ZIP code,Submitted via,Date received,Date sent to company,Company,Company response,Timely response?,Consumer disputed?\n",
    "1114245,Debt collection,Medical,Disclosure verification of debt,Not given enough info to verify debt,FL,32219,Web,11/13/2014,11/13/2014,\"Choice Recovery, Inc.\",Closed with explanation,Yes,'''\n",
    "\n",
    "## Looks like we just need to map counts (1's) to each key: Product.\n"
   ]
  },
  {
   "cell_type": "code",
   "execution_count": 61,
   "metadata": {
    "collapsed": false
   },
   "outputs": [
    {
     "name": "stdout",
     "output_type": "stream",
     "text": [
      "Overwriting mapper.py\n"
     ]
    }
   ],
   "source": [
    "%%writefile mapper.py\n",
    "#!/usr/bin/env python\n",
    "import sys\n",
    "\n",
    "# delimiter\n",
    "delim = ','\n",
    "\n",
    "for index, line in enumerate(sys.stdin):\n",
    "    \n",
    "    # split by delimiter\n",
    "    sections = line.split(delim)\n",
    "    \n",
    "    # skip the headers and bad rows\n",
    "    if (index == 0) or (len(sections) == 0):\n",
    "        continue\n",
    "        \n",
    "    else:\n",
    "        # get complaints, each row should be a new complain\n",
    "        PRODUCT = sections[1]\n",
    "        PRODUCT = PRODUCT.lower()\n",
    "        \n",
    "        # collapse exclusive products to 'other'\n",
    "        if PRODUCT not in [\"debt collection\", \"mortgage\"]:\n",
    "            PRODUCT = \"other\"\n",
    "        value = 1\n",
    "        \n",
    "        if PRODUCT == \"debt collection\":\n",
    "            sys.stderr.write(\"reporter:counter:Products,Debt Collection,1\\n\")\n",
    "        elif PRODUCT == \"mortgage\":\n",
    "            sys.stderr.write(\"reporter:counter:Products,Mortgage,1\\n\")\n",
    "        else:\n",
    "            sys.stderr.write(\"reporter:counter:Products,Other,1\\n\")\n",
    "        print \"%s\\t%d\" % (PRODUCT, value)"
   ]
  },
  {
   "cell_type": "code",
   "execution_count": 35,
   "metadata": {
    "collapsed": false
   },
   "outputs": [
    {
     "name": "stdout",
     "output_type": "stream",
     "text": [
      "Overwriting reducer.py\n"
     ]
    }
   ],
   "source": [
    "%%writefile reducer.py\n",
    "#!/usr/bin/env python\n",
    "\n",
    "import sys\n",
    "\n",
    "#set up a counts dictionary\n",
    "counts_dict = {}\n",
    "\n",
    "for line in sys.stdin:\n",
    "    key, value = line.split('\\t')\n",
    "    \n",
    "    counts_dict.setdefault(key,0)\n",
    "    counts_dict[key] += int(value)\n",
    "\n",
    "# print out each reduced key value pair\n",
    "\n",
    "for product in counts_dict:\n",
    "    print \"The product \" + product + \" has \" + str(counts_dict[product]) + \" complaints.\"\n",
    "\n",
    "\n"
   ]
  },
  {
   "cell_type": "code",
   "execution_count": 62,
   "metadata": {
    "collapsed": false
   },
   "outputs": [],
   "source": [
    "## lazy\n",
    "!chmod a+x *.py"
   ]
  },
  {
   "cell_type": "code",
   "execution_count": 15,
   "metadata": {
    "collapsed": false
   },
   "outputs": [],
   "source": [
    "## practice run with poor mans' MR\n",
    "!head -n1000 $HADOOP_HOME/input/Consumer_Complaints.csv | ./mapper.py |sort | ./reducer.py"
   ]
  },
  {
   "cell_type": "code",
   "execution_count": 39,
   "metadata": {
    "collapsed": false
   },
   "outputs": [
    {
     "name": "stdout",
     "output_type": "stream",
     "text": [
      "starting historyserver, logging to /usr/local/hadoop-2.7.1/logs/mapred-Safyre-historyserver-Safyres-MacBook-Pro.local.out\r\n"
     ]
    }
   ],
   "source": [
    "# start the jobtracker server:\n",
    "!$HADOOP_HOME/sbin/mr-jobhistory-daemon.sh --config $HADOOP_HOME/etc/hadoop/ start historyserver "
   ]
  },
  {
   "cell_type": "code",
   "execution_count": 14,
   "metadata": {
    "collapsed": false
   },
   "outputs": [
    {
     "data": {
      "text/plain": [
       "'!hdfs dfs -rm -r /user/safyre/output3_1\\n!hadoop jar $HADOOP_HOME/share/hadoop/tools/lib/hadoop-streaming-2*.jar     -file mapper.py     -mapper mapper.py     -file reducer.py     -reducer reducer.py     -input \"/user/safyre/input/Consumer_Complaints.csv\"     -output \"/user/safyre/output3_1\"'"
      ]
     },
     "execution_count": 14,
     "metadata": {},
     "output_type": "execute_result"
    }
   ],
   "source": [
    "## Now with Hadoop Streaming\n",
    "# for some reason hadoop throws an exception because it can't find the \n",
    "###   Error: java.lang.RuntimeException: Error in configuring object\n",
    "###   ... Caused by: java.io.IOException: \n",
    "###   Cannot run program \"reducer.py\": error=2, \n",
    "###   No such file or directory\n",
    "# mapper.py and reducer.py. Added -file arguments for both\n",
    "\n",
    "!hdfs dfs -rm -r /user/safyre/output3_1\n",
    "!hadoop jar $HADOOP_HOME/share/hadoop/tools/lib/hadoop-streaming-2*.jar \\\n",
    "    -file mapper.py \\\n",
    "    -mapper mapper.py \\\n",
    "    -file reducer.py \\\n",
    "    -reducer reducer.py \\\n",
    "    -input \"/user/safyre/input/Consumer_Complaints.csv\" \\\n",
    "    -output \"/user/safyre/output3_1\"\n"
   ]
  },
  {
   "cell_type": "code",
   "execution_count": 65,
   "metadata": {
    "collapsed": false
   },
   "outputs": [
    {
     "data": {
      "image/png": "[encoded data removed]",
      "text/plain": [
       "<IPython.core.display.Image object>"
      ]
     },
     "execution_count": 65,
     "metadata": {},
     "output_type": "execute_result"
    }
   ],
   "source": [
    "# Counted 2 map tasks and 1 reduce task. Shouldn't there be one reduce task per key?\n",
    "from IPython.display import Image\n",
    "Image(filename='3_1_counters.png')"
   ]
  },
  {
   "cell_type": "markdown",
   "metadata": {},
   "source": [
    "### HW 3.2 Analyze the performance of your Mappers, Combiners and Reducers using Counters\n",
    "\n",
    "*For this brief study the Input file will be one record (the next line only):*\n",
    "\n",
    "`foo foo quux labs foo bar quux`\n",
    "\n",
    "\n",
    "### 3.2.1 \n",
    "\n",
    "*Perform a word count analysis of this single record dataset using a Mapper and Reducer based WordCount (i.e., no combiners are used here) using user defined Counters to count up how many time the mapper and reducer are called. What is the value of your user defined Mapper Counter, and Reducer Counter after completing this word count job. The answer  should be 1 and 4 respectively. Please explain.*"
   ]
  },
  {
   "cell_type": "code",
   "execution_count": 91,
   "metadata": {
    "collapsed": false
   },
   "outputs": [
    {
     "name": "stdout",
     "output_type": "stream",
     "text": [
      "16/01/30 19:34:20 WARN util.NativeCodeLoader: Unable to load native-hadoop library for your platform... using builtin-java classes where applicable\n",
      "16/01/30 19:34:21 INFO fs.TrashPolicyDefault: Namenode trash configuration: Deletion interval = 0 minutes, Emptier interval = 0 minutes.\n",
      "Deleted /user/safyre/input/3_2_1.txt\n",
      "16/01/30 19:34:22 WARN util.NativeCodeLoader: Unable to load native-hadoop library for your platform... using builtin-java classes where applicable\n",
      "16/01/30 19:34:23 WARN util.NativeCodeLoader: Unable to load native-hadoop library for your platform... using builtin-java classes where applicable\n",
      "Found 2 items\n",
      "-rw-r--r--   1 Safyre supergroup         31 2016-01-30 19:34 /user/safyre/input/3_2_1.txt\n",
      "-rw-r--r--   1 Safyre supergroup   50906486 2016-01-30 14:41 /user/safyre/input/Consumer_Complaints.csv\n"
     ]
    }
   ],
   "source": [
    "## create and insert the one line input file\n",
    "#!echo \"foo foo quux labs foo bar quux\" >> $HADOOP_HOME/input/3_2_1.txt\n",
    "!hdfs dfs -put $HADOOP_HOME/input/3_2_1.txt /user/safyre/input\n",
    "!hdfs dfs -ls /user/safyre/input"
   ]
  },
  {
   "cell_type": "code",
   "execution_count": 155,
   "metadata": {
    "collapsed": false
   },
   "outputs": [
    {
     "name": "stdout",
     "output_type": "stream",
     "text": [
      "Overwriting mapper.py\n"
     ]
    }
   ],
   "source": [
    "%%writefile mapper.py\n",
    "#!/usr/bin/env python\n",
    "#based on lecture code\n",
    "\n",
    "import sys\n",
    "\n",
    "# map count\n",
    "sys.stderr.write(\"reporter:counter:Calls,Num mapper calls,1\\n\")\n",
    "\n",
    "# read in one line\n",
    "for line in sys.stdin:\n",
    "    for token in line.strip().split(\" \"):\n",
    "        if token: # check if token is actually a word and not None\n",
    "            #sys.stderr.write(\"reporter:counter:Words,Total,1\\n\")\n",
    "            print token+\"\\t1\"\n",
    "        "
   ]
  },
  {
   "cell_type": "code",
   "execution_count": 156,
   "metadata": {
    "collapsed": false
   },
   "outputs": [
    {
     "name": "stdout",
     "output_type": "stream",
     "text": [
      "Overwriting reducer.py\n"
     ]
    }
   ],
   "source": [
    "%%writefile reducer.py\n",
    "#!/usr/bin/env python\n",
    "# based on lecture code\n",
    "import sys\n",
    "\n",
    "# initialize tuple for reducing\n",
    "(lastKey, sum) = (None, 0)\n",
    "\n",
    "# reduce count\n",
    "sys.stderr.write(\"reporter:counter:Calls,Num reducer calls,1\\n\")\n",
    "\n",
    "# read in one line\n",
    "for line in sys.stdin:\n",
    "    (key, value) =  line.strip().split(\"\\t\")\n",
    "    \n",
    "    ## if we get a new key that is different from the last key (lastKey)\n",
    "    ## print out the sum we've calculated so far for lastKey\n",
    "    ## and start again with key as the new lastKey\n",
    "    if lastKey and lastKey != key:\n",
    "        #sys.stderr.write(\"reporter:counter:Keys,\"+lastKey+\",1\\n\")\n",
    "        print lastKey + \"\\t\" + str(sum)\n",
    "        (lastKey, sum) = (key, int(value))\n",
    "    \n",
    "    ## else, just keep counting\n",
    "    else:\n",
    "        (lastKey, sum) = (key, sum + int(value))\n",
    "\n",
    "## The very last key won't be printed within the for loop\n",
    "## so print it here\n",
    "if lastKey:\n",
    "    #sys.stderr.write(\"reporter:counter:Keys,\"+lastKey+\",1\\n\")\n",
    "    print lastKey + '\\t' + str(sum)"
   ]
  },
  {
   "cell_type": "code",
   "execution_count": 157,
   "metadata": {
    "collapsed": true
   },
   "outputs": [],
   "source": [
    "!chmod a+x *.py"
   ]
  },
  {
   "cell_type": "code",
   "execution_count": 158,
   "metadata": {
    "collapsed": false
   },
   "outputs": [
    {
     "name": "stdout",
     "output_type": "stream",
     "text": [
      "reporter:counter:Calls,Num mapper calls,1\r\n",
      "reporter:counter:Calls,Num reducer calls,1\r\n",
      "bar\t1\r\n",
      "foo\t3\r\n",
      "labs\t1\r\n",
      "quux\t2\r\n"
     ]
    }
   ],
   "source": [
    "## test with poor man's\n",
    "!cat  $HADOOP_HOME/input/3_2_1.txt | ./mapper.py | sort | ./reducer.py"
   ]
  },
  {
   "cell_type": "code",
   "execution_count": 13,
   "metadata": {
    "collapsed": false
   },
   "outputs": [
    {
     "data": {
      "text/plain": [
       "'!hdfs dfs -rm -r /user/safyre/output3_2_1\\n!hadoop jar $HADOOP_HOME/share/hadoop/tools/lib/hadoop-streaming-2*.jar     -D mapred.reduce.tasks=4    -file mapper.py     -mapper mapper.py     -file reducer.py     -reducer reducer.py     -input \"/user/safyre/input/3_2_1.txt\"     -output \"/user/safyre/output3_2_1\"'"
      ]
     },
     "execution_count": 13,
     "metadata": {},
     "output_type": "execute_result"
    }
   ],
   "source": [
    "## hadoop streaming\n",
    "!hdfs dfs -rm -r /user/safyre/output3_2_1\n",
    "!hadoop jar $HADOOP_HOME/share/hadoop/tools/lib/hadoop-streaming-2*.jar \\\n",
    "    -D mapred.reduce.tasks=4\\\n",
    "    -file mapper.py \\\n",
    "    -mapper mapper.py \\\n",
    "    -file reducer.py \\\n",
    "    -reducer reducer.py \\\n",
    "    -input \"/user/safyre/input/3_2_1.txt\" \\\n",
    "    -output \"/user/safyre/output3_2_1\"\n"
   ]
  },
  {
   "cell_type": "markdown",
   "metadata": {},
   "source": [
    "**ANSWER**: Initially with default settings, I was getting 2 mappers and one reducer. It was only after setting the number of reduce tasks to 4 that I got 4 reducers. However, I was still getting two mappers: with only one line per key-value pair and no secondary sorting there should only be one mapper. It's not quite clear to me why the file is still being split to two mappers--it may be a default feature of Hadoop streaming. Additionally, Hadoop should be allocating one key per reducer. Since there are 4 keys in this dataset, I thought Hadoop would automatically spin up a reducer for each key."
   ]
  },
  {
   "cell_type": "markdown",
   "metadata": {},
   "source": [
    "### 3.2.2 \n",
    "\n",
    "*Please use mulitple mappers and reducers for these jobs (at least 2 mappers and 2 reducers).*\n",
    "*Perform a word count analysis of the Issue column of the Consumer Complaints  Dataset using a Mapper and Reducer based WordCount (i.e., no combiners used anywhere)  using user defined Counters to count up how many time the mapper and reducer are called. What is the value of your user defined Mapper Counter, and Reducer Counter after completing your word count job.*"
   ]
  },
  {
   "cell_type": "code",
   "execution_count": 160,
   "metadata": {
    "collapsed": false
   },
   "outputs": [
    {
     "name": "stdout",
     "output_type": "stream",
     "text": [
      "Overwriting mapper.py\n"
     ]
    }
   ],
   "source": [
    "%%writefile mapper.py\n",
    "#!/usr/bin/env python\n",
    "# based on lecture code\n",
    "\n",
    "## Word count in the Issue column, this is the 4th column\n",
    "## or 3rd index\n",
    "\n",
    "import sys\n",
    "import string\n",
    "from nltk.corpus import stopwords\n",
    "delim = \",\"\n",
    "\n",
    "# get a translation table ready to strip punctuation\n",
    "translate_table = string.maketrans(\" \",\" \")\n",
    "\n",
    "# Getting limitexceeded warning. Hoping this will\n",
    "# reduce number of counters\n",
    "stop_list = stopwords.words('english')\n",
    "\n",
    "sys.stderr.write(\"reporter:counter:group,Num mapper calls,1\\n\")\n",
    "for index, line in enumerate(sys.stdin):\n",
    "    \n",
    "    # split by delimiter\n",
    "    sections = line.split(delim)\n",
    "    \n",
    "    # skip the headers and bad rows\n",
    "    if (index == 0) or (len(sections) == 0):\n",
    "        continue\n",
    "    # Grab issue column only\n",
    "    issues = sections[3].lower()\n",
    "    \n",
    "    #strip punctuation\n",
    "    issues = issues.translate(translate_table, string.punctuation)\n",
    "    \n",
    "    for token in issues.strip().split(\" \"):\n",
    "        if token and token not in stop_list: # check if token is actually a word and not None\n",
    "            print token+\"\\t1\""
   ]
  },
  {
   "cell_type": "code",
   "execution_count": 161,
   "metadata": {
    "collapsed": false
   },
   "outputs": [
    {
     "name": "stdout",
     "output_type": "stream",
     "text": [
      "Overwriting reducer.py\n"
     ]
    }
   ],
   "source": [
    "%%writefile reducer.py\n",
    "#!/usr/bin/env python\n",
    "# based on lecture code\n",
    "import sys\n",
    "\n",
    "sys.stderr.write(\"reporter:counter:group,Num reducer calls,1\\n\")\n",
    "# initialize tuple for reducing\n",
    "(lastKey, sum) = (None, 0)\n",
    "\n",
    "# read in one line\n",
    "for line in sys.stdin:\n",
    "    (key, value) =  line.strip().split(\"\\t\")\n",
    "    \n",
    "    ## if we get a new key that is different from the last key (lastKey)\n",
    "    ## print out the sum we've calculated so far for lastKey\n",
    "    ## and start again with key as the new lastKey\n",
    "    if lastKey and lastKey != key:\n",
    "        print lastKey + \"\\t\" + str(sum)\n",
    "        (lastKey, sum) = (key, int(value))\n",
    "    \n",
    "    ## else, just keep counting\n",
    "    else:\n",
    "        (lastKey, sum) = (key, sum + int(value))\n",
    "\n",
    "## The very last key won't be printed within the for loop\n",
    "## so print it here\n",
    "if lastKey:\n",
    "    \n",
    "    print lastKey + '\\t' + str(sum)"
   ]
  },
  {
   "cell_type": "code",
   "execution_count": 12,
   "metadata": {
    "collapsed": false
   },
   "outputs": [],
   "source": [
    "!chmod a+x *.py\n",
    "!head -n1000 $HADOOP_HOME/input/Consumer_Complaints.csv |./mapper.py | sort | ./reducer.py"
   ]
  },
  {
   "cell_type": "code",
   "execution_count": 101,
   "metadata": {
    "collapsed": false
   },
   "outputs": [
    {
     "name": "stdout",
     "output_type": "stream",
     "text": [
      "16/01/30 20:13:30 WARN util.NativeCodeLoader: Unable to load native-hadoop library for your platform... using builtin-java classes where applicable\n",
      "Found 2 items\n",
      "-rw-r--r--   1 Safyre supergroup         31 2016-01-30 19:34 /user/safyre/input/3_2_1.txt\n",
      "-rw-r--r--   1 Safyre supergroup   50906486 2016-01-30 14:41 /user/safyre/input/Consumer_Complaints.csv\n"
     ]
    }
   ],
   "source": [
    "# get input file location again\n",
    "!hdfs dfs -ls /user/safyre/input"
   ]
  },
  {
   "cell_type": "code",
   "execution_count": 11,
   "metadata": {
    "collapsed": false
   },
   "outputs": [
    {
     "data": {
      "text/plain": [
       "'!hdfs dfs -rm -r /user/safyre/output3_2_2\\n!hadoop jar $HADOOP_HOME/share/hadoop/tools/lib/hadoop-streaming-2*.jar     -D mapreduce.job.maps=2     -D mapreduce.job.reduces=2    -file mapper.py     -file reducer.py     -mapper mapper.py     -reducer reducer.py     -input \"/user/safyre/input/Consumer_Complaints.csv\"     -output \"/user/safyre/output3_2_2\"'"
      ]
     },
     "execution_count": 11,
     "metadata": {},
     "output_type": "execute_result"
    }
   ],
   "source": [
    "## hadoop streaming\n",
    "## Kept getting memory erros, need to increase block size!\n",
    "## also got this interesting error from job's syslog file in chunk 02\n",
    "## in $HADOOP_HOME/logs/userlogs/application_1454192816461_0024/container_1454192816461_0024_01_000002\n",
    "## \"rg.apache.hadoop.streaming.PipeMapRed: \n",
    "##    org.apache.hadoop.mapreduce.counters.LimitExceededException: Too many counters: 121 max=120\"\n",
    "\n",
    "## SOLUTION: set the mapreduce.job.counters.max = 300 (was getting 169 counters)\n",
    "\n",
    "!hdfs dfs -rm -r /user/safyre/output3_2_2\n",
    "!hadoop jar $HADOOP_HOME/share/hadoop/tools/lib/hadoop-streaming-2*.jar \\\n",
    "    -D mapreduce.job.maps=2 \\\n",
    "    -D mapreduce.job.reduces=2\\\n",
    "    -file mapper.py \\\n",
    "    -file reducer.py \\\n",
    "    -mapper mapper.py \\\n",
    "    -reducer reducer.py \\\n",
    "    -input \"/user/safyre/input/Consumer_Complaints.csv\" \\\n",
    "    -output \"/user/safyre/output3_2_2\"\n",
    "\n"
   ]
  },
  {
   "cell_type": "code",
   "execution_count": 10,
   "metadata": {
    "collapsed": false
   },
   "outputs": [],
   "source": [
    "!hdfs dfs -cat /user/safyre/output3_2_2/part-00000"
   ]
  },
  {
   "cell_type": "markdown",
   "metadata": {},
   "source": [
    "### 3.2.3 \n",
    "\n",
    "*Perform a word count analysis of the Issue column of the Consumer Complaints  Dataset using a Mapper, Reducer, and standalone combiner (i.e., not an in-memory combiner) based WordCount using user defined Counters to count up how many time the mapper, combiner, reducer are called. What is the value of your user defined Mapper Counter, and Reducer Counter after completing your word count job.* \n"
   ]
  },
  {
   "cell_type": "code",
   "execution_count": 164,
   "metadata": {
    "collapsed": false
   },
   "outputs": [
    {
     "name": "stdout",
     "output_type": "stream",
     "text": [
      "Overwriting combiner.py\n"
     ]
    }
   ],
   "source": [
    "%%writefile combiner.py\n",
    "#!/usr/bin/env python\n",
    "# Combiner, combining counts\n",
    "# sums are associative and commutative\n",
    "# a combiner can take advantage of these properties\n",
    "# to try to achieve some performance gains--i.e. fewer spillovers\n",
    "import sys\n",
    "\n",
    "sys.stderr.write(\"reporter:counter:group,Num combiner calls,1\\n\")\n",
    "# initialize tuple for reducing\n",
    "(lastKey, sum) = (None, 0)\n",
    "\n",
    "# read in one line\n",
    "for line in sys.stdin:\n",
    "    (key, value) =  line.strip().split(\"\\t\")\n",
    "    \n",
    "    ## if we get a new key that is different from the last key (lastKey)\n",
    "    ## print out the sum we've calculated so far for lastKey\n",
    "    ## and start again with key as the new lastKey\n",
    "    if lastKey and lastKey != key:\n",
    "        print lastKey + \"\\t\" + str(sum)\n",
    "        (lastKey, sum) = (key, int(value))\n",
    "    \n",
    "    ## else, just keep counting\n",
    "    else:\n",
    "        (lastKey, sum) = (key, sum + int(value))\n",
    "\n",
    "## The very last key won't be printed within the for loop\n",
    "## so print it here\n",
    "if lastKey:\n",
    "    \n",
    "    print lastKey + '\\t' + str(sum)"
   ]
  },
  {
   "cell_type": "code",
   "execution_count": 165,
   "metadata": {
    "collapsed": true
   },
   "outputs": [],
   "source": [
    "!chmod a+x *.py"
   ]
  },
  {
   "cell_type": "code",
   "execution_count": 9,
   "metadata": {
    "collapsed": false
   },
   "outputs": [
    {
     "data": {
      "text/plain": [
       "'!hdfs dfs -rm -r /user/safyre/output3_2_3\\n!hadoop jar $HADOOP_HOME/share/hadoop/tools/lib/hadoop-streaming-2*.jar     -D mapreduce.job.maps=2     -D mapreduce.job.reduces=2    -file mapper.py     -file reducer.py     -file combiner.py     -mapper mapper.py     -reducer reducer.py     -combiner combiner.py     -input \"/user/safyre/input/Consumer_Complaints.csv\"     -output \"/user/safyre/output3_2_3\"'"
      ]
     },
     "execution_count": 9,
     "metadata": {},
     "output_type": "execute_result"
    }
   ],
   "source": [
    "## redo with a combiner\n",
    "!hdfs dfs -rm -r /user/safyre/output3_2_3\n",
    "!hadoop jar $HADOOP_HOME/share/hadoop/tools/lib/hadoop-streaming-2*.jar \\\n",
    "    -D mapreduce.job.maps=2 \\\n",
    "    -D mapreduce.job.reduces=2\\\n",
    "    -file mapper.py \\\n",
    "    -file reducer.py \\\n",
    "    -file combiner.py \\\n",
    "    -mapper mapper.py \\\n",
    "    -reducer reducer.py \\\n",
    "    -combiner combiner.py \\\n",
    "    -input \"/user/safyre/input/Consumer_Complaints.csv\" \\\n",
    "    -output \"/user/safyre/output3_2_3\""
   ]
  },
  {
   "cell_type": "markdown",
   "metadata": {},
   "source": [
    "**ANSWER:** The mapper, combiner, and reducer were called 4, 2, and 2 times respectively. Adding the combiner improved the the GC (garbage collection) time by 24 ms, reduced the records load on the mapper and reducer tasks, and reduced spillover from 1,606,924 records to 534 records. "
   ]
  },
  {
   "cell_type": "markdown",
   "metadata": {},
   "source": [
    "### 3.2.4 \n",
    "\n",
    "*Using a single reducer: What are the top 50 most frequent terms in your word count analysis? Present the top 50 terms and their frequency and their relative frequency. If there are ties please sort the tokens in alphanumeric/string order. Present bottom 10 tokens (least frequent items).* "
   ]
  },
  {
   "cell_type": "code",
   "execution_count": null,
   "metadata": {
    "collapsed": true
   },
   "outputs": [],
   "source": [
    "%%writefile combiner.py\n",
    "#!/usr/bin/env python\n",
    "# Combiner, combining counts\n",
    "# sums are associative and commutative\n",
    "# a combiner can take advantage of these properties\n",
    "# to try to achieve some performance gains--i.e. fewer spillovers\n",
    "import sys\n",
    "\n",
    "sys.stderr.write(\"reporter:counter:group,Num combiner calls,1\\n\")\n",
    "# initialize tuple for reducing\n",
    "(lastKey, sum) = (None, 0)\n",
    "\n",
    "# also output the overall sum for relative frequencies\n",
    "total_count = 0\n",
    "\n",
    "# read in one line\n",
    "for line in sys.stdin:\n",
    "    (key, value) =  line.strip().split(\"\\t\")\n",
    "    \n",
    "    ## if we get a new key that is different from the last key (lastKey)\n",
    "    ## print out the sum we've calculated so far for lastKey\n",
    "    ## and start again with key as the new lastKey\n",
    "    ### for this part, reverse the key and values to sort by frequencies\n",
    "    if lastKey and lastKey != key:\n",
    "        print  lastKey + \"\\t\" + str(sum)\n",
    "        (lastKey, sum) = (key, int(value))\n",
    "    \n",
    "    ## else, just keep counting\n",
    "    else:\n",
    "        (lastKey, sum) = (key, sum + int(value))\n",
    "        total_count += int(value)\n",
    "\n",
    "## The very last key won't be printed within the for loop\n",
    "## so print it here\n",
    "if lastKey:\n",
    "    print lastKey + \"\\t\" + str(sum) \n",
    "    \n",
    "## Finally, print the count of all words\n",
    "print  \"*\" + \"\\t\" + str(total_count) #+ str(1)"
   ]
  },
  {
   "cell_type": "code",
   "execution_count": 228,
   "metadata": {
    "collapsed": false
   },
   "outputs": [
    {
     "name": "stdout",
     "output_type": "stream",
     "text": [
      "Overwriting reducer.py\n"
     ]
    }
   ],
   "source": [
    "%%writefile reducer.py\n",
    "#!/usr/bin/python\n",
    "# based on solutions from homework 2\n",
    "\n",
    "## However, the idea here is the keys are now the words,\n",
    "# but we are sorting by value (sum)\n",
    "\n",
    "import sys, Queue\n",
    "\n",
    "# set number of top and bottom frequencies\n",
    "n_max, n_min = 50, 10\n",
    "q_max = Queue.Queue(n_max)\n",
    "a_min = []\n",
    "total_count = 0\n",
    "\n",
    "for line in sys.stdin:\n",
    "    rec = line.split('\\t')\n",
    "    rec[1] =rec[1].strip()\n",
    "    \n",
    "    # grab the total counts to get relative frequencies\n",
    "    if rec[0] == \"*\":\n",
    "        total_count = int(rec[1])\n",
    "        continue\n",
    "    \n",
    "    # put the smallest values into the list until\n",
    "    # the list size = 10\n",
    "    if len(a_min) < n_min:\n",
    "        a_min.append('\\t'.join(rec))\n",
    "        \n",
    "    \n",
    "    # once the queue is full (50 items)\n",
    "    # remove and return the values\n",
    "    if q_max.full():\n",
    "        q_max.get()\n",
    "        \n",
    "    # put the remainders into the queue as lists\n",
    "    q_max.put('\\t'.join(rec))\n",
    "\n",
    "print '\\n%d smallest records:' %n_min\n",
    "for record in a_min:\n",
    "    print record\n",
    "\n",
    "print '\\n%d biggest records:' %n_max\n",
    "for i in range(n_max):\n",
    "    print q_max.get()"
   ]
  },
  {
   "cell_type": "code",
   "execution_count": 272,
   "metadata": {
    "collapsed": false
   },
   "outputs": [
    {
     "name": "stdout",
     "output_type": "stream",
     "text": [
      "Overwriting reducer2.py\n"
     ]
    }
   ],
   "source": [
    "%%writefile reducer2.py\n",
    "#!/usr/bin/python\n",
    "# Rewriting the reducer to try and combine the counts\n",
    "\n",
    "## However, the idea here is the keys are now the words,\n",
    "# but we are sorting by value (sum)\n",
    "\n",
    "import sys, Queue\n",
    "\n",
    "# initialize tuple for reducing\n",
    "[lastKey, keysum] = [None, 0]\n",
    "\n",
    "# also output the overall sum for relative frequencies\n",
    "total_count = 0\n",
    "all_kv = []\n",
    "\n",
    "# read in one line\n",
    "for line in sys.stdin:\n",
    "    [key, value] =  line.strip().split(\"\\t\")\n",
    "    \n",
    "    ## if we get a new key that is different from the last key (lastKey)\n",
    "    ## print out the sum we've calculated so far for lastKey\n",
    "    ## and start again with key as the new lastKey\n",
    "    ### for this part, reverse the key and values to sort by frequencies\n",
    "    if lastKey and lastKey != key:\n",
    "        [lastKey, keysum] = [key, int(value)]\n",
    "        all_kv.append([lastKey, str(keysum)])\n",
    "        total_count += keysum\n",
    "        \n",
    "    ## else, just keep counting\n",
    "    else:\n",
    "        [lastKey, keysum] = [key, keysum + int(value)]\n",
    "\n",
    "## Finally, print the count of all words\n",
    "all_kv.append([\"*\", str(total_count)])\n",
    "\n",
    "\n",
    "## now grab top 50 and bottom 10\n",
    "# set number of top and bottom frequencies\n",
    "n_max, n_min = 50, 10\n",
    "q_max = Queue.Queue(n_max)\n",
    "a_min = []\n",
    "\n",
    "for rec in all_kv:  \n",
    "    # grab the total counts to get relative frequencies\n",
    "    if rec[0] == \"*\":\n",
    "        total_count = int(rec[1])\n",
    "        continue\n",
    "    \n",
    "    # put the smallest values into the list until\n",
    "    # the list size = 10\n",
    "    if len(a_min) < n_min:\n",
    "        a_min.append('\\t'.join(rec))\n",
    "        \n",
    "    \n",
    "    # once the queue is full (50 items)\n",
    "    # remove and return the values\n",
    "    if q_max.full():\n",
    "        q_max.get()\n",
    "        \n",
    "    # put the remainders into the queue as lists\n",
    "    q_max.put('\\t'.join(rec))\n",
    "\n",
    "print '\\n%d smallest records:' %n_min\n",
    "for record in a_min:\n",
    "    print record\n",
    "\n",
    "print '\\n%d biggest records:' %n_max\n",
    "for i in range(n_max):\n",
    "    print q_max.get()"
   ]
  },
  {
   "cell_type": "code",
   "execution_count": 273,
   "metadata": {
    "collapsed": true
   },
   "outputs": [],
   "source": [
    "!chmod a+x *.py"
   ]
  },
  {
   "cell_type": "code",
   "execution_count": 8,
   "metadata": {
    "collapsed": false
   },
   "outputs": [],
   "source": [
    "## poor mans version\n",
    "# k 2,2 means sort on second field only\n",
    "# rn means reverse (desc) numeric sort\n",
    "!head -n1000 $HADOOP_HOME/input/Consumer_Complaints.csv |./mapper.py |sort |./combiner.py|sort -k2,2n -k1,1 | ./reducer2.py #|head -n50\n"
   ]
  },
  {
   "cell_type": "code",
   "execution_count": 7,
   "metadata": {
    "collapsed": false
   },
   "outputs": [
    {
     "data": {
      "text/plain": [
       "'\\n!hdfs dfs -rm -r /user/safyre/output3_2_4\\n!hadoop jar $HADOOP_HOME/share/hadoop/tools/lib/hadoop-streaming-2*.jar     -D stream.num.map.output.key.fields=2    -D mapreduce.job.maps=1     -D mapreduce.job.reduces=1    -file mapper.py     -file reducer2.py     -file combiner.py     -mapper mapper.py     -combiner combiner.py     -reducer reducer2.py     -input \"/user/safyre/input/Consumer_Complaints.csv\"     -output \"/user/safyre/output3_2_4\"\\n'"
      ]
     },
     "execution_count": 7,
     "metadata": {},
     "output_type": "execute_result"
    }
   ],
   "source": [
    "## redo with a combiner\n",
    "## Some notes on the mapred parameters\n",
    "#    stream.num.map.output.key.fields=2, tells hadoop both fields (we only have two) should be treated like keys\n",
    "# -D mapreduce.partition.keypartitioner.options=\"-k2,2\" \\\n",
    "# -D mapreduce.partition.keycomparator.options=\"-k2,2n -k1,1\" \\\n",
    "#    -D mapreduce.job.output.key.comparator.class=org.apache.hadoop.mapred.lib.KeyFieldBasedComparator \\\n",
    "#    -D mapreduce.map.output.key.field.separator='\\t' \\\n",
    "\n",
    "!hdfs dfs -rm -r /user/safyre/output3_2_4\n",
    "!hadoop jar $HADOOP_HOME/share/hadoop/tools/lib/hadoop-streaming-2*.jar \\\n",
    "    -D stream.num.map.output.key.fields=2\\\n",
    "    -D mapreduce.job.maps=1 \\\n",
    "    -D mapreduce.job.reduces=1\\\n",
    "    -file mapper.py \\\n",
    "    -file reducer2.py \\\n",
    "    -file combiner.py \\\n",
    "    -mapper mapper.py \\\n",
    "    -combiner combiner.py \\\n",
    "    -reducer reducer2.py \\\n",
    "    -input \"/user/safyre/input/Consumer_Complaints.csv\" \\\n",
    "    -output \"/user/safyre/output3_2_4\"\n"
   ]
  },
  {
   "cell_type": "code",
   "execution_count": 6,
   "metadata": {
    "collapsed": false
   },
   "outputs": [],
   "source": [
    "# Check output\n",
    "!hdfs dfs -ls /user/safyre/output3_2_4\n",
    "###   Found 3 items\n",
    "###   -rw-r--r--   1 Safyre supergroup        /user/safyre/output3_2_4/_SUCCESS\n",
    "###   -rw-r--r--   1 Safyre supergroup       /user/safyre/output3_2_4/part-00000\n",
    "\n",
    "!hdfs dfs -cat /user/safyre/output3_2_4/part-00000"
   ]
  },
  {
   "cell_type": "markdown",
   "metadata": {},
   "source": [
    "#### 3.2.1 OPTIONAL \n",
    "*Using 2 reducers: What are the top 50 most frequent terms in your word count analysis? Present the top 50 terms and their frequency and their relative frequency. Present the top 50 terms and their frequency and their relative frequency. If there are ties please sort the tokens in alphanumeric/string order. Present bottom 10 tokens (least frequent items). Please use a combiner.*"
   ]
  },
  {
   "cell_type": "markdown",
   "metadata": {},
   "source": [
    "### HW3.3. Shopping Cart Analysis\n",
    "*Product Recommendations: The action or practice of selling additional products or services \n",
    "to existing customers is called cross-selling. Giving product recommendation is \n",
    "one of the examples of cross-selling that are frequently used by online retailers. \n",
    "One simple method to give product recommendations is to recommend products that are frequently\n",
    "browsed together by the customers.*\n",
    "\n",
    "*For this homework use the online browsing behavior dataset located at:* \n",
    "\n",
    "       https://www.dropbox.com/s/zlfyiwa70poqg74/ProductPurchaseData.txt?dl=0\n",
    "\n",
    "*Each line in this dataset represents a browsing session of a customer. \n",
    "On each line, each string of 8 characters represents the id of an item browsed during that session. \n",
    "The items are separated by spaces.*\n",
    "\n",
    "*Here are the first few lines of the ProductPurchaseData* \n",
    "\n",
    "`FRO11987 ELE17451 ELE89019 SNA90258 GRO99222 \n",
    "GRO99222 GRO12298 FRO12685 ELE91550 SNA11465 ELE26917 ELE52966 FRO90334 SNA30755 ELE17451 FRO84225 SNA80192 \n",
    "ELE17451 GRO73461 DAI22896 SNA99873 FRO86643 \n",
    "ELE17451 ELE37798 FRO86643 GRO56989 ELE23393 SNA11465 \n",
    "ELE17451 SNA69641 FRO86643 FRO78087 SNA11465 GRO39357 ELE28573 ELE11375 DAI54444` \n",
    "\n",
    "\n",
    "**Do some exploratory data analysis of this dataset.** \n",
    "\n",
    "*How many unique items are available from this supplier?*\n",
    "\n"
   ]
  },
  {
   "cell_type": "code",
   "execution_count": 5,
   "metadata": {
    "collapsed": false
   },
   "outputs": [],
   "source": [
    "# get the data\n",
    "!wget -O $HADOOP_HOME/input/ProductPurchaseData.txt https://www.dropbox.com/s/zlfyiwa70poqg74/ProductPurchaseData.txt?dl=\n",
    "!hdfs dfs -put $HADOOP_HOME/input/ProductPurchaseData.txt /user/safyre/input\n",
    "!hdfs dfs -ls /user/safyre/input"
   ]
  },
  {
   "cell_type": "code",
   "execution_count": null,
   "metadata": {
    "collapsed": true
   },
   "outputs": [],
   "source": [
    "%%writefile mapper.py\n",
    "#!/usr/bin/env python\n",
    "# based on lecture code\n",
    "\n",
    "## Word count in the Issue column, this is the 4th column\n",
    "## or 3rd index\n",
    "\n",
    "import sys\n",
    "delim = \" \"\n",
    "\n",
    "sys.stderr.write(\"reporter:counter:group,Num mapper calls,1\\n\")\n",
    "for line in sys.stdin:\n",
    "    \n",
    "    # split by delimiter\n",
    "    items = line.strip().split(delim)\n",
    "    \n",
    "    # skip bad rows\n",
    "    if (len(sections) == 0):\n",
    "        continue\n",
    "    \n",
    "    for item in items:\n",
    "        print token+\"\\t1\" +str(1)"
   ]
  },
  {
   "cell_type": "code",
   "execution_count": null,
   "metadata": {
    "collapsed": true
   },
   "outputs": [],
   "source": [
    "%%writefile reducer.py\n",
    "#!/usr/bin/env python\n",
    "# based on lecture code\n",
    "import sys\n",
    "\n",
    "sys.stderr.write(\"reporter:counter:group,Num reducer calls,1\\n\")\n",
    "# initialize tuple for reducing\n",
    "(lastKey, sum) = (None, 0)\n",
    "\n",
    "# read in one line\n",
    "for line in sys.stdin:\n",
    "    (key, value) =  line.strip().split(\"\\t\")\n",
    "    \n",
    "    ## if we get a new key that is different from the last key (lastKey)\n",
    "    ## print out the sum we've calculated so far for lastKey\n",
    "    ## and start again with key as the new lastKey\n",
    "    if lastKey and lastKey != key:\n",
    "        print lastKey + \"\\t\" + str(sum)\n",
    "        (lastKey, sum) = (key, int(value))\n",
    "    \n",
    "    ## else, just keep counting\n",
    "    else:\n",
    "        (lastKey, sum) = (key, sum + int(value))\n",
    "\n",
    "## The very last key won't be printed within the for loop\n",
    "## so print it here\n",
    "if lastKey:\n",
    "    print lastKey + '\\t' + str(sum)"
   ]
  },
  {
   "cell_type": "code",
   "execution_count": null,
   "metadata": {
    "collapsed": true
   },
   "outputs": [],
   "source": [
    "chmod a+x *.py"
   ]
  },
  {
   "cell_type": "code",
   "execution_count": null,
   "metadata": {
    "collapsed": true
   },
   "outputs": [],
   "source": []
  },
  {
   "cell_type": "code",
   "execution_count": null,
   "metadata": {
    "collapsed": true
   },
   "outputs": [],
   "source": []
  },
  {
   "cell_type": "markdown",
   "metadata": {},
   "source": [
    "*Using a single reducer: Report your findings such as number of unique products; largest basket; report the top 50 most frequently purchased items,  their frequency,  and their relative frequency (break ties by sorting the products alphabetical order) etc. using Hadoop Map-Reduce.* "
   ]
  },
  {
   "cell_type": "code",
   "execution_count": null,
   "metadata": {
    "collapsed": true
   },
   "outputs": [],
   "source": []
  },
  {
   "cell_type": "markdown",
   "metadata": {},
   "source": [
    "### 3.3.1 OPTIONAL \n",
    "Using 2 reducers:  Report your findings such as number of unique products; largest basket; report the top 50 most frequently purchased items,  their frequency,  and their relative frequency (break ties by sorting the products alphabetical order) etc. using Hadoop Map-Reduce. "
   ]
  },
  {
   "cell_type": "markdown",
   "metadata": {},
   "source": [
    "### HW3.4. (Computationally prohibitive but then again Hadoop can handle this) Pairs\n",
    "\n",
    "*Suppose we want to recommend new products to the customer based on the products they\n",
    "have already browsed on the online website. Write a map-reduce program \n",
    "to find products which are frequently browsed together. Fix the support count (cooccurence count) to s = 100 \n",
    "(i.e. product pairs need to occur together at least 100 times to be considered frequent) \n",
    "and find pairs of items (sometimes referred to itemsets of size 2 in association rule mining) that have a support count of 100 or more.*\n",
    "\n",
    "*List the top 50 product pairs with corresponding support count (aka frequency), and relative frequency or support ( the number of records where they coccur/the number of baskets in the dataset)  in decreasing order of support  for frequent (100>count) itemsets of size 2.* \n",
    "\n"
   ]
  },
  {
   "cell_type": "code",
   "execution_count": 35,
   "metadata": {
    "collapsed": false
   },
   "outputs": [
    {
     "name": "stdout",
     "output_type": "stream",
     "text": [
      "Overwriting mapper.py\n"
     ]
    }
   ],
   "source": [
    "%%writefile mapper.py\n",
    "#!/usr/bin/env python\n",
    "# based on lecture code\n",
    "\n",
    "## Word count in the Issue column, this is the 4th column\n",
    "## or 3rd index\n",
    "\n",
    "import sys\n",
    "import numpy as np\n",
    "from collections import Counter #easy to count pairs\n",
    "\n",
    "delim = \" \"\n",
    "\n",
    "sys.stderr.write(\"reporter:counter:group,Num mapper calls,1\\n\")\n",
    "for line in sys.stdin:\n",
    "    # split by delimiter\n",
    "    items = line.strip().split(delim)\n",
    "    \n",
    "    # skip bad rows\n",
    "    if (len(items) == 0):\n",
    "        continue\n",
    "    \n",
    "    #pairs = Counter(zip(items, items[1:]))\n",
    "    \n",
    "    #pairs = {}\n",
    "    #for item1 in items[:-1]:\n",
    "    #    for item2 in items[1::]:\n",
    "    #        pairs[item1 + \" \" +item2] = str(1)\n",
    "\n",
    "            \n",
    "            \n",
    "    for item1 in items:\n",
    "        for item2 in items[1::]:\n",
    "    #for pair in pairs:    \n",
    "        # some sorting by whichever item is greater lexicographically\n",
    "            if item1 < item2:\n",
    "                #print \"%s\\t%s\\t%s\" % (pair[0], pair[1], pairs[pair])\n",
    "                print \"%s\\t%s\\t%s\" % (item1, item2, str(1))\n",
    "\n",
    "                # print for order inversion\n",
    "                #print \"%s\\t*\\t%s\"  % (pair[0], str(1))\n",
    "                print \"%s\\t*\\t%s\"  % (item1, str(1))\n",
    "            else:\n",
    "                #print \"%s\\t%s\\t%s\" % (pair[1], pair[0], pairs[pair])\n",
    "                print \"%s\\t%s\\t%s\" % (item1, item2, str(1))\n",
    "\n",
    "                # print for order inversion\n",
    "                #print \"%s\\t*\\t%s\"  % (pair[1], str(1))\n",
    "                print \"%s\\t*\\t%s\"  % (item1, str(1))"
   ]
  },
  {
   "cell_type": "code",
   "execution_count": 31,
   "metadata": {
    "collapsed": false,
    "scrolled": true
   },
   "outputs": [
    {
     "name": "stdout",
     "output_type": "stream",
     "text": [
      "Overwriting reducer.py\n"
     ]
    }
   ],
   "source": [
    "%%writefile reducer.py\n",
    "#!/usr/bin/env python\n",
    "# based on lecture code\n",
    "import sys\n",
    "\n",
    "sys.stderr.write(\"reporter:counter:group,Num reducer calls,1\\n\")\n",
    "# initialize tuple for reducing\n",
    "(lastKey, sum) = (None, 0)\n",
    "\n",
    "# read in one line\n",
    "for line in sys.stdin:\n",
    "    key1, key2, count=  line.strip().split(\"\\t\")\n",
    "    \n",
    "    # glue the keys back together\n",
    "    (key, value) = key1 + \"\\t\" + key2, count\n",
    "    \n",
    "    ## if we get a new key that is different from the last key (lastKey)\n",
    "    ## print out the sum we've calculated so far for lastKey\n",
    "    ## and start again with key as the new lastKey\n",
    "    if lastKey and lastKey != key:\n",
    "\n",
    "        if lastKey.split(\"\\t\")[1] == \"*\":\n",
    "            nkey1 = sum\n",
    "            #print lastKey + \"\\t\" + str(sum)\n",
    "            \n",
    "        elif nkey1:\n",
    "            freq = float(sum)/nkey1\n",
    "            if sum >=100:\n",
    "                print lastKey + \"\\t\" + str(sum) + \"\\t\" + str(freq)\n",
    "        \n",
    "        (lastKey, sum) = (key, int(value))\n",
    "    \n",
    "    ## else, just keep counting\n",
    "    else:\n",
    "        (lastKey, sum) = (key, sum + int(value))\n",
    "\n",
    "## The very last key won't be printed within the for loop\n",
    "## so print it here\n",
    "if lastKey and lastKey.split(\"\\t\")[1] != \"*\":\n",
    "    freq = float(sum)/nkey1\n",
    "    \n",
    "    if sum >= 100:\n",
    "        print lastKey + '\\t' + str(sum) + \"\\t\" + str(freq) "
   ]
  },
  {
   "cell_type": "code",
   "execution_count": 32,
   "metadata": {
    "collapsed": false
   },
   "outputs": [
    {
     "name": "stdout",
     "output_type": "stream",
     "text": [
      "Overwriting reducer2.py\n"
     ]
    }
   ],
   "source": [
    "%%writefile reducer2.py\n",
    "#!/usr/bin/env python\n",
    "\n",
    "import sys, Queue\n",
    "\n",
    "\n",
    "'''class Stack:\n",
    "    def __init__(self):\n",
    "        self.items = []\n",
    "\n",
    "    def isEmpty(self):\n",
    "        return self.items == []\n",
    "\n",
    "    def push(self, item):\n",
    "        self.items.append(item)\n",
    "\n",
    "    def pop(self):\n",
    "        return self.items.pop()\n",
    "\n",
    "    def peek(self):\n",
    "        return self.items[len(self.items)-1]\n",
    "\n",
    "    def size(self):\n",
    "        return len(self.items)'''\n",
    "\n",
    "        \n",
    "n_max = 50\n",
    "q_max = Queue.Queue(n_max)\n",
    "\n",
    "\n",
    "for pair in sys.stdin:  \n",
    "    # grab the total counts to get relative frequencies\n",
    "    rec = pair.split('-')\n",
    "    \n",
    "    # once the queue is full (50 items)\n",
    "    # remove and return the values\n",
    "    if q_max.full():\n",
    "        q_max.get()\n",
    "        \n",
    "    # put the remainders into the queue as lists\n",
    "    q_max.put('\\t'.join(rec))\n",
    "\n",
    "print '\\n%d biggest records:' %n_max\n",
    "\n",
    "\n",
    "    \n",
    "'''## need to reprint in reverse,\n",
    "## numbers are top 50 in ascending order\n",
    "## offload the queue into a stack and then\n",
    "## pop the values off the top of the stack\n",
    "## until it's empty\n",
    "aux_stack = Stack()\n",
    "while not aux_stack.isEmpty():\n",
    "    aux_stack.push(q_max.dequeue())\n",
    "\n",
    "while not aux_stack.isEmpty():\n",
    "    q_max.enqueue(aux_stack.pop())'''\n",
    "\n",
    "\n",
    "\n",
    "\n",
    "# will hang otherwise if Queue isn't filled\n",
    "for i in range(n_max):\n",
    "    try:\n",
    "        task = q_max.get(timeout=1) #timeout throws and Empty exception\n",
    "        print q_max.get()\n",
    "\n",
    "    except Queue.Empty:\n",
    "        break\n"
   ]
  },
  {
   "cell_type": "code",
   "execution_count": 4,
   "metadata": {
    "collapsed": false
   },
   "outputs": [],
   "source": [
    "!chmod a+x *.py\n",
    "!head -n5000 $HADOOP_HOME/input/ProductPurchaseData.txt | ./mapper.py |sort | ./reducer.py #| sort -k3,3rn | ./reducer2.py"
   ]
  },
  {
   "cell_type": "code",
   "execution_count": 1,
   "metadata": {
    "collapsed": false
   },
   "outputs": [
    {
     "name": "stdout",
     "output_type": "stream",
     "text": [
      "^C\n",
      "16/02/03 22:56:12 WARN streaming.StreamJob: -file option is deprecated, please use generic option -files instead.\n",
      "16/02/03 22:56:12 WARN util.NativeCodeLoader: Unable to load native-hadoop library for your platform... using builtin-java classes where applicable\n",
      "packageJobJar: [mapper.py, reducer.py, reducer2.py, /var/folders/jz/dhc2gzfj2091nhfmrbvv3cjh0000gn/T/hadoop-unjar1834670952883990278/] [] /var/folders/jz/dhc2gzfj2091nhfmrbvv3cjh0000gn/T/streamjob7822266202527297471.jar tmpDir=null\n",
      "16/02/03 22:56:14 INFO client.RMProxy: Connecting to ResourceManager at /127.0.0.1:8032\n",
      "16/02/03 22:56:14 INFO client.RMProxy: Connecting to ResourceManager at /127.0.0.1:8032\n",
      "16/02/03 22:56:14 ERROR streaming.StreamJob: Error Launching job : Call From safyres-macbook-pro.local/10.1.10.136 to localhost:9000 failed on connection exception: java.net.ConnectException: Connection refused; For more details see:  http://wiki.apache.org/hadoop/ConnectionRefused\n",
      "Streaming Command Failed!\n"
     ]
    }
   ],
   "source": [
    "## redo with a combiner\n",
    "#Some notes on the mapred parameters\n",
    "#    stream.num.map.output.key.fields=2, tells hadoop both fields (we only have two) should be treated like keys\n",
    "# -D mapreduce.partition.keypartitioner.options=\"-k2,2\" \\\n",
    "# -D mapreduce.partition.keycomparator.options=\"-k2,2n -k1,1\" \\\n",
    "#    -D mapreduce.job.output.key.comparator.class=org.apache.hadoop.mapred.lib.KeyFieldBasedComparator \\\n",
    "#    -D mapreduce.map.output.key.field.separator='\\t' \\\n",
    "!hdfs dfs -rm -r /user/safyre/output3_4\n",
    "!hadoop jar $HADOOP_HOME/share/hadoop/tools/lib/hadoop-streaming-2*.jar \\\n",
    "    -D stream.num.map.output.key.fields=3 \\\n",
    "    -D mapreduce.map.output.key.field.separator='\\t' \\\n",
    "    -D mapreduce.partition.keypartitioner.options=\"-k1,1\" \\\n",
    "    -file mapper.py \\\n",
    "    -file reducer.py \\\n",
    "    -file reducer2.py \\\n",
    "    -mapper mapper.py \\\n",
    "    -input \"/user/safyre/input/ProductPurchaseData.txt\" \\\n",
    "    -output \"/user/safyre/output3_4\""
   ]
  },
  {
   "cell_type": "code",
   "execution_count": 2,
   "metadata": {
    "collapsed": false
   },
   "outputs": [],
   "source": [
    "!hdfs dfs -cat /user/safyre/output3_4/part-00000"
   ]
  },
  {
   "cell_type": "code",
   "execution_count": 24,
   "metadata": {
    "collapsed": false
   },
   "outputs": [
    {
     "name": "stdout",
     "output_type": "stream",
     "text": [
      "Overwriting mappersort.py\n"
     ]
    }
   ],
   "source": [
    "%%writefile mappersort.py\n",
    "#!/usr/bin/env python\n",
    "\n",
    "## a mapper used to just sort the data\n",
    "\n",
    "import sys\n",
    "\n",
    "for line in sys.stdin:\n",
    "    line = line.strip()\n",
    "    \n",
    "    # wondering if the sorter can't detect a \\t character\n",
    "    line = \"-\".join(line.split())\n",
    "    print line"
   ]
  },
  {
   "cell_type": "code",
   "execution_count": 25,
   "metadata": {
    "collapsed": true
   },
   "outputs": [],
   "source": [
    "!chmod a+x *.py"
   ]
  },
  {
   "cell_type": "code",
   "execution_count": 3,
   "metadata": {
    "collapsed": false
   },
   "outputs": [
    {
     "data": {
      "text/plain": [
       "'\\n!hdfs dfs -rm -r /user/safyre/output3_4_2\\n!hadoop jar $HADOOP_HOME/share/hadoop/tools/lib/hadoop-streaming-2*.jar     -D stream.num.map.output.key.fields=3     -D mapreduce.partition.keycomparator.options=\"-k3,3n -k1,1\"     -D mapreduce.job.output.key.comparator.class=org.apache.hadoop.mapred.lib.KeyFieldBasedComparator     -D mapreduce.map.output.key.field.separator=\"-\"     -file mapper.py     -file reducer.py     -file reducer2.py     -file mappersort.py     -mapper mappersort.py     -reducer reducer2.py     -input \"/user/safyre/output3_4/part-00000\"     -output \"/user/safyre/output3_4_2\"\\n    '"
      ]
     },
     "execution_count": 3,
     "metadata": {},
     "output_type": "execute_result"
    }
   ],
   "source": [
    "#!hdfs dfs -ls /user/safyre/output3_4\n",
    "#!hdfs dfs -cat /user/safyre/output3_4/part-00000\n",
    "\n",
    "## Part 2!\n",
    "\n",
    "!hdfs dfs -rm -r /user/safyre/output3_4_2\n",
    "!hadoop jar $HADOOP_HOME/share/hadoop/tools/lib/hadoop-streaming-2*.jar \\\n",
    "    -D stream.num.map.output.key.fields=3 \\\n",
    "    -D mapreduce.partition.keycomparator.options=\"-k3,3n -k1,1\" \\\n",
    "    -D mapreduce.job.output.key.comparator.class=org.apache.hadoop.mapred.lib.KeyFieldBasedComparator \\\n",
    "    -D mapreduce.map.output.key.field.separator=\"-\" \\\n",
    "    -file mapper.py \\\n",
    "    -file reducer.py \\\n",
    "    -file reducer2.py \\\n",
    "    -file mappersort.py \\\n",
    "    -mapper mappersort.py \\\n",
    "    -reducer reducer2.py \\\n",
    "    -input \"/user/safyre/output3_4/part-00000\" \\\n",
    "    -output \"/user/safyre/output3_4_2\"\n"
   ]
  },
  {
   "cell_type": "code",
   "execution_count": 27,
   "metadata": {
    "collapsed": false
   },
   "outputs": [
    {
     "name": "stdout",
     "output_type": "stream",
     "text": [
      "16/02/03 21:40:18 WARN util.NativeCodeLoader: Unable to load native-hadoop library for your platform... using builtin-java classes where applicable\n",
      "Found 2 items\n",
      "-rw-r--r--   1 Safyre supergroup          0 2016-02-03 21:40 /user/safyre/output3_4_2/_SUCCESS\n",
      "-rw-r--r--   1 Safyre supergroup        222 2016-02-03 21:40 /user/safyre/output3_4_2/part-00000\n",
      "16/02/03 21:40:20 WARN util.NativeCodeLoader: Unable to load native-hadoop library for your platform... using builtin-java classes where applicable\n",
      "\t\n",
      "50 biggest records:\t\n",
      "F\tR\t76539\t1.0\t\n",
      "\t\n",
      "A\tD\t88004\t1.0\t\n",
      "\t\n",
      "F\tR\t121935\t0.999991798977\t\n",
      "\t\n",
      "G\tR\t127495\t1.0\t\n",
      "\t\n",
      "E\tL\t143387\t1.0\t\n",
      "\t\n",
      "F\tR\t327806\t1.00000305059\t\n",
      "\t\n",
      "N\tS\t344997\t1.0\t\n",
      "\t\n",
      "G\tR\t382135\t1.0\t\n",
      "\t\n",
      "E\tL\t388537\t1.0\t\n",
      "\t\n",
      "E\tL\t404824\t1.0\t\n",
      "\t\n"
     ]
    }
   ],
   "source": [
    "!hdfs dfs -ls /user/safyre/output3_4_2\n",
    "!hdfs dfs -cat /user/safyre/output3_4_2/part-00000"
   ]
  },
  {
   "cell_type": "markdown",
   "metadata": {},
   "source": [
    "*Use the Pairs pattern (lecture 3)  to  extract these frequent itemsets of size 2. Free free to use combiners if they bring value. Instrument your code with counters for count the number of times your mapper, combiner and reducers are called.*  \n",
    "\n",
    "*Please output records of the following form for the top 50 pairs (itemsets of size 2):* \n",
    "\n",
    "      item1, item2, support count, support\n",
    "\n",
    "\n",
    "\n",
    "*Fix the ordering of the pairs lexicographically (left to right), \n",
    "and break ties in support (between pairs, if any exist) \n",
    "by taking the first ones in lexicographically increasing order.* \n",
    "\n",
    "*Report  the compute time for the Pairs job. Describe the computational setup used (E.g., single computer; dual core; linux, number of mappers, number of reducers)\n",
    "Instrument your mapper, combiner, and reducer to count how many times each is called using Counters and report these counts.*"
   ]
  },
  {
   "cell_type": "markdown",
   "metadata": {},
   "source": [
    "\n",
    "\n",
    "### HW3.5: Stripes\n",
    "*Repeat 3.4 using the stripes design pattern for finding cooccuring pairs.*\n",
    "\n",
    "*Report  the compute times for stripes job versus the Pairs job. Describe the computational setup used (E.g., single computer; dual core; linux, number of mappers, number of reducers)*\n",
    "\n",
    "*Instrument your mapper, combiner, and reducer to count how many times each is called using Counters and report these counts. Discuss the differences in these counts between the Pairs and Stripes jobs*\n",
    "\n",
    "\n",
    "\n",
    "\n",
    "OPTIONAL: all HW below this are optional \n",
    "\n",
    "NOTE:   -- as of 1/28/2016 the instructions needs to be completed (Talk to Jimi)\n",
    "\n",
    "\n",
    "\n",
    "== Preliminary information ===\n",
    "\n",
    "Much of this homework beyond this point will focus on the Apriori algorithm for frequent itemset  mining and the additional step for extracting association rules from these frequent itemsets.\n",
    "Please acquaint yourself with the background information (below)\n",
    "before approaching the remaining  assignments.\n",
    "\n",
    "=== Apriori background information ===\n",
    "\n",
    "Some background material for the  Apriori algorithm is located at:\n",
    "\n",
    " - Slides in Live Session #3\n",
    " - https://en.wikipedia.org/wiki/Apriori_algorithm\n",
    " - https://www.dropbox.com/s/k2zm4otych279z2/Apriori-good-slides.pdf?dl=0\n",
    " - http://snap.stanford.edu/class/cs246-2014/slides/02-assocrules.pdf\n",
    "\n",
    "Association Rules are frequently used for Market Basket Analysis (MBA) by retailers to\n",
    "understand the purchase behavior of their customers. This information can be then used for\n",
    "many different purposes such as cross-selling and up-selling of products, sales promotions,\n",
    "loyalty programs, store design, discount plans and many others.\n",
    "Evaluation of item sets: Once you have found the frequent itemsets of a dataset, you need\n",
    "to choose a subset of them as your recommendations. Commonly used metrics for measuring\n",
    "significance and interest for selecting rules for recommendations are: confidence; lift; and conviction.\n",
    "\n",
    "HW3.6\n",
    "What is the Apriori algorithm? Describe an example use in your domain of expertise and what kind of . Define confidence and lift.\n",
    "\n",
    "NOTE:\n",
    "For the remaining homework use the online browsing behavior dataset located at (same dataset as used above): \n",
    "\n",
    "       https://www.dropbox.com/s/zlfyiwa70poqg74/ProductPurchaseData.txt?dl=0\n",
    "\n",
    "Each line in this dataset represents a browsing session of a customer. \n",
    "On each line, each string of 8 characters represents the id of an item browsed during that session. \n",
    "The items are separated by spaces.\n",
    "\n",
    "Here are the first few lines of the ProductPurchaseData \n",
    "FRO11987 ELE17451 ELE89019 SNA90258 GRO99222 \n",
    "GRO99222 GRO12298 FRO12685 ELE91550 SNA11465 ELE26917 ELE52966 FRO90334 SNA30755 ELE17451 FRO84225 SNA80192 \n",
    "ELE17451 GRO73461 DAI22896 SNA99873 FRO86643 \n",
    "ELE17451 ELE37798 FRO86643 GRO56989 ELE23393 SNA11465 \n",
    "ELE17451 SNA69641 FRO86643 FRO78087 SNA11465 GRO39357 ELE28573 ELE11375 DAI54444 \n",
    "\n",
    "\n",
    "HW3.7. Shopping Cart Analysis\n",
    "Product Recommendations: The action or practice of selling additional products or services \n",
    "to existing customers is called cross-selling. Giving product recommendation is \n",
    "one of the examples of cross-selling that are frequently used by online retailers. \n",
    "One simple method to give product recommendations is to recommend products that are frequently\n",
    "browsed together by the customers.\n",
    "\n",
    "Suppose we want to recommend new products to the customer based on the products they\n",
    "have already browsed on the online website. Write a program using the A-priori algorithm\n",
    "to find products which are frequently browsed together. Fix the support to s = 100 \n",
    "(i.e. product sets need to occur together at least 100 times to be considered frequent) \n",
    "and find itemsets of size 2 and 3.\n",
    "\n",
    "Then extract association rules from these frequent items. \n",
    "\n",
    "A rule is of the form: \n",
    "\n",
    "(item1, item5) ⇒ item2.\n",
    "\n",
    "List the top 10 discovered rules in descreasing order of confidence in the following format\n",
    " \n",
    "(item1, item5) ⇒ item2, supportCount ,support, confidence\n",
    "\n",
    "HW3.8\n",
    "\n",
    "Benchmark your results using the pyFIM implementation of the Apriori algorithm\n",
    "(Apriori - Association Rule Induction / Frequent Item Set Mining implemented by Christian Borgelt). \n",
    "You can download pyFIM from here: \n",
    "\n",
    "http://www.borgelt.net/pyfim.html\n",
    "\n",
    "Comment on the results from both implementations (your Hadoop MapReduce of apriori versus pyFIM) \n",
    "in terms of results and execution times.\n",
    "\n",
    "\n",
    "HW3.8 (Conceptual Exercise)\n",
    "\n",
    "Suppose that you wished to perform the Apriori algorithm once again,\n",
    "though this time now with the goal of listing the top 5 rules with corresponding confidence scores \n",
    "in decreasing order of confidence score for itemsets of size 3 using Hadoop MapReduce.\n",
    "A rule is now of the form: \n",
    "\n",
    "(item1, item2) ⇒ item3 \n",
    "\n",
    "Recall that the Apriori algorithm is iterative for increasing itemset size,\n",
    "working off of the frequent itemsets of the previous size to explore \n",
    "ONLY the NECESSARY subset of a large combinatorial space. \n",
    "Describe how you might design a framework to perform this exercise.\n",
    "\n",
    "In particular, focus on the following:\n",
    "  — map-reduce steps required\n",
    "  - enumeration of item sets and filtering for frequent candidates"
   ]
  },
  {
   "cell_type": "code",
   "execution_count": null,
   "metadata": {
    "collapsed": true
   },
   "outputs": [],
   "source": []
  }
 ],
 "metadata": {
  "kernelspec": {
   "display_name": "Python 2",
   "language": "python",
   "name": "python2"
  },
  "language_info": {
   "codemirror_mode": {
    "name": "ipython",
    "version": 2
   },
   "file_extension": ".py",
   "mimetype": "text/x-python",
   "name": "python",
   "nbconvert_exporter": "python",
   "pygments_lexer": "ipython2",
   "version": "2.7.10"
  }
 },
 "nbformat": 4,
 "nbformat_minor": 0
}
