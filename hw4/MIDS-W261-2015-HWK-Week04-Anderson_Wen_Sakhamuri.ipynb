{
 "cells": [
  {
   "cell_type": "markdown",
   "metadata": {},
   "source": [
    "HW 4.2: Recall the Microsoft logfiles data from the async lecture. The logfiles are described are located at:\n",
    "\n",
    "https://kdd.ics.uci.edu/databases/msweb/msweb.html\n",
    "http://archive.ics.uci.edu/ml/machine-learning-databases/anonymous/\n",
    "\n",
    "This dataset records which areas (Vroots) of www.microsoft.com each user visited in a one-week timeframe in Feburary 1998.\n",
    "\n",
    " Here, you must preprocess the data on a single node (i.e., not on a cluster of nodes) from the format:\n",
    "\n",
    "C,\"10001\",10001   #Visitor id 10001\n",
    "\n",
    "V,1000,1          #Visit by Visitor 10001 to page id 1000\n",
    "\n",
    "V,1001,1          #Visit by Visitor 10001 to page id 1001\n",
    "\n",
    "V,1002,1          #Visit by Visitor 10001 to page id 1002\n",
    "\n",
    "C,\"10002\",10002   #Visitor id 10001\n",
    "\n",
    "V\n",
    "\n",
    "Note: #denotes comments\n",
    "to the format:\n",
    "\n",
    "V,1000,1,C, 10001\n",
    "\n",
    "V,1001,1,C, 10001\n",
    "\n",
    "V,1002,1,C, 10001\n",
    "\n",
    "Write the python code to accomplish this."
   ]
  },
  {
   "cell_type": "code",
   "execution_count": null,
   "metadata": {
    "collapsed": false
   },
   "outputs": [],
   "source": [
    "!tail -n 100 anonymous-msweb.data"
   ]
  },
  {
   "cell_type": "code",
   "execution_count": 142,
   "metadata": {
    "collapsed": false
   },
   "outputs": [
    {
     "name": "stdout",
     "output_type": "stream",
     "text": [
      "Overwriting msft_preprocess.py\n"
     ]
    }
   ],
   "source": [
    "%%writefile msft_preprocess.py\n",
    "\n",
    "#!/usr/bin/python\n",
    "import sys\n",
    "import re\n",
    "\n",
    "filename_r = sys.argv[1]\n",
    "filename_w = sys.argv[2]\n",
    "\n",
    "print sys.argv\n",
    "start_C = 0\n",
    "start_V = 0\n",
    "\n",
    "with open(filename_r,\"r\") as fr:\n",
    "    for line_r in fr:\n",
    "        line_rs = []\n",
    "        line_rs = [subs.strip('\\\"') for subs in re.split(',',line_r.strip())]\n",
    "        if((start_V==1) and (start_C==1) and line_rs[0]=='V'):\n",
    "            line_rs.append('C')\n",
    "            line_rs.append(case_ID)\n",
    "            with open(filename_w,\"a+\") as fw:\n",
    "                fw.write(\",\".join(line_rs)+\"\\n\")\n",
    "        elif((start_V==0) and (start_C==1) and line_rs[0] =='V'):\n",
    "            line_rs.append('C')\n",
    "            line_rs.append(case_ID)\n",
    "            with open(filename_w,\"a+\") as fw:        \n",
    "                fw.write(\",\".join(line_rs)+\"\\n\")\n",
    "                start_V = 1\n",
    "        elif((start_V==1) and (start_C==1) and line_rs[0] =='C'):\n",
    "            case_ID = line_rs[1]\n",
    "            start_V = 0\n",
    "            start_C = 1\n",
    "        elif((start_V==0) and (start_C==1) and line_rs[0] =='C'):\n",
    "            case_ID = line_rs[1]\n",
    "            start_V = 0\n",
    "            start_C = 1\n",
    "        elif(start_V==0 and (start_C==0) and (line_rs[0]=='C')):\n",
    "            case_ID = line_rs[1]\n",
    "            start_V = 0\n",
    "            start_C = 1\n",
    "        \n",
    "        "
   ]
  },
  {
   "cell_type": "code",
   "execution_count": 143,
   "metadata": {
    "collapsed": false
   },
   "outputs": [
    {
     "name": "stdout",
     "output_type": "stream",
     "text": [
      "['msft_preprocess.py', 'anonymous-msweb.data', 'anonymous-msweb.data_mod']\r\n"
     ]
    }
   ],
   "source": [
    "!rm anonymous-msweb.data_mod\n",
    "!python msft_preprocess.py anonymous-msweb.data anonymous-msweb.data_mod"
   ]
  },
  {
   "cell_type": "code",
   "execution_count": null,
   "metadata": {
    "collapsed": true
   },
   "outputs": [],
   "source": [
    "!cat anonymous-msweb.data_mod "
   ]
  },
  {
   "cell_type": "markdown",
   "metadata": {},
   "source": [
    "HW 4.3: Find the 5 most frequently visited pages using MrJob from the output of 4.2 (i.e., transfromed log file)."
   ]
  },
  {
   "cell_type": "markdown",
   "metadata": {},
   "source": [
    "HW 4.4: Find the most frequent visitor of each page using MrJob and the output of 4.2  (i.e., transfromed log file). In this output please include the webpage URL, webpageID and Visitor ID."
   ]
  },
  {
   "cell_type": "markdown",
   "metadata": {},
   "source": [
    "HW 4.5 Here you will use a different dataset consisting of word-frequency distributions \n",
    "for 1,000 Twitter users. These Twitter users use language in very different ways,\n",
    "and were classified by hand according to the criteria:\n",
    "\n",
    "0: Human, where only basic human-human communication is observed.\n",
    "\n",
    "1: Cyborg, where language is primarily borrowed from other sources\n",
    "(e.g., jobs listings, classifieds postings, advertisements, etc...).\n",
    "\n",
    "2: Robot, where language is formulaically derived from unrelated sources\n",
    "(e.g., weather/seismology, police/fire event logs, etc...).\n",
    "\n",
    "3: Spammer, where language is replicated to high multiplicity\n",
    "(e.g., celebrity obsessions, personal promotion, etc... )\n",
    "\n",
    "Check out the preprints of our recent research,\n",
    "which spawned this dataset:\n",
    "\n",
    "http://arxiv.org/abs/1505.04342\n",
    "http://arxiv.org/abs/1508.01843\n",
    "\n",
    "The main data lie in the accompanying file:\n",
    "\n",
    "topUsers_Apr-Jul_2014_1000-words.txt\n",
    "\n",
    "and are of the form:\n",
    "\n",
    "USERID,CODE,TOTAL,WORD1_COUNT,WORD2_COUNT,...\n",
    ".\n",
    ".\n",
    "\n",
    "where\n",
    "\n",
    "USERID = unique user identifier\n",
    "CODE = 0/1/2/3 class code\n",
    "TOTAL = sum of the word counts\n",
    "\n",
    "Using this data, you will implement a 1000-dimensional K-means algorithm in MrJob on the users\n",
    "by their 1000-dimensional word stripes/vectors using several \n",
    "centroid initializations and values of K.\n",
    "\n",
    "Note that each \"point\" is a user as represented by 1000 words, and that\n",
    "word-frequency distributions are generally heavy-tailed power-laws\n",
    "(often called Zipf distributions), and are very rare in the larger class\n",
    "of discrete, random distributions. For each user you will have to normalize\n",
    "by its \"TOTAL\" column. Try several parameterizations and initializations:\n",
    "\n",
    "(A) K=4 uniform random centroid-distributions over the 1000 words\n",
    "(B) K=2 perturbation-centroids, randomly perturbed from the aggregated (user-wide) distribution \n",
    "(C) K=4 perturbation-centroids, randomly perturbed from the aggregated (user-wide) distribution \n",
    "(D) K=4 \"trained\" centroids, determined by the sums across the classes.\n",
    "\n",
    "For (A),  we select 4 users randomly from a uniform distribution [1,...,1,000]\n",
    "For (B), (C), and (D)  you will have to use data from the auxiliary file: \n",
    "\n",
    "topUsers_Apr-Jul_2014_1000-words_summaries.txt\n",
    "\n",
    "This file contains 5 special word-frequency distributions:\n",
    "\n",
    "(1) The 1000-user-wide aggregate, which you will perturb for initializations\n",
    "in parts (B) and (C), and\n",
    "\n",
    "(2-5) The 4 class-level aggregates for each of the user-type classes (0/1/2/3)\n",
    "\n",
    "In part (D), just use the (row-normalized) class-level aggregates as 'trained'\n",
    "starting centroids (the training is already done for you!).\n",
    "\n",
    "In parts (B) and (C), you will have to perturb the 1000-user aggregate \n",
    "(after initially normalizing by its sum, which is also provided).\n",
    "So if in (B) you want to create 2 perturbations of the aggregate, start\n",
    "with (1), normalize, and generate 1000 random numbers uniformly \n",
    "from the unit interval (0,1) twice (for two centroids), using:\n",
    "\n",
    "from numpy import random\n",
    "numbers = random.sample(1000)\n",
    "\n",
    "Take these 1000 numbers and add them (component-wise) to the 1000-user aggregate,\n",
    "and then renormalize to obtain one of your aggregate-perturbed initial centroids.\n",
    "——\n",
    "For experiments A, B, C and D and iterate until a threshold (try 0.001) is reached.\n",
    "After convergence, print out a summary of the classes present in each cluster.\n",
    "In particular, report the composition as measured by the total\n",
    "portion of each class type (0-3) contained in each cluster,\n",
    "and discuss your findings and any differences in outcomes across parts A-D.\n",
    "\n",
    "Note that you do not have to compute the aggregated distribution or the \n",
    "class-aggregated distributions, which are rows in the auxiliary file:\n",
    "\n",
    "topUsers_Apr-Jul_2014_1000-words_summaries.txt\n"
   ]
  }
 ],
 "metadata": {
  "kernelspec": {
   "display_name": "Python 2",
   "language": "python",
   "name": "python2"
  },
  "language_info": {
   "codemirror_mode": {
    "name": "ipython",
    "version": 2
   },
   "file_extension": ".py",
   "mimetype": "text/x-python",
   "name": "python",
   "nbconvert_exporter": "python",
   "pygments_lexer": "ipython2",
   "version": "2.7.10"
  }
 },
 "nbformat": 4,
 "nbformat_minor": 0
}
