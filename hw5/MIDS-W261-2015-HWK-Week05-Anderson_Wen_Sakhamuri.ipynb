{
 "cells": [
  {
   "cell_type": "markdown",
   "metadata": {},
   "source": [
    "**Names** Safyre Anderson, Howard Wen , Vamsi Sakhamuri\n",
    "\n",
    "**Emails** safyre@berkeley.edu, howard.wen1@gmail.com, vamsi@ischool.berkeley.edu \n",
    "\n",
    "**Time of Initial Submission:** February 18th, 2016 8am PST\n",
    "\n",
    "**Section** W261-3, Spring 2016  \n",
    "\n",
    "**Week** 5 Homework"
   ]
  },
  {
   "cell_type": "markdown",
   "metadata": {},
   "source": [
    "## HW 5.0\n",
    "*What is a data warehouse? What is a Star schema? When is it used?*"
   ]
  },
  {
   "cell_type": "markdown",
   "metadata": {},
   "source": [
    "## HW 5.1\n",
    "*In the database world What is 3NF? Does machine learning use data in 3NF? If so why?  \n",
    "In what form does ML consume data?  \n",
    "Why would one use log files that are denormalized?  *"
   ]
  },
  {
   "cell_type": "markdown",
   "metadata": {},
   "source": [
    "## HW 5.2\n",
    "*Using MRJob, implement a hashside join (memory-backed map-side) for left,right and inner joins. Run your code on the  data used in HW 4.4: (Recall HW 4.4: Find the most frequent visitor of each page using mrjob and the output of 4.2  (i.e., transfromed log file). In this output please include the webpage URL, webpageID and Visitor ID.)*\n",
    "\n",
    "*Justify which table you chose as the Left table in this hashside join.*\n",
    "\n",
    "*Please report the number of rows resulting from:*\n",
    "\n",
    "*(1) Left joining Table Left with Table Right  \n",
    "(2) Right joining Table Left with Table Right  \n",
    "(3) Inner joining Table Left with Table Right*  "
   ]
  },
  {
   "cell_type": "code",
   "execution_count": 1,
   "metadata": {
    "collapsed": false
   },
   "outputs": [
    {
     "name": "stdout",
     "output_type": "stream",
     "text": [
      "Writing msft_preprocess.py\n"
     ]
    }
   ],
   "source": [
    "%%writefile msft_preprocess.py\n",
    "\n",
    "#!/usr/bin/python\n",
    "import sys\n",
    "import re\n",
    "\n",
    "filename_r = sys.argv[1]    #original file\n",
    "filename_w = sys.argv[2]    #modified file\n",
    "\n",
    "start_C = 0\n",
    "start_V = 0\n",
    "\n",
    "with open(filename_r,\"r\") as fr:\n",
    "    for line_r in fr:\n",
    "        line_rs = []\n",
    "        line_rs = [subs.strip('\\\"') for subs in re.split(',',line_r.strip())]\n",
    "        if((start_V==1) and (start_C==1) and line_rs[0]=='V'):    #second and beyond vroot's of a customer\n",
    "            line_rs.append('C')\n",
    "            line_rs.append(case_ID)\n",
    "            with open(filename_w,\"a+\") as fw:\n",
    "                fw.write(\",\".join(line_rs)+\"\\n\")\n",
    "        elif((start_V==0) and (start_C==1) and line_rs[0] =='V'): #first Vroot of a customer\n",
    "            line_rs.append('C')\n",
    "            line_rs.append(case_ID)\n",
    "            with open(filename_w,\"a+\") as fw:        \n",
    "                fw.write(\",\".join(line_rs)+\"\\n\")\n",
    "                start_V = 1\n",
    "        elif((start_V==1) and (start_C==1) and line_rs[0] =='C'): \n",
    "            case_ID = line_rs[1]\n",
    "            start_V = 0\n",
    "            start_C = 1\n",
    "        elif((start_V==0) and (start_C==1) and line_rs[0] =='C'): \n",
    "            case_ID = line_rs[1]\n",
    "            start_V = 0\n",
    "            start_C = 1\n",
    "        elif(start_V==0 and (start_C==0) and (line_rs[0]=='C')): \n",
    "            case_ID = line_rs[1]\n",
    "            start_V = 0\n",
    "            start_C = 1"
   ]
  },
  {
   "cell_type": "code",
   "execution_count": 7,
   "metadata": {
    "collapsed": false
   },
   "outputs": [
    {
     "name": "stdout",
     "output_type": "stream",
     "text": [
      "I,4,\"www.microsoft.com\",\"created by getlog.pl\"\r\n",
      "T,1,\"VRoot\",0,0,\"VRoot\"\r\n",
      "N,0,\"0\"\r\n",
      "N,1,\"1\"\r\n",
      "T,2,\"Hide1\",0,0,\"Hide\"\r\n",
      "N,0,\"0\"\r\n",
      "N,1,\"1\"\r\n",
      "A,1287,1,\"International AutoRoute\",\"/autoroute\"\r\n",
      "A,1288,1,\"library\",\"/library\"\r\n",
      "A,1289,1,\"Master Chef Product Information\",\"/masterchef\"\r\n"
     ]
    }
   ],
   "source": [
    "!head anonymous-msweb.data"
   ]
  },
  {
   "cell_type": "code",
   "execution_count": 8,
   "metadata": {
    "collapsed": false
   },
   "outputs": [
    {
     "name": "stdout",
     "output_type": "stream",
     "text": [
      "V,1041,1\r\n",
      "C,\"42709\",42709\r\n",
      "V,1001,1\r\n",
      "V,1003,1\r\n",
      "C,\"42710\",42710\r\n",
      "V,1035,1\r\n",
      "V,1001,1\r\n",
      "V,1018,1\r\n",
      "C,\"42711\",42711\r\n",
      "V,1008,1\r\n"
     ]
    }
   ],
   "source": [
    "!tail anonymous-msweb.data"
   ]
  },
  {
   "cell_type": "code",
   "execution_count": 2,
   "metadata": {
    "collapsed": false
   },
   "outputs": [
    {
     "name": "stdout",
     "output_type": "stream",
     "text": [
      "rm: anonymous-msweb.data_mod: No such file or directory\r\n"
     ]
    }
   ],
   "source": [
    "!rm anonymous-msweb.data_mod\n",
    "!python msft_preprocess.py anonymous-msweb.data anonymous-msweb.data_mod"
   ]
  },
  {
   "cell_type": "code",
   "execution_count": 3,
   "metadata": {
    "collapsed": false
   },
   "outputs": [
    {
     "name": "stdout",
     "output_type": "stream",
     "text": [
      "\n",
      "First 10 lines of the post-processed file\n",
      "\n",
      "V,1000,1,C,10001\n",
      "V,1001,1,C,10001\n",
      "V,1002,1,C,10001\n",
      "V,1001,1,C,10002\n",
      "V,1003,1,C,10002\n",
      "V,1001,1,C,10003\n",
      "V,1003,1,C,10003\n",
      "V,1004,1,C,10003\n",
      "V,1005,1,C,10004\n",
      "V,1006,1,C,10005\n",
      "\n",
      "Last 10 lines of the post-processed file\n",
      "\n",
      "V,1123,1,C,42708\n",
      "V,1038,1,C,42708\n",
      "V,1026,1,C,42708\n",
      "V,1041,1,C,42708\n",
      "V,1001,1,C,42709\n",
      "V,1003,1,C,42709\n",
      "V,1035,1,C,42710\n",
      "V,1001,1,C,42710\n",
      "V,1018,1,C,42710\n",
      "V,1008,1,C,42711\n"
     ]
    }
   ],
   "source": [
    "!echo \"\\nFirst 10 lines of the post-processed file\\n\"\n",
    "!head anonymous-msweb.data_mod\n",
    "!echo \"\\nLast 10 lines of the post-processed file\\n\"\n",
    "!tail anonymous-msweb.data_mod"
   ]
  },
  {
   "cell_type": "code",
   "execution_count": 17,
   "metadata": {
    "collapsed": false
   },
   "outputs": [
    {
     "name": "stdout",
     "output_type": "stream",
     "text": [
      "Overwriting msft_preprocess1.py\n"
     ]
    }
   ],
   "source": [
    "%%writefile msft_preprocess1.py\n",
    "\n",
    "#!/usr/bin/python\n",
    "import sys\n",
    "import re\n",
    "\n",
    "filename_r = sys.argv[1]\n",
    "filename_w = sys.argv[2]\n",
    "\n",
    "with open(filename_r,\"r\") as fr:\n",
    "    for line_r in fr:\n",
    "        line_rs = [subs.strip('\\\"') for subs in re.split(',',line_r.strip())]\n",
    "        if(line_rs[0]=='A'):\n",
    "            with open(filename_w,\"a+\") as fw:\n",
    "                fw.write(\",\".join(line_rs) + '\\n')"
   ]
  },
  {
   "cell_type": "code",
   "execution_count": 18,
   "metadata": {
    "collapsed": false
   },
   "outputs": [],
   "source": [
    "!rm anonymous-msweb.data_attr\n",
    "!python msft_preprocess1.py anonymous-msweb.data anonymous-msweb.data_attr"
   ]
  },
  {
   "cell_type": "code",
   "execution_count": 19,
   "metadata": {
    "collapsed": false
   },
   "outputs": [
    {
     "name": "stdout",
     "output_type": "stream",
     "text": [
      "\n",
      "First 10 lines of the post-processed file\n",
      "\n",
      "A,1287,1,International AutoRoute,/autoroute\n",
      "A,1288,1,library,/library\n",
      "A,1289,1,Master Chef Product Information,/masterchef\n",
      "A,1297,1,Central America,/centroam\n",
      "A,1215,1,For Developers Only Info,/developer\n",
      "A,1279,1,Multimedia Golf,/msgolf\n",
      "A,1239,1,Microsoft Consulting,/msconsult\n",
      "A,1282,1,home,/home\n",
      "A,1251,1,Reference Support,/referencesupport\n",
      "A,1121,1,Microsoft Magazine,/magazine\n",
      "\n",
      "Last 10 lines of the post-processed file\n",
      "\n",
      "A,1265,1,Source Safe Support,/ssafesupport\n",
      "A,1271,1,mdsn,/mdsn\n",
      "A,1129,1,ActiveX Data Objects,/ado\n",
      "A,1018,1,isapi,/isapi\n",
      "A,1193,1,Office Developer Support,/offdevsupport\n",
      "A,1219,1,Corporate Advertising Content,/ads\n",
      "A,1030,1,Windows NT Server,/ntserver\n",
      "A,1182,1,Fortran,/fortran\n",
      "A,1100,1,MS in Education,/education\n",
      "A,1210,1,SNA Support,/snasupport\n"
     ]
    }
   ],
   "source": [
    "!echo \"\\nFirst 10 lines of the post-processed file\\n\"\n",
    "!head anonymous-msweb.data_attr\n",
    "!echo \"\\nLast 10 lines of the post-processed file\\n\"\n",
    "!tail anonymous-msweb.data_attr"
   ]
  },
  {
   "cell_type": "code",
   "execution_count": 56,
   "metadata": {
    "collapsed": false
   },
   "outputs": [
    {
     "name": "stdout",
     "output_type": "stream",
     "text": [
      "Overwriting reducersideinnerjoin.py\n"
     ]
    }
   ],
   "source": [
    "%%writefile reducersideinnerjoin.py\n",
    "from mrjob.job import MRJob\n",
    "from mrjob.step import MRJobStep\n",
    "from mrjob.compat import get_jobconf_value\n",
    " \n",
    "class innerjoin(MRJob):\n",
    "    def mapper(self, _, line):\n",
    "        x = line.strip().split(\",\")\n",
    "        if ((len(x) == 5) and (x[0]=='V')):\n",
    "            yield x[1], (\"lefttable\", x[0], x[2], x[3],x[4])\n",
    "        elif ((len(x) ==5) and (x[0]=='A')):\n",
    "            yield x[1], (\"righttable\", x[0],x[2],x[3],x[4])   \n",
    "\n",
    "    def reducer(self, key, values):\n",
    "        vroots = []\n",
    "        web = []\n",
    "        for val in values:\n",
    "            if val[0] == 'lefttable':\n",
    "                vroots.append(val)\n",
    "            else:\n",
    "                web.append(val)\n",
    "        for v in vroots:\n",
    "            for w in web:\n",
    "                yield None, [key] + v[1:] + w[1:]\n",
    "\n",
    "if __name__ == '__main__':\n",
    "    innerjoin.run()"
   ]
  },
  {
   "cell_type": "code",
   "execution_count": 63,
   "metadata": {
    "collapsed": false
   },
   "outputs": [
    {
     "name": "stdout",
     "output_type": "stream",
     "text": [
      "Overwriting reducersideleftjoin.py\n"
     ]
    }
   ],
   "source": [
    "%%writefile reducersideleftjoin.py\n",
    "from mrjob.job import MRJob\n",
    "from mrjob.step import MRJobStep\n",
    "from mrjob.compat import get_jobconf_value\n",
    " \n",
    "class leftjoin(MRJob):\n",
    "    def mapper(self, _, line):\n",
    "        x = line.strip().split(\",\")\n",
    "        if ((len(x) == 5) and (x[0]=='V')):\n",
    "            yield x[1], (\"lefttable\", x[0], x[2], x[3],x[4])\n",
    "        elif ((len(x) ==5) and (x[0]=='A')):\n",
    "            yield x[1], (\"righttable\", x[0],x[2],x[3],x[4])   \n",
    "\n",
    "    def reducer(self, key, values):\n",
    "        vroots = []\n",
    "        web = []\n",
    "        for val in values:\n",
    "            if val[0] == 'lefttable':\n",
    "                vroots.append(val)\n",
    "            else:\n",
    "                web.append(val)\n",
    "        for v in vroots:\n",
    "            if(len(web)==0):\n",
    "                yield None,[key] + v[1:]\n",
    "            else:\n",
    "                for w in web:\n",
    "                    yield None, [key] + v[1:] + w[1:]\n",
    "\n",
    "if __name__ == '__main__':\n",
    "    leftjoin.run()"
   ]
  },
  {
   "cell_type": "code",
   "execution_count": 67,
   "metadata": {
    "collapsed": false
   },
   "outputs": [
    {
     "name": "stdout",
     "output_type": "stream",
     "text": [
      "Overwriting reducersiderightjoin.py\n"
     ]
    }
   ],
   "source": [
    "%%writefile reducersiderightjoin.py\n",
    "from mrjob.job import MRJob\n",
    "from mrjob.step import MRJobStep\n",
    "from mrjob.compat import get_jobconf_value\n",
    " \n",
    "class rightjoin(MRJob):\n",
    "    def mapper(self, _, line):\n",
    "        x = line.strip().split(\",\")\n",
    "        if ((len(x) == 5) and (x[0]=='V')):\n",
    "            yield x[1], (\"lefttable\", x[0], x[2], x[3],x[4])\n",
    "        elif ((len(x) ==5) and (x[0]=='A')):\n",
    "            yield x[1], (\"righttable\", x[0],x[2],x[3],x[4])   \n",
    "\n",
    "    def reducer(self, key, values):\n",
    "        vroots = []\n",
    "        web = []\n",
    "        for val in values:\n",
    "            if val[0] == 'lefttable':\n",
    "                vroots.append(val)\n",
    "            else:\n",
    "                web.append(val)\n",
    "        for w in web:\n",
    "            if(len(vroots)==0):t\n",
    "                yield None,[key] + w[1:]\n",
    "            else:\n",
    "                for v in vroots:\n",
    "                    yield None, [key] + w[1:] + v[1:]\n",
    "\n",
    "if __name__ == '__main__':\n",
    "    rightjoin.run()"
   ]
  },
  {
   "cell_type": "code",
   "execution_count": 65,
   "metadata": {
    "collapsed": false
   },
   "outputs": [
    {
     "name": "stderr",
     "output_type": "stream",
     "text": [
      "WARNING:mrjob.runner:\n",
      "WARNING:mrjob.runner:PLEASE NOTE: Starting in mrjob v0.5.0, protocols will be strict by default. It's recommended you run your job with --strict-protocols or set up mrjob.conf as described at https://pythonhosted.org/mrjob/whats-new.html#ready-for-strict-protocols\n",
      "WARNING:mrjob.runner:\n"
     ]
    },
    {
     "name": "stdout",
     "output_type": "stream",
     "text": [
      "\n",
      "\n",
      "There are 98654 records\n"
     ]
    }
   ],
   "source": [
    "%reload_ext autoreload\n",
    "%autoreload 2\n",
    "\n",
    "from reducersideinnerjoin import innerjoin\n",
    "\n",
    "mr_job = innerjoin(args=['anonymous-msweb.data_mod','anonymous-msweb.data_attr'])\n",
    "\n",
    "with mr_job.make_runner() as runner: \n",
    "    runner.run()\n",
    "    count = 0\n",
    "    # stream_output: get access of the output \n",
    "    for line in runner.stream_output():\n",
    "        key,value =  mr_job.parse_output_line(line)\n",
    "        count = count + 1\n",
    "print \"\\n\"\n",
    "print \"There are %s records\" %count"
   ]
  },
  {
   "cell_type": "code",
   "execution_count": 66,
   "metadata": {
    "collapsed": false
   },
   "outputs": [
    {
     "name": "stderr",
     "output_type": "stream",
     "text": [
      "WARNING:mrjob.runner:\n",
      "WARNING:mrjob.runner:PLEASE NOTE: Starting in mrjob v0.5.0, protocols will be strict by default. It's recommended you run your job with --strict-protocols or set up mrjob.conf as described at https://pythonhosted.org/mrjob/whats-new.html#ready-for-strict-protocols\n",
      "WARNING:mrjob.runner:\n"
     ]
    },
    {
     "name": "stdout",
     "output_type": "stream",
     "text": [
      "\n",
      "\n",
      "There are 98654 records\n"
     ]
    }
   ],
   "source": [
    "%reload_ext autoreload\n",
    "%autoreload 2\n",
    "\n",
    "from reducersideleftjoin import leftjoin\n",
    "\n",
    "mr_job = leftjoin(args=['anonymous-msweb.data_mod','anonymous-msweb.data_attr'])\n",
    "\n",
    "with mr_job.make_runner() as runner: \n",
    "    runner.run()\n",
    "    count = 0\n",
    "    # stream_output: get access of the output \n",
    "    for line in runner.stream_output():\n",
    "        key,value =  mr_job.parse_output_line(line)\n",
    "        count = count + 1\n",
    "print \"\\n\"\n",
    "print \"There are %s records\" %count"
   ]
  },
  {
   "cell_type": "code",
   "execution_count": 68,
   "metadata": {
    "collapsed": false
   },
   "outputs": [
    {
     "name": "stderr",
     "output_type": "stream",
     "text": [
      "WARNING:mrjob.runner:\n",
      "WARNING:mrjob.runner:PLEASE NOTE: Starting in mrjob v0.5.0, protocols will be strict by default. It's recommended you run your job with --strict-protocols or set up mrjob.conf as described at https://pythonhosted.org/mrjob/whats-new.html#ready-for-strict-protocols\n",
      "WARNING:mrjob.runner:\n"
     ]
    },
    {
     "name": "stdout",
     "output_type": "stream",
     "text": [
      "\n",
      "\n",
      "There are 98663 records\n"
     ]
    }
   ],
   "source": [
    "%reload_ext autoreload\n",
    "%autoreload 2\n",
    "\n",
    "from reducersiderightjoin import rightjoin\n",
    "\n",
    "mr_job = rightjoin(args=['anonymous-msweb.data_mod','anonymous-msweb.data_attr'])\n",
    "\n",
    "with mr_job.make_runner() as runner: \n",
    "    runner.run()\n",
    "    count = 0\n",
    "    # stream_output: get access of the output \n",
    "    for line in runner.stream_output():\n",
    "        key,value =  mr_job.parse_output_line(line)\n",
    "        count = count + 1\n",
    "print \"\\n\"\n",
    "print \"There are %s records\" %count"
   ]
  }
 ],
 "metadata": {
  "kernelspec": {
   "display_name": "Python 2",
   "language": "python",
   "name": "python2"
  },
  "language_info": {
   "codemirror_mode": {
    "name": "ipython",
    "version": 2
   },
   "file_extension": ".py",
   "mimetype": "text/x-python",
   "name": "python",
   "nbconvert_exporter": "python",
   "pygments_lexer": "ipython2",
   "version": "2.7.10"
  }
 },
 "nbformat": 4,
 "nbformat_minor": 0
}
