{
 "cells": [
  {
   "cell_type": "markdown",
   "metadata": {},
   "source": [
    "## MT0\n",
    "\n",
    "The correct options are:\n",
    "    \n",
    "(a) and (c)"
   ]
  },
  {
   "cell_type": "markdown",
   "metadata": {},
   "source": [
    "## MT1\n",
    "\n",
    "The answer is d) None of the above\n"
   ]
  },
  {
   "cell_type": "markdown",
   "metadata": {},
   "source": [
    "## MT2\n",
    "\n",
    "(d) All of the above\n"
   ]
  },
  {
   "cell_type": "markdown",
   "metadata": {},
   "source": [
    "## MT3\n",
    "\n",
    "The answer is (b) It prevents zero-products in the posterior distribution.\n",
    "\n",
    "Laplace smoothing helps prevent the problem of overfitting the training data."
   ]
  },
  {
   "cell_type": "markdown",
   "metadata": {},
   "source": [
    "## MT4\n",
    "\n",
    "The answer is (b) Increased variance and decreased bias\n"
   ]
  },
  {
   "cell_type": "markdown",
   "metadata": {},
   "source": [
    "## MT5. Combiners can be integral to the successful utilization of the Hadoop shuffle.\n",
    "## This utility is as a result of\n",
    "\n",
    "**Answer is (c) minimization of network traffic**"
   ]
  },
  {
   "cell_type": "markdown",
   "metadata": {},
   "source": [
    "## MT6"
   ]
  },
  {
   "cell_type": "markdown",
   "metadata": {},
   "source": [
    "## MT 10"
   ]
  },
  {
   "cell_type": "code",
   "execution_count": 31,
   "metadata": {
    "collapsed": false
   },
   "outputs": [
    {
     "name": "stdout",
     "output_type": "stream",
     "text": [
      "Overwriting Kmeans.py\n"
     ]
    }
   ],
   "source": [
    "%%writefile Kmeans.py\n",
    "from numpy import argmin, array, random\n",
    "from mrjob.job import MRJob\n",
    "from mrjob.step import MRJobStep\n",
    "from itertools import chain\n",
    "import math\n",
    "\n",
    "#Calculate find the nearest centroid for data point \n",
    "def MinDist(datapoint, centroid_points):\n",
    "    datapoint = array(datapoint)\n",
    "    centroid_points = array(centroid_points)\n",
    "    diff = datapoint - centroid_points \n",
    "    diffsq = diff**2\n",
    "    \n",
    "    distances = (diffsq.sum(axis = 1))**0.5\n",
    "    # Get the nearest centroid for each instance\n",
    "    min_idx = argmin(distances)\n",
    "    return min_idx\n",
    "\n",
    "#Check whether centroids converge\n",
    "def stop_criterion(centroid_points_old, centroid_points_new,T):\n",
    "    oldvalue = list(chain(*centroid_points_old))\n",
    "    newvalue = list(chain(*centroid_points_new))\n",
    "    Diff = [abs(x-y) for x, y in zip(oldvalue, newvalue)]\n",
    "    Flag = True\n",
    "    for i in Diff:\n",
    "        if(i>T):\n",
    "            Flag = False\n",
    "            break\n",
    "    return Flag\n",
    "\n",
    "\n",
    "class MRKmeans(MRJob):\n",
    "    centroid_points=[]\n",
    "    k=3    \n",
    "    def steps(self):\n",
    "        return [\n",
    "            MRJobStep(mapper_init = self.mapper_init, mapper=self.mapper,combiner = self.combiner,reducer=self.reducer)\n",
    "               ]\n",
    "    #load centroids info from file\n",
    "    def mapper_init(self):\n",
    "        self.centroid_points = [map(float,s.split('\\n')[0].split(',')) for s in open(\"Centroids.txt\").readlines()]\n",
    "        open('Centroids.txt', 'w').close()\n",
    "    #load data and output the nearest centroid index and data point \n",
    "    def mapper(self, _, line):\n",
    "        D = (map(float,line.split(',')))\n",
    "        idx = MinDist(D,self.centroid_points)\n",
    "        #Solution for Mid-term\n",
    "        #yield int(idx), (D[0],D[1],1)\n",
    "        weight_inv = math.sqrt(D[0]*D[0] + (D[1]*D[1]))\n",
    "        weight = 1/float(weight_inv)\n",
    "        yield int(idx),(D[0]*weight,D[1]*weight,1*weight)\n",
    "        \n",
    "    #Combine sum of data points locally\n",
    "    def combiner(self, idx, inputdata):\n",
    "        sumx = sumy = num = 0\n",
    "        for x,y,n in inputdata:\n",
    "            num = num + n\n",
    "            sumx = sumx + x\n",
    "            sumy = sumy + y\n",
    "        yield int(idx),(sumx,sumy,num)\n",
    "    #Aggregate sum for each cluster and then calculate the new centroids\n",
    "    def reducer(self, idx, inputdata): \n",
    "        centroids = []\n",
    "        num = [0]*self.k \n",
    "        distances = 0\n",
    "        for i in range(self.k):\n",
    "            centroids.append([0,0])\n",
    "        for x, y, n in inputdata:\n",
    "            num[idx] = num[idx] + n\n",
    "            centroids[idx][0] = centroids[idx][0] + x\n",
    "            centroids[idx][1] = centroids[idx][1] + y\n",
    "        #centroids[idx][0] = centroids[idx][0]\n",
    "        #centroids[idx][1] = centroids[idx][1]       \n",
    "        centroids[idx][0] = centroids[idx][0]/num[idx]\n",
    "        centroids[idx][1] = centroids[idx][1]/num[idx]\n",
    "        with open('Centroids.txt', 'a') as f:\n",
    "            f.writelines(str(centroids[idx][0]) + ',' + str(centroids[idx][1]) + '\\n')\n",
    "        yield idx,(centroids[idx][0],centroids[idx][1])\n",
    "        \n",
    "if __name__ == '__main__':\n",
    "    MRKmeans.run()"
   ]
  },
  {
   "cell_type": "code",
   "execution_count": 32,
   "metadata": {
    "collapsed": false
   },
   "outputs": [
    {
     "name": "stderr",
     "output_type": "stream",
     "text": [
      "WARNING:mrjob.runner:\n",
      "WARNING:mrjob.runner:PLEASE NOTE: Starting in mrjob v0.5.0, protocols will be strict by default. It's recommended you run your job with --strict-protocols or set up mrjob.conf as described at https://pythonhosted.org/mrjob/whats-new.html#ready-for-strict-protocols\n",
      "WARNING:mrjob.runner:\n",
      "WARNING:mrjob.step:MRJobStep has been renamed to MRStep. The old name will be removed in v0.5.0.\n",
      "WARNING:mrjob.step:MRJobStep has been renamed to MRStep. The old name will be removed in v0.5.0.\n",
      "WARNING:mrjob.step:MRJobStep has been renamed to MRStep. The old name will be removed in v0.5.0.\n",
      "WARNING:mrjob.step:MRJobStep has been renamed to MRStep. The old name will be removed in v0.5.0.\n",
      "WARNING:mrjob.step:MRJobStep has been renamed to MRStep. The old name will be removed in v0.5.0.\n",
      "WARNING:mrjob.step:MRJobStep has been renamed to MRStep. The old name will be removed in v0.5.0.\n",
      "WARNING:mrjob.step:MRJobStep has been renamed to MRStep. The old name will be removed in v0.5.0.\n"
     ]
    },
    {
     "name": "stdout",
     "output_type": "stream",
     "text": [
      "iteration1:\n",
      "0"
     ]
    },
    {
     "name": "stderr",
     "output_type": "stream",
     "text": [
      "WARNING:mrjob.runner:\n",
      "WARNING:mrjob.runner:PLEASE NOTE: Starting in mrjob v0.5.0, protocols will be strict by default. It's recommended you run your job with --strict-protocols or set up mrjob.conf as described at https://pythonhosted.org/mrjob/whats-new.html#ready-for-strict-protocols\n",
      "WARNING:mrjob.runner:\n",
      "WARNING:mrjob.step:MRJobStep has been renamed to MRStep. The old name will be removed in v0.5.0.\n",
      "WARNING:mrjob.step:MRJobStep has been renamed to MRStep. The old name will be removed in v0.5.0.\n",
      "WARNING:mrjob.step:MRJobStep has been renamed to MRStep. The old name will be removed in v0.5.0.\n",
      "WARNING:mrjob.step:MRJobStep has been renamed to MRStep. The old name will be removed in v0.5.0.\n",
      "WARNING:mrjob.step:MRJobStep has been renamed to MRStep. The old name will be removed in v0.5.0.\n",
      "WARNING:mrjob.step:MRJobStep has been renamed to MRStep. The old name will be removed in v0.5.0.\n",
      "WARNING:mrjob.step:MRJobStep has been renamed to MRStep. The old name will be removed in v0.5.0.\n"
     ]
    },
    {
     "name": "stdout",
     "output_type": "stream",
     "text": [
      " [-2.6816121341554244, 0.4387800225117981]\n",
      "1 [5.203939274722273, 0.18108381085421293]\n",
      "2 [0.2798236662882328, 5.147133354098043]\n",
      "\n",
      "\n",
      "iteration2:\n",
      "0"
     ]
    },
    {
     "name": "stderr",
     "output_type": "stream",
     "text": [
      "WARNING:mrjob.runner:\n",
      "WARNING:mrjob.runner:PLEASE NOTE: Starting in mrjob v0.5.0, protocols will be strict by default. It's recommended you run your job with --strict-protocols or set up mrjob.conf as described at https://pythonhosted.org/mrjob/whats-new.html#ready-for-strict-protocols\n",
      "WARNING:mrjob.runner:\n",
      "WARNING:mrjob.step:MRJobStep has been renamed to MRStep. The old name will be removed in v0.5.0.\n",
      "WARNING:mrjob.step:MRJobStep has been renamed to MRStep. The old name will be removed in v0.5.0.\n",
      "WARNING:mrjob.step:MRJobStep has been renamed to MRStep. The old name will be removed in v0.5.0.\n",
      "WARNING:mrjob.step:MRJobStep has been renamed to MRStep. The old name will be removed in v0.5.0.\n",
      "WARNING:mrjob.step:MRJobStep has been renamed to MRStep. The old name will be removed in v0.5.0.\n",
      "WARNING:mrjob.step:MRJobStep has been renamed to MRStep. The old name will be removed in v0.5.0.\n",
      "WARNING:mrjob.step:MRJobStep has been renamed to MRStep. The old name will be removed in v0.5.0.\n"
     ]
    },
    {
     "name": "stdout",
     "output_type": "stream",
     "text": [
      " [-4.499453073691768, 0.1017143951710932]\n",
      "1 [4.7342756092123475, -0.035081051175915486]\n",
      "2 [0.10883719601553689, 4.724161916864905]\n",
      "\n",
      "\n",
      "iteration3:\n",
      "0"
     ]
    },
    {
     "name": "stderr",
     "output_type": "stream",
     "text": [
      "WARNING:mrjob.runner:\n",
      "WARNING:mrjob.runner:PLEASE NOTE: Starting in mrjob v0.5.0, protocols will be strict by default. It's recommended you run your job with --strict-protocols or set up mrjob.conf as described at https://pythonhosted.org/mrjob/whats-new.html#ready-for-strict-protocols\n",
      "WARNING:mrjob.runner:\n",
      "WARNING:mrjob.step:MRJobStep has been renamed to MRStep. The old name will be removed in v0.5.0.\n",
      "WARNING:mrjob.step:MRJobStep has been renamed to MRStep. The old name will be removed in v0.5.0.\n",
      "WARNING:mrjob.step:MRJobStep has been renamed to MRStep. The old name will be removed in v0.5.0.\n",
      "WARNING:mrjob.step:MRJobStep has been renamed to MRStep. The old name will be removed in v0.5.0.\n",
      "WARNING:mrjob.step:MRJobStep has been renamed to MRStep. The old name will be removed in v0.5.0.\n",
      "WARNING:mrjob.step:MRJobStep has been renamed to MRStep. The old name will be removed in v0.5.0.\n",
      "WARNING:mrjob.step:MRJobStep has been renamed to MRStep. The old name will be removed in v0.5.0.\n"
     ]
    },
    {
     "name": "stdout",
     "output_type": "stream",
     "text": [
      " [-4.618233072986696, 0.01209570625589213]\n",
      "1 [4.7342756092123475, -0.035081051175915486]\n",
      "2 [0.05163332299537063, 4.637075828035132]\n",
      "\n",
      "\n",
      "iteration4:\n",
      "0"
     ]
    },
    {
     "name": "stderr",
     "output_type": "stream",
     "text": [
      "WARNING:mrjob.runner:\n",
      "WARNING:mrjob.runner:PLEASE NOTE: Starting in mrjob v0.5.0, protocols will be strict by default. It's recommended you run your job with --strict-protocols or set up mrjob.conf as described at https://pythonhosted.org/mrjob/whats-new.html#ready-for-strict-protocols\n",
      "WARNING:mrjob.runner:\n",
      "WARNING:mrjob.step:MRJobStep has been renamed to MRStep. The old name will be removed in v0.5.0.\n",
      "WARNING:mrjob.step:MRJobStep has been renamed to MRStep. The old name will be removed in v0.5.0.\n",
      "WARNING:mrjob.step:MRJobStep has been renamed to MRStep. The old name will be removed in v0.5.0.\n",
      "WARNING:mrjob.step:MRJobStep has been renamed to MRStep. The old name will be removed in v0.5.0.\n",
      "WARNING:mrjob.step:MRJobStep has been renamed to MRStep. The old name will be removed in v0.5.0.\n",
      "WARNING:mrjob.step:MRJobStep has been renamed to MRStep. The old name will be removed in v0.5.0.\n",
      "WARNING:mrjob.step:MRJobStep has been renamed to MRStep. The old name will be removed in v0.5.0.\n"
     ]
    },
    {
     "name": "stdout",
     "output_type": "stream",
     "text": [
      " [-4.618233072986696, 0.01209570625589213]\n",
      "1 [4.7342756092123475, -0.035081051175915486]\n",
      "2 [0.05163332299537063, 4.637075828035132]\n",
      "\n",
      "\n",
      "iteration5:\n",
      "0"
     ]
    },
    {
     "name": "stderr",
     "output_type": "stream",
     "text": [
      "WARNING:mrjob.runner:\n",
      "WARNING:mrjob.runner:PLEASE NOTE: Starting in mrjob v0.5.0, protocols will be strict by default. It's recommended you run your job with --strict-protocols or set up mrjob.conf as described at https://pythonhosted.org/mrjob/whats-new.html#ready-for-strict-protocols\n",
      "WARNING:mrjob.runner:\n",
      "WARNING:mrjob.step:MRJobStep has been renamed to MRStep. The old name will be removed in v0.5.0.\n",
      "WARNING:mrjob.step:MRJobStep has been renamed to MRStep. The old name will be removed in v0.5.0.\n",
      "WARNING:mrjob.step:MRJobStep has been renamed to MRStep. The old name will be removed in v0.5.0.\n",
      "WARNING:mrjob.step:MRJobStep has been renamed to MRStep. The old name will be removed in v0.5.0.\n",
      "WARNING:mrjob.step:MRJobStep has been renamed to MRStep. The old name will be removed in v0.5.0.\n",
      "WARNING:mrjob.step:MRJobStep has been renamed to MRStep. The old name will be removed in v0.5.0.\n",
      "WARNING:mrjob.step:MRJobStep has been renamed to MRStep. The old name will be removed in v0.5.0.\n"
     ]
    },
    {
     "name": "stdout",
     "output_type": "stream",
     "text": [
      " [-4.618233072986696, 0.01209570625589213]\n",
      "1 [4.7342756092123475, -0.035081051175915486]\n",
      "2 [0.05163332299537063, 4.637075828035132]\n",
      "\n",
      "\n",
      "iteration6:\n",
      "0"
     ]
    },
    {
     "name": "stderr",
     "output_type": "stream",
     "text": [
      "WARNING:mrjob.runner:\n",
      "WARNING:mrjob.runner:PLEASE NOTE: Starting in mrjob v0.5.0, protocols will be strict by default. It's recommended you run your job with --strict-protocols or set up mrjob.conf as described at https://pythonhosted.org/mrjob/whats-new.html#ready-for-strict-protocols\n",
      "WARNING:mrjob.runner:\n",
      "WARNING:mrjob.step:MRJobStep has been renamed to MRStep. The old name will be removed in v0.5.0.\n",
      "WARNING:mrjob.step:MRJobStep has been renamed to MRStep. The old name will be removed in v0.5.0.\n",
      "WARNING:mrjob.step:MRJobStep has been renamed to MRStep. The old name will be removed in v0.5.0.\n",
      "WARNING:mrjob.step:MRJobStep has been renamed to MRStep. The old name will be removed in v0.5.0.\n",
      "WARNING:mrjob.step:MRJobStep has been renamed to MRStep. The old name will be removed in v0.5.0.\n",
      "WARNING:mrjob.step:MRJobStep has been renamed to MRStep. The old name will be removed in v0.5.0.\n",
      "WARNING:mrjob.step:MRJobStep has been renamed to MRStep. The old name will be removed in v0.5.0.\n"
     ]
    },
    {
     "name": "stdout",
     "output_type": "stream",
     "text": [
      " [-4.618233072986696, 0.01209570625589213]\n",
      "1 [4.7342756092123475, -0.035081051175915486]\n",
      "2 [0.05163332299537063, 4.637075828035132]\n",
      "\n",
      "\n",
      "iteration7:\n",
      "0"
     ]
    },
    {
     "name": "stderr",
     "output_type": "stream",
     "text": [
      "WARNING:mrjob.runner:\n",
      "WARNING:mrjob.runner:PLEASE NOTE: Starting in mrjob v0.5.0, protocols will be strict by default. It's recommended you run your job with --strict-protocols or set up mrjob.conf as described at https://pythonhosted.org/mrjob/whats-new.html#ready-for-strict-protocols\n",
      "WARNING:mrjob.runner:\n",
      "WARNING:mrjob.step:MRJobStep has been renamed to MRStep. The old name will be removed in v0.5.0.\n",
      "WARNING:mrjob.step:MRJobStep has been renamed to MRStep. The old name will be removed in v0.5.0.\n",
      "WARNING:mrjob.step:MRJobStep has been renamed to MRStep. The old name will be removed in v0.5.0.\n",
      "WARNING:mrjob.step:MRJobStep has been renamed to MRStep. The old name will be removed in v0.5.0.\n",
      "WARNING:mrjob.step:MRJobStep has been renamed to MRStep. The old name will be removed in v0.5.0.\n",
      "WARNING:mrjob.step:MRJobStep has been renamed to MRStep. The old name will be removed in v0.5.0.\n",
      "WARNING:mrjob.step:MRJobStep has been renamed to MRStep. The old name will be removed in v0.5.0.\n"
     ]
    },
    {
     "name": "stdout",
     "output_type": "stream",
     "text": [
      " [-4.618233072986696, 0.01209570625589213]\n",
      "1 [4.7342756092123475, -0.035081051175915486]\n",
      "2 [0.05163332299537063, 4.637075828035132]\n",
      "\n",
      "\n",
      "iteration8:\n",
      "0"
     ]
    },
    {
     "name": "stderr",
     "output_type": "stream",
     "text": [
      "WARNING:mrjob.runner:\n",
      "WARNING:mrjob.runner:PLEASE NOTE: Starting in mrjob v0.5.0, protocols will be strict by default. It's recommended you run your job with --strict-protocols or set up mrjob.conf as described at https://pythonhosted.org/mrjob/whats-new.html#ready-for-strict-protocols\n",
      "WARNING:mrjob.runner:\n",
      "WARNING:mrjob.step:MRJobStep has been renamed to MRStep. The old name will be removed in v0.5.0.\n",
      "WARNING:mrjob.step:MRJobStep has been renamed to MRStep. The old name will be removed in v0.5.0.\n",
      "WARNING:mrjob.step:MRJobStep has been renamed to MRStep. The old name will be removed in v0.5.0.\n",
      "WARNING:mrjob.step:MRJobStep has been renamed to MRStep. The old name will be removed in v0.5.0.\n",
      "WARNING:mrjob.step:MRJobStep has been renamed to MRStep. The old name will be removed in v0.5.0.\n",
      "WARNING:mrjob.step:MRJobStep has been renamed to MRStep. The old name will be removed in v0.5.0.\n",
      "WARNING:mrjob.step:MRJobStep has been renamed to MRStep. The old name will be removed in v0.5.0.\n"
     ]
    },
    {
     "name": "stdout",
     "output_type": "stream",
     "text": [
      " [-4.618233072986696, 0.01209570625589213]\n",
      "1 [4.7342756092123475, -0.035081051175915486]\n",
      "2 [0.05163332299537063, 4.637075828035132]\n",
      "\n",
      "\n",
      "iteration9:\n",
      "0"
     ]
    },
    {
     "name": "stderr",
     "output_type": "stream",
     "text": [
      "WARNING:mrjob.runner:\n",
      "WARNING:mrjob.runner:PLEASE NOTE: Starting in mrjob v0.5.0, protocols will be strict by default. It's recommended you run your job with --strict-protocols or set up mrjob.conf as described at https://pythonhosted.org/mrjob/whats-new.html#ready-for-strict-protocols\n",
      "WARNING:mrjob.runner:\n",
      "WARNING:mrjob.step:MRJobStep has been renamed to MRStep. The old name will be removed in v0.5.0.\n",
      "WARNING:mrjob.step:MRJobStep has been renamed to MRStep. The old name will be removed in v0.5.0.\n",
      "WARNING:mrjob.step:MRJobStep has been renamed to MRStep. The old name will be removed in v0.5.0.\n",
      "WARNING:mrjob.step:MRJobStep has been renamed to MRStep. The old name will be removed in v0.5.0.\n",
      "WARNING:mrjob.step:MRJobStep has been renamed to MRStep. The old name will be removed in v0.5.0.\n",
      "WARNING:mrjob.step:MRJobStep has been renamed to MRStep. The old name will be removed in v0.5.0.\n",
      "WARNING:mrjob.step:MRJobStep has been renamed to MRStep. The old name will be removed in v0.5.0.\n"
     ]
    },
    {
     "name": "stdout",
     "output_type": "stream",
     "text": [
      " [-4.618233072986696, 0.01209570625589213]\n",
      "1 [4.7342756092123475, -0.035081051175915486]\n",
      "2 [0.05163332299537063, 4.637075828035132]\n",
      "\n",
      "\n",
      "iteration10:\n",
      "0 [-4.618233072986696, 0.01209570625589213]\n",
      "1 [4.7342756092123475, -0.035081051175915486]\n",
      "2 [0.05163332299537063, 4.637075828035132]\n",
      "\n",
      "\n",
      "Centroids\n",
      "\n",
      "[[-4.618233072986696, 0.01209570625589213], [4.7342756092123475, -0.035081051175915486], [0.05163332299537063, 4.637075828035132]]\n"
     ]
    }
   ],
   "source": [
    "%reload_ext autoreload\n",
    "%autoreload 2\n",
    "\n",
    "from numpy import random, array\n",
    "from Kmeans import MRKmeans, stop_criterion\n",
    "mr_job = MRKmeans(args=['Kmeandata.csv','--file','Centroids.txt'])\n",
    "\n",
    "#Geneate initial centroids\n",
    "centroid_points = [[0,0],[6,3],[3,6]]\n",
    "k = 3\n",
    "with open('Centroids.txt', 'w+') as f:\n",
    "        f.writelines(','.join(str(j) for j in i) + '\\n' for i in centroid_points)\n",
    "\n",
    "# Update centroids iteratively\n",
    "for i in range(10):\n",
    "    # save previous centoids to check convergency\n",
    "    centroid_points_old = centroid_points[:]\n",
    "    print \"iteration\"+str(i+1)+\":\"\n",
    "    with mr_job.make_runner() as runner: \n",
    "        runner.run()\n",
    "        # stream_output: get access of the output \n",
    "        for line in runner.stream_output():\n",
    "            key,value =  mr_job.parse_output_line(line)\n",
    "            print key, value\n",
    "            centroid_points[key] = value\n",
    "    print \"\\n\"\n",
    "    i = i + 1\n",
    "print \"Centroids\\n\"\n",
    "print centroid_points\n"
   ]
  },
  {
   "cell_type": "markdown",
   "metadata": {},
   "source": [
    "## MT 11"
   ]
  },
  {
   "cell_type": "code",
   "execution_count": 35,
   "metadata": {
    "collapsed": false
   },
   "outputs": [
    {
     "name": "stdout",
     "output_type": "stream",
     "text": [
      "Overwriting Kmeans.py\n"
     ]
    }
   ],
   "source": [
    "%%writefile Kmeans.py\n",
    "from numpy import argmin, array, random\n",
    "from mrjob.job import MRJob\n",
    "from mrjob.step import MRJobStep\n",
    "from itertools import chain\n",
    "import math\n",
    "\n",
    "#Calculate find the nearest centroid for data point \n",
    "def MinDist(datapoint, centroid_points):\n",
    "    datapoint = array(datapoint)\n",
    "    centroid_points = array(centroid_points)\n",
    "    diff = datapoint - centroid_points \n",
    "    diffsq = diff**2\n",
    "    \n",
    "    distances = (diffsq.sum(axis = 1))**0.5\n",
    "    # Get the nearest centroid for each instance\n",
    "    min_idx = argmin(distances)\n",
    "    return min_idx\n",
    "\n",
    "#Check whether centroids converge\n",
    "def stop_criterion(centroid_points_old, centroid_points_new,T):\n",
    "    oldvalue = list(chain(*centroid_points_old))\n",
    "    newvalue = list(chain(*centroid_points_new))\n",
    "    Diff = [abs(x-y) for x, y in zip(oldvalue, newvalue)]\n",
    "    Flag = True\n",
    "    for i in Diff:\n",
    "        if(i>T):\n",
    "            Flag = False\n",
    "            break\n",
    "    return Flag\n",
    "\n",
    "\n",
    "class MRKmeans(MRJob):\n",
    "    centroid_points=[]\n",
    "    k=3    \n",
    "    def steps(self):\n",
    "        #Using a two step MRjob to compute the average weighted distance\n",
    "        return [\n",
    "            MRJobStep(mapper_init = self.mapper_init,mapper = self.mapper_2nd,reducer = self.reducer_2nd)\n",
    "               ]\n",
    "    #load centroids info from file\n",
    "    def mapper_init(self):\n",
    "        self.centroid_points = [map(float,s.split('\\n')[0].split(',')) for s in open(\"Centroids.txt\").readlines()]\n",
    "    #load data and output the nearest centroid index and data point \n",
    "    def mapper(self, _, line):\n",
    "        D = (map(float,line.split(',')))\n",
    "        idx = MinDist(D,self.centroid_points)\n",
    "        #Solution for Mid-term\n",
    "        #yield int(idx), (D[0],D[1],1)\n",
    "        weight_inv = math.sqrt(D[0]*D[0] + (D[1]*D[1]))\n",
    "        weight = 1/float(weight_inv)\n",
    "        yield int(idx),(D[0]*weight,D[1]*weight,1*weight)\n",
    "           \n",
    "    def mapper_2nd(self, _, line):\n",
    "        D = (map(float,line.split(',')))\n",
    "        idx = MinDist(D,self.centroid_points)\n",
    "        #Solution for Mid-term\n",
    "        #yield int(idx), (D[0],D[1],1)\n",
    "        weight_inv = math.sqrt(D[0]*D[0] + (D[1]*D[1]))\n",
    "        weight = 1/float(weight_inv)\n",
    "        x1_dist = (D[0] - self.centroid_points[idx][0])\n",
    "        x2_dist = (D[1] - self.centroid_points[idx][1])\n",
    "        x_dist = math.sqrt(x1_dist*x1_dist + x2_dist*x2_dist)\n",
    "        yield None,(x_dist,weight)\n",
    "        \n",
    "    def reducer_2nd(self, _, inputdata): \n",
    "        weighted_dist = 0\n",
    "        num = 0  \n",
    "        distances = 0\n",
    "        for x, n in inputdata:\n",
    "            weighted_dist = weighted_dist + x\n",
    "            num = num+n\n",
    "        \n",
    "        avg_weighted_dist = weighted_dist/num\n",
    "        yield None,(avg_weighted_dist)\n",
    "        \n",
    "if __name__ == '__main__':\n",
    "    MRKmeans.run()"
   ]
  },
  {
   "cell_type": "code",
   "execution_count": 37,
   "metadata": {
    "collapsed": false
   },
   "outputs": [
    {
     "name": "stderr",
     "output_type": "stream",
     "text": [
      "WARNING:mrjob.runner:\n",
      "WARNING:mrjob.runner:PLEASE NOTE: Starting in mrjob v0.5.0, protocols will be strict by default. It's recommended you run your job with --strict-protocols or set up mrjob.conf as described at https://pythonhosted.org/mrjob/whats-new.html#ready-for-strict-protocols\n",
      "WARNING:mrjob.runner:\n",
      "WARNING:mrjob.step:MRJobStep has been renamed to MRStep. The old name will be removed in v0.5.0.\n",
      "WARNING:mrjob.step:MRJobStep has been renamed to MRStep. The old name will be removed in v0.5.0.\n",
      "WARNING:mrjob.step:MRJobStep has been renamed to MRStep. The old name will be removed in v0.5.0.\n",
      "WARNING:mrjob.step:MRJobStep has been renamed to MRStep. The old name will be removed in v0.5.0.\n",
      "WARNING:mrjob.step:MRJobStep has been renamed to MRStep. The old name will be removed in v0.5.0.\n"
     ]
    },
    {
     "name": "stdout",
     "output_type": "stream",
     "text": [
      "iteration1:\n",
      "None 7.79981327508\n",
      "\n",
      "\n"
     ]
    }
   ],
   "source": [
    "%reload_ext autoreload\n",
    "%autoreload 2\n",
    "\n",
    "from numpy import random, array\n",
    "from Kmeans import MRKmeans, stop_criterion\n",
    "mr_job = MRKmeans(args=['Kmeandata.csv','--file','Centroids.txt'])\n",
    "\n",
    "# Update centroids iteratively\n",
    "for i in range(1):\n",
    "    # save previous centoids to check convergency\n",
    "    centroid_points_old = centroid_points[:]\n",
    "    print \"iteration\"+str(i+1)+\":\"\n",
    "    with mr_job.make_runner() as runner: \n",
    "        runner.run()\n",
    "        # stream_output: get access of the output \n",
    "        for line in runner.stream_output():\n",
    "            key,value =  mr_job.parse_output_line(line)\n",
    "            print key, value\n",
    "    print \"\\n\"\n",
    "    i = i + 1"
   ]
  },
  {
   "cell_type": "code",
   "execution_count": null,
   "metadata": {
    "collapsed": true
   },
   "outputs": [],
   "source": []
  }
 ],
 "metadata": {
  "kernelspec": {
   "display_name": "Python 2",
   "language": "python",
   "name": "python2"
  },
  "language_info": {
   "codemirror_mode": {
    "name": "ipython",
    "version": 2
   },
   "file_extension": ".py",
   "mimetype": "text/x-python",
   "name": "python",
   "nbconvert_exporter": "python",
   "pygments_lexer": "ipython2",
   "version": "2.7.10"
  }
 },
 "nbformat": 4,
 "nbformat_minor": 0
}
